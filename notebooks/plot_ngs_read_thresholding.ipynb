{
  "cells": [
    {
      "cell_type": "code",
      "execution_count": 2,
      "metadata": {
        "executionInfo": {
          "elapsed": 5,
          "status": "ok",
          "timestamp": 1707491992466,
          "user": {
            "displayName": "",
            "userId": ""
          },
          "user_tz": 300
        },
        "id": "rrHFN1BJiOg7"
      },
      "outputs": [],
      "source": [
        "# Copyright 2023 DeepMind Technologies Limited\n",
        "#\n",
        "# Licensed under the Apache License, Version 2.0 (the \"License\");\n",
        "# you may not use this file except in compliance with the License.\n",
        "# You may obtain a copy of the License at\n",
        "#\n",
        "#    http://www.apache.org/licenses/LICENSE-2.0\n",
        "#\n",
        "# Unless required by applicable law or agreed to in writing, software\n",
        "# distributed under the License is distributed on an \"AS IS\" BASIS,\n",
        "# WITHOUT WARRANTIES OR CONDITIONS OF ANY KIND, either express or implied.\n",
        "# See the License for the specific language governing permissions and\n",
        "# limitations under the License.\n",
        "# =============================================================================="
      ]
    },
    {
      "cell_type": "markdown",
      "metadata": {
        "id": "eGdgZGqCD4Ti"
      },
      "source": [
        "# Imports"
      ]
    },
    {
      "cell_type": "code",
      "execution_count": 3,
      "metadata": {
        "executionInfo": {
          "elapsed": 770,
          "status": "ok",
          "timestamp": 1707491993364,
          "user": {
            "displayName": "",
            "userId": ""
          },
          "user_tz": 300
        },
        "id": "EnkMhmoQwH7v"
      },
      "outputs": [],
      "source": [
        "!pip install -q --no-warn-conflicts https://github.com/google-deepmind/nuclease-design.git\n"
      ]
    },
    {
      "cell_type": "code",
      "execution_count": 18,
      "metadata": {
        "executionInfo": {
          "elapsed": 94,
          "status": "ok",
          "timestamp": 1707493816002,
          "user": {
            "displayName": "",
            "userId": ""
          },
          "user_tz": 300
        },
        "id": "ApBc2ks6zNIv"
      },
      "outputs": [],
      "source": [
        "from multiprocessing import pool as pool_lib\n",
        "\n",
        "from nuclease_design import preprocessing_utils\n",
        "from nuclease_design import constants\n",
        "from nuclease_design import plotting\n"
      ]
    },
    {
      "cell_type": "markdown",
      "metadata": {
        "id": "yjVIwM43KUeD"
      },
      "source": [
        "# Constants"
      ]
    },
    {
      "cell_type": "code",
      "execution_count": 5,
      "metadata": {
        "executionInfo": {
          "elapsed": 56,
          "status": "ok",
          "timestamp": 1707491995058,
          "user": {
            "displayName": "",
            "userId": ""
          },
          "user_tz": 300
        },
        "id": "QSRoZsxPYIbg"
      },
      "outputs": [],
      "source": [
        "kwargs = {\n",
        "    'g4': constants.G4_INFO,\n",
        "    'g3': constants.G3_INFO,\n",
        "    'g2': constants.G2_INFO,\n",
        "    'g1': constants.G1_INFO,\n",
        "}"
      ]
    },
    {
      "cell_type": "code",
      "execution_count": 6,
      "metadata": {
        "executionInfo": {
          "elapsed": 59,
          "status": "ok",
          "timestamp": 1707491995275,
          "user": {
            "displayName": "",
            "userId": ""
          },
          "user_tz": 300
        },
        "id": "mjv88yjkSYuJ"
      },
      "outputs": [],
      "source": [
        "DATA_DIR = constants.DATA_DIR"
      ]
    },
    {
      "cell_type": "markdown",
      "metadata": {
        "id": "Xg_xNeJlKWRT"
      },
      "source": [
        "# Library fns"
      ]
    },
    {
      "cell_type": "code",
      "execution_count": 11,
      "metadata": {
        "executionInfo": {
          "elapsed": 3,
          "status": "ok",
          "timestamp": 1707492115127,
          "user": {
            "displayName": "",
            "userId": ""
          },
          "user_tz": 300
        },
        "id": "w6W3HhgRq3OW"
      },
      "outputs": [],
      "source": [
        "def load_counts_wrapper(generation):\n",
        "  count_df = preprocessing_utils.load_ngs_counts_from_paths(kwargs[generation]['names_and_paths'], data_dir=DATA_DIR)\n",
        "  return {\n",
        "      'count_df': count_df,\n",
        "      'generation': generation}"
      ]
    },
    {
      "cell_type": "code",
      "execution_count": 12,
      "metadata": {
        "executionInfo": {
          "elapsed": 1655652,
          "status": "ok",
          "timestamp": 1707493770932,
          "user": {
            "displayName": "",
            "userId": ""
          },
          "user_tz": 300
        },
        "id": "8hNHDvXxkus5",
        "outputId": "57ce8779-c13d-48c4-8956-b3b35df434c0"
      },
      "outputs": [
        {
          "name": "stdout",
          "output_type": "stream",
          "text": [
            "CPU times: user 28min 9s, sys: 2min 42s, total: 30min 51s\n",
            "Wall time: 27min 35s\n"
          ]
        },
      ],
      "source": [
        "%%time\n",
        "all_generations = ['g4', 'g3', 'g2', 'g1']\n",
        "\n",
        "with pool_lib.ThreadPool(len(all_generations)) as pool:\n",
        "    dfs = pool.map(load_counts_wrapper, all_generations)\n",
        "    pool.close()\n",
        "    pool.join()\n",
        "\n",
        "generation_to_count_df = {item['generation']: item['count_df'] for item in dfs}"
      ]
    },
    {
      "cell_type": "code",
      "execution_count": 13,
      "metadata": {
        "executionInfo": {
          "elapsed": 16,
          "status": "ok",
          "timestamp": 1707493772817,
          "user": {
            "displayName": "",
            "userId": ""
          },
          "user_tz": 300
        },
        "id": "drxLEDJ6fFhI",
        "outputId": "ca77d85f-0405-40c5-9a39-a290463153b3"
      },
      "outputs": [
        {
          "data": {
            "text/plain": [
              "['read_count_1_input_g1',\n",
              " 'read_count_2_input_g1',\n",
              " 'read_count_3_input_g1',\n",
              " 'read_count_1_input_reseq_g1',\n",
              " 'read_count_2_input_reseq_g1']"
            ]
          },
          "execution_count": 13,
          "metadata": {},
          "output_type": "execute_result"
        }
      ],
      "source": [
        "kwargs['g1']['input_names']"
      ]
    },
    {
      "cell_type": "code",
      "execution_count": 14,
      "metadata": {
        "colab": {
          "height": 382
        },
        "executionInfo": {
          "elapsed": 82,
          "status": "ok",
          "timestamp": 1707493773111,
          "user": {
            "displayName": "",
            "userId": ""
          },
          "user_tz": 300
        },
        "id": "LBem4-wt8kJ7",
        "outputId": "bd49d51e-1415-42d0-c0b4-80ba6c20b824"
      },
      "outputs": [
        {
          "data": {
            "text/html": [
              "\n",
              "  \u003cdiv id=\"df-21e160d2-56cb-4722-8ad1-4315e1ad90cf\" class=\"colab-df-container\"\u003e\n",
              "    \u003cdiv\u003e\n",
              "\u003cstyle scoped\u003e\n",
              "    .dataframe tbody tr th:only-of-type {\n",
              "        vertical-align: middle;\n",
              "    }\n",
              "\n",
              "    .dataframe tbody tr th {\n",
              "        vertical-align: top;\n",
              "    }\n",
              "\n",
              "    .dataframe thead th {\n",
              "        text-align: right;\n",
              "    }\n",
              "\u003c/style\u003e\n",
              "\u003ctable border=\"1\" class=\"dataframe\"\u003e\n",
              "  \u003cthead\u003e\n",
              "    \u003ctr style=\"text-align: right;\"\u003e\n",
              "      \u003cth\u003e\u003c/th\u003e\n",
              "      \u003cth\u003enuc_mutations\u003c/th\u003e\n",
              "      \u003cth\u003emutations\u003c/th\u003e\n",
              "      \u003cth\u003eread_count_1_high_g1\u003c/th\u003e\n",
              "      \u003cth\u003eread_count_1_input_g1\u003c/th\u003e\n",
              "      \u003cth\u003eread_count_1_low_g1\u003c/th\u003e\n",
              "      \u003cth\u003eread_count_2_high_g1\u003c/th\u003e\n",
              "      \u003cth\u003eread_count_2_input_g1\u003c/th\u003e\n",
              "      \u003cth\u003eread_count_2_low_g1\u003c/th\u003e\n",
              "      \u003cth\u003eread_count_3_high_g1\u003c/th\u003e\n",
              "      \u003cth\u003eread_count_3_input_g1\u003c/th\u003e\n",
              "      \u003cth\u003eread_count_3_low_g1\u003c/th\u003e\n",
              "      \u003cth\u003eread_count_1_input_reseq_g1\u003c/th\u003e\n",
              "      \u003cth\u003eread_count_2_high_reseq_g1\u003c/th\u003e\n",
              "      \u003cth\u003eread_count_2_input_reseq_g1\u003c/th\u003e\n",
              "    \u003c/tr\u003e\n",
              "  \u003c/thead\u003e\n",
              "  \u003ctbody\u003e\n",
              "    \u003ctr\u003e\n",
              "      \u003cth\u003e0\u003c/th\u003e\n",
              "      \u003ctd\u003e()\u003c/td\u003e\n",
              "      \u003ctd\u003e()\u003c/td\u003e\n",
              "      \u003ctd\u003e67886.0\u003c/td\u003e\n",
              "      \u003ctd\u003e12631.0\u003c/td\u003e\n",
              "      \u003ctd\u003e40972.0\u003c/td\u003e\n",
              "      \u003ctd\u003e32105.0\u003c/td\u003e\n",
              "      \u003ctd\u003e8996.0\u003c/td\u003e\n",
              "      \u003ctd\u003e35743.0\u003c/td\u003e\n",
              "      \u003ctd\u003e233249.0\u003c/td\u003e\n",
              "      \u003ctd\u003e15168.0\u003c/td\u003e\n",
              "      \u003ctd\u003e71044.0\u003c/td\u003e\n",
              "      \u003ctd\u003e146121.0\u003c/td\u003e\n",
              "      \u003ctd\u003e298910.0\u003c/td\u003e\n",
              "      \u003ctd\u003e104583.0\u003c/td\u003e\n",
              "    \u003c/tr\u003e\n",
              "    \u003ctr\u003e\n",
              "      \u003cth\u003e1\u003c/th\u003e\n",
              "      \u003ctd\u003e((A, 74, C),)\u003c/td\u003e\n",
              "      \u003ctd\u003e((Y, 25, S),)\u003c/td\u003e\n",
              "      \u003ctd\u003e2.0\u003c/td\u003e\n",
              "      \u003ctd\u003e0.0\u003c/td\u003e\n",
              "      \u003ctd\u003e1.0\u003c/td\u003e\n",
              "      \u003ctd\u003e0.0\u003c/td\u003e\n",
              "      \u003ctd\u003e0.0\u003c/td\u003e\n",
              "      \u003ctd\u003e0.0\u003c/td\u003e\n",
              "      \u003ctd\u003e4.0\u003c/td\u003e\n",
              "      \u003ctd\u003e40.0\u003c/td\u003e\n",
              "      \u003ctd\u003e1.0\u003c/td\u003e\n",
              "      \u003ctd\u003e2.0\u003c/td\u003e\n",
              "      \u003ctd\u003e2.0\u003c/td\u003e\n",
              "      \u003ctd\u003e1.0\u003c/td\u003e\n",
              "    \u003c/tr\u003e\n",
              "    \u003ctr\u003e\n",
              "      \u003cth\u003e2\u003c/th\u003e\n",
              "      \u003ctd\u003e((A, 74, C), (A, 83, C), (G, 84, C), (A, 86, C...\u003c/td\u003e\n",
              "      \u003ctd\u003e((Y, 25, S), (Q, 28, P), (H, 29, P), (A, 30, S...\u003c/td\u003e\n",
              "      \u003ctd\u003e1.0\u003c/td\u003e\n",
              "      \u003ctd\u003e0.0\u003c/td\u003e\n",
              "      \u003ctd\u003e0.0\u003c/td\u003e\n",
              "      \u003ctd\u003e0.0\u003c/td\u003e\n",
              "      \u003ctd\u003e0.0\u003c/td\u003e\n",
              "      \u003ctd\u003e0.0\u003c/td\u003e\n",
              "      \u003ctd\u003e0.0\u003c/td\u003e\n",
              "      \u003ctd\u003e0.0\u003c/td\u003e\n",
              "      \u003ctd\u003e0.0\u003c/td\u003e\n",
              "      \u003ctd\u003e0.0\u003c/td\u003e\n",
              "      \u003ctd\u003e0.0\u003c/td\u003e\n",
              "      \u003ctd\u003e0.0\u003c/td\u003e\n",
              "    \u003c/tr\u003e\n",
              "    \u003ctr\u003e\n",
              "      \u003cth\u003e3\u003c/th\u003e\n",
              "      \u003ctd\u003e((A, 74, C), (A, 83, C), (G, 84, T), (A, 86, C...\u003c/td\u003e\n",
              "      \u003ctd\u003e((Y, 25, S), (Q, 28, P), (H, 29, P), (A, 30, S...\u003c/td\u003e\n",
              "      \u003ctd\u003e1.0\u003c/td\u003e\n",
              "      \u003ctd\u003e0.0\u003c/td\u003e\n",
              "      \u003ctd\u003e0.0\u003c/td\u003e\n",
              "      \u003ctd\u003e0.0\u003c/td\u003e\n",
              "      \u003ctd\u003e0.0\u003c/td\u003e\n",
              "      \u003ctd\u003e0.0\u003c/td\u003e\n",
              "      \u003ctd\u003e0.0\u003c/td\u003e\n",
              "      \u003ctd\u003e0.0\u003c/td\u003e\n",
              "      \u003ctd\u003e0.0\u003c/td\u003e\n",
              "      \u003ctd\u003e0.0\u003c/td\u003e\n",
              "      \u003ctd\u003e0.0\u003c/td\u003e\n",
              "      \u003ctd\u003e0.0\u003c/td\u003e\n",
              "    \u003c/tr\u003e\n",
              "    \u003ctr\u003e\n",
              "      \u003cth\u003e4\u003c/th\u003e\n",
              "      \u003ctd\u003e((A, 74, C), (A, 83, C), (G, 84, T), (G, 88, T...\u003c/td\u003e\n",
              "      \u003ctd\u003e((Y, 25, S), (Q, 28, P), (A, 30, S), (E, 31, S...\u003c/td\u003e\n",
              "      \u003ctd\u003e1.0\u003c/td\u003e\n",
              "      \u003ctd\u003e0.0\u003c/td\u003e\n",
              "      \u003ctd\u003e0.0\u003c/td\u003e\n",
              "      \u003ctd\u003e0.0\u003c/td\u003e\n",
              "      \u003ctd\u003e0.0\u003c/td\u003e\n",
              "      \u003ctd\u003e0.0\u003c/td\u003e\n",
              "      \u003ctd\u003e0.0\u003c/td\u003e\n",
              "      \u003ctd\u003e0.0\u003c/td\u003e\n",
              "      \u003ctd\u003e0.0\u003c/td\u003e\n",
              "      \u003ctd\u003e0.0\u003c/td\u003e\n",
              "      \u003ctd\u003e0.0\u003c/td\u003e\n",
              "      \u003ctd\u003e0.0\u003c/td\u003e\n",
              "    \u003c/tr\u003e\n",
              "  \u003c/tbody\u003e\n",
              "\u003c/table\u003e\n",
              "\u003c/div\u003e\n",
              "    \u003cdiv class=\"colab-df-buttons\"\u003e\n",
              "\n",
              "  \u003cdiv class=\"colab-df-container\"\u003e\n",
              "    \u003cbutton class=\"colab-df-convert\" onclick=\"convertToInteractive('df-21e160d2-56cb-4722-8ad1-4315e1ad90cf')\"\n",
              "            title=\"Convert this dataframe to an interactive table.\"\n",
              "            style=\"display:none;\"\u003e\n",
              "\n",
              "  \u003csvg xmlns=\"http://www.w3.org/2000/svg\" height=\"24px\" viewBox=\"0 -960 960 960\"\u003e\n",
              "    \u003cpath d=\"M120-120v-720h720v720H120Zm60-500h600v-160H180v160Zm220 220h160v-160H400v160Zm0 220h160v-160H400v160ZM180-400h160v-160H180v160Zm440 0h160v-160H620v160ZM180-180h160v-160H180v160Zm440 0h160v-160H620v160Z\"/\u003e\n",
              "  \u003c/svg\u003e\n",
              "    \u003c/button\u003e\n",
              "\n",
              "  \u003cstyle\u003e\n",
              "    .colab-df-container {\n",
              "      display:flex;\n",
              "      gap: 12px;\n",
              "    }\n",
              "\n",
              "    .colab-df-convert {\n",
              "      background-color: #E8F0FE;\n",
              "      border: none;\n",
              "      border-radius: 50%;\n",
              "      cursor: pointer;\n",
              "      display: none;\n",
              "      fill: #1967D2;\n",
              "      height: 32px;\n",
              "      padding: 0 0 0 0;\n",
              "      width: 32px;\n",
              "    }\n",
              "\n",
              "    .colab-df-convert:hover {\n",
              "      background-color: #E2EBFA;\n",
              "      box-shadow: 0px 1px 2px rgba(60, 64, 67, 0.3), 0px 1px 3px 1px rgba(60, 64, 67, 0.15);\n",
              "      fill: #174EA6;\n",
              "    }\n",
              "\n",
              "    .colab-df-buttons div {\n",
              "      margin-bottom: 4px;\n",
              "    }\n",
              "\n",
              "    [theme=dark] .colab-df-convert {\n",
              "      background-color: #3B4455;\n",
              "      fill: #D2E3FC;\n",
              "    }\n",
              "\n",
              "    [theme=dark] .colab-df-convert:hover {\n",
              "      background-color: #434B5C;\n",
              "      box-shadow: 0px 1px 3px 1px rgba(0, 0, 0, 0.15);\n",
              "      filter: drop-shadow(0px 1px 2px rgba(0, 0, 0, 0.3));\n",
              "      fill: #FFFFFF;\n",
              "    }\n",
              "  \u003c/style\u003e\n",
              "\n",
              "    \u003cscript\u003e\n",
              "      const buttonEl =\n",
              "        document.querySelector('#df-21e160d2-56cb-4722-8ad1-4315e1ad90cf button.colab-df-convert');\n",
              "      buttonEl.style.display =\n",
              "        google.colab.kernel.accessAllowed ? 'block' : 'none';\n",
              "\n",
              "      async function convertToInteractive(key) {\n",
              "        const element = document.querySelector('#df-21e160d2-56cb-4722-8ad1-4315e1ad90cf');\n",
              "        const dataTable =\n",
              "          await google.colab.kernel.invokeFunction('convertToInteractive',\n",
              "                                                    [key], {});\n",
              "        if (!dataTable) return;\n",
              "\n",
              "        const docLinkHtml = 'Like what you see? Visit the ' +\n",
              "          '\u003ca target=\"_blank\" href=https://colab.research.google.com/notebooks/data_table.ipynb\u003edata table notebook\u003c/a\u003e'\n",
              "          + ' to learn more about interactive tables.';\n",
              "        element.innerHTML = '';\n",
              "        dataTable['output_type'] = 'display_data';\n",
              "        await google.colab.output.renderOutput(dataTable, element);\n",
              "        const docLink = document.createElement('div');\n",
              "        docLink.innerHTML = docLinkHtml;\n",
              "        element.appendChild(docLink);\n",
              "      }\n",
              "    \u003c/script\u003e\n",
              "  \u003c/div\u003e\n",
              "\n",
              "\n",
              "\u003cdiv id=\"df-344da4fd-b705-4a28-9ddf-0074767d7539\"\u003e\n",
              "  \u003cbutton class=\"colab-df-quickchart\" onclick=\"quickchart('df-344da4fd-b705-4a28-9ddf-0074767d7539')\"\n",
              "            title=\"Suggest charts\"\n",
              "            style=\"display:none;\"\u003e\n",
              "\n",
              "\u003csvg xmlns=\"http://www.w3.org/2000/svg\" height=\"24px\"viewBox=\"0 0 24 24\"\n",
              "     width=\"24px\"\u003e\n",
              "    \u003cg\u003e\n",
              "        \u003cpath d=\"M19 3H5c-1.1 0-2 .9-2 2v14c0 1.1.9 2 2 2h14c1.1 0 2-.9 2-2V5c0-1.1-.9-2-2-2zM9 17H7v-7h2v7zm4 0h-2V7h2v10zm4 0h-2v-4h2v4z\"/\u003e\n",
              "    \u003c/g\u003e\n",
              "\u003c/svg\u003e\n",
              "  \u003c/button\u003e\n",
              "\n",
              "\u003cstyle\u003e\n",
              "  .colab-df-quickchart {\n",
              "      --bg-color: #E8F0FE;\n",
              "      --fill-color: #1967D2;\n",
              "      --hover-bg-color: #E2EBFA;\n",
              "      --hover-fill-color: #174EA6;\n",
              "      --disabled-fill-color: #AAA;\n",
              "      --disabled-bg-color: #DDD;\n",
              "  }\n",
              "\n",
              "  [theme=dark] .colab-df-quickchart {\n",
              "      --bg-color: #3B4455;\n",
              "      --fill-color: #D2E3FC;\n",
              "      --hover-bg-color: #434B5C;\n",
              "      --hover-fill-color: #FFFFFF;\n",
              "      --disabled-bg-color: #3B4455;\n",
              "      --disabled-fill-color: #666;\n",
              "  }\n",
              "\n",
              "  .colab-df-quickchart {\n",
              "    background-color: var(--bg-color);\n",
              "    border: none;\n",
              "    border-radius: 50%;\n",
              "    cursor: pointer;\n",
              "    display: none;\n",
              "    fill: var(--fill-color);\n",
              "    height: 32px;\n",
              "    padding: 0;\n",
              "    width: 32px;\n",
              "  }\n",
              "\n",
              "  .colab-df-quickchart:hover {\n",
              "    background-color: var(--hover-bg-color);\n",
              "    box-shadow: 0 1px 2px rgba(60, 64, 67, 0.3), 0 1px 3px 1px rgba(60, 64, 67, 0.15);\n",
              "    fill: var(--button-hover-fill-color);\n",
              "  }\n",
              "\n",
              "  .colab-df-quickchart-complete:disabled,\n",
              "  .colab-df-quickchart-complete:disabled:hover {\n",
              "    background-color: var(--disabled-bg-color);\n",
              "    fill: var(--disabled-fill-color);\n",
              "    box-shadow: none;\n",
              "  }\n",
              "\n",
              "  .colab-df-spinner {\n",
              "    border: 2px solid var(--fill-color);\n",
              "    border-color: transparent;\n",
              "    border-bottom-color: var(--fill-color);\n",
              "    animation:\n",
              "      spin 1s steps(1) infinite;\n",
              "  }\n",
              "\n",
              "  @keyframes spin {\n",
              "    0% {\n",
              "      border-color: transparent;\n",
              "      border-bottom-color: var(--fill-color);\n",
              "      border-left-color: var(--fill-color);\n",
              "    }\n",
              "    20% {\n",
              "      border-color: transparent;\n",
              "      border-left-color: var(--fill-color);\n",
              "      border-top-color: var(--fill-color);\n",
              "    }\n",
              "    30% {\n",
              "      border-color: transparent;\n",
              "      border-left-color: var(--fill-color);\n",
              "      border-top-color: var(--fill-color);\n",
              "      border-right-color: var(--fill-color);\n",
              "    }\n",
              "    40% {\n",
              "      border-color: transparent;\n",
              "      border-right-color: var(--fill-color);\n",
              "      border-top-color: var(--fill-color);\n",
              "    }\n",
              "    60% {\n",
              "      border-color: transparent;\n",
              "      border-right-color: var(--fill-color);\n",
              "    }\n",
              "    80% {\n",
              "      border-color: transparent;\n",
              "      border-right-color: var(--fill-color);\n",
              "      border-bottom-color: var(--fill-color);\n",
              "    }\n",
              "    90% {\n",
              "      border-color: transparent;\n",
              "      border-bottom-color: var(--fill-color);\n",
              "    }\n",
              "  }\n",
              "\u003c/style\u003e\n",
              "\n",
              "  \u003cscript\u003e\n",
              "    async function quickchart(key) {\n",
              "      const quickchartButtonEl =\n",
              "        document.querySelector('#' + key + ' button');\n",
              "      quickchartButtonEl.disabled = true;  // To prevent multiple clicks.\n",
              "      quickchartButtonEl.classList.add('colab-df-spinner');\n",
              "      try {\n",
              "        const charts = await google.colab.kernel.invokeFunction(\n",
              "            'suggestCharts', [key], {});\n",
              "      } catch (error) {\n",
              "        console.error('Error during call to suggestCharts:', error);\n",
              "      }\n",
              "      quickchartButtonEl.classList.remove('colab-df-spinner');\n",
              "      quickchartButtonEl.classList.add('colab-df-quickchart-complete');\n",
              "    }\n",
              "    (() =\u003e {\n",
              "      let quickchartButtonEl =\n",
              "        document.querySelector('#df-344da4fd-b705-4a28-9ddf-0074767d7539 button');\n",
              "      quickchartButtonEl.style.display =\n",
              "        google.colab.kernel.accessAllowed ? 'block' : 'none';\n",
              "    })();\n",
              "  \u003c/script\u003e\n",
              "\u003c/div\u003e\n",
              "    \u003c/div\u003e\n",
              "  \u003c/div\u003e\n"
            ],
            "text/plain": [
              "                                       nuc_mutations  ... read_count_2_input_reseq_g1\n",
              "0                                                 ()  ...                    104583.0\n",
              "1                                      ((A, 74, C),)  ...                         1.0\n",
              "2  ((A, 74, C), (A, 83, C), (G, 84, C), (A, 86, C...  ...                         0.0\n",
              "3  ((A, 74, C), (A, 83, C), (G, 84, T), (A, 86, C...  ...                         0.0\n",
              "4  ((A, 74, C), (A, 83, C), (G, 84, T), (G, 88, T...  ...                         0.0\n",
              "\n",
              "[5 rows x 14 columns]"
            ]
          },
          "execution_count": 14,
          "metadata": {},
          "output_type": "execute_result"
        }
      ],
      "source": [
        "generation_to_count_df['g1'].head()"
      ]
    },
    {
      "cell_type": "code",
      "execution_count": 15,
      "metadata": {
        "executionInfo": {
          "elapsed": 3457,
          "status": "ok",
          "timestamp": 1707493777015,
          "user": {
            "displayName": "",
            "userId": ""
          },
          "user_tz": 300
        },
        "id": "Vg6KyrJrfLok"
      },
      "outputs": [],
      "source": [
        "def add_max_input_col(df, input_names):\n",
        "  df['max_input_read_count'] = df[input_names].max(axis=1)\n",
        "\n",
        "for generation in ['g1', 'g2', 'g3', 'g4']:\n",
        "  add_max_input_col(generation_to_count_df[generation], kwargs[generation]['input_names'])"
      ]
    },
    {
      "cell_type": "code",
      "execution_count": 16,
      "metadata": {
        "executionInfo": {
          "elapsed": 1999,
          "status": "ok",
          "timestamp": 1707493779140,
          "user": {
            "displayName": "",
            "userId": ""
          },
          "user_tz": 300
        },
        "id": "eyfWPZ9LgAfx"
      },
      "outputs": [],
      "source": [
        "import seaborn as sns\n",
        "import matplotlib.pyplot as plt"
      ]
    },
    {
      "cell_type": "code",
      "execution_count": 22,
      "metadata": {
        "colab": {
          "height": 763
        },
        "executionInfo": {
          "elapsed": 5256,
          "status": "ok",
          "timestamp": 1707493878922,
          "user": {
            "displayName": "",
            "userId": ""
          },
          "user_tz": 300
        },
        "id": "-1ieH-nlfOCF",
        "outputId": "509323bc-7077-4b92-c0a8-d879920156ca"
      },
      "outputs": [
        {
          "data": {
            "text/plain": [
              "Text(0.5, 0, 'maximum read count across input libraries')"
            ]
          },
          "execution_count": 22,
          "metadata": {},
          "output_type": "execute_result"
        },
        {
          "data": {
            "image/png": "iVBORw0KGgoAAAANSUhEUgAAA3AAAAWwCAYAAAAc0qNZAAAAOXRFWHRTb2Z0d2FyZQBNYXRwbG90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\n",
            "text/plain": [
              "\u003cFigure size 600x1000 with 4 Axes\u003e"
            ]
          },
          "metadata": {
            "image/png": {
              "height": 728,
              "width": 440
            }
          },
          "output_type": "display_data"
        }
      ],
      "source": [
        "min_count = 2\n",
        "fig, axs = plt.subplots(\n",
        "    nrows=4,\n",
        "    ncols=1,\n",
        "    sharex=True,\n",
        "    figsize=(6, 10),\n",
        "    layout='constrained',\n",
        ")\n",
        "\n",
        "for i, generation in enumerate(['g1', 'g2', 'g3', 'g4']):\n",
        "  ax = axs[i]\n",
        "  df = generation_to_count_df[generation]\n",
        "  plotdf = df[df['max_input_read_count'] \u003e= min_count]\n",
        "  # inverse CDF\n",
        "  sns.ecdfplot(\n",
        "      data=plotdf,\n",
        "      x='max_input_read_count',\n",
        "      stat='count',\n",
        "      log_scale=(True, True),\n",
        "      complementary=True,\n",
        "      ax=ax,\n",
        "  )\n",
        "  ax.axvline(\n",
        "      x=kwargs[generation]['count_threshold'],\n",
        "      color='grey',\n",
        "      label='count threshold',\n",
        "  )\n",
        "  ax.set_title(generation.upper())\n",
        "  plotting.set_fontsize(ax, 15)\n",
        "\n",
        "fig.suptitle('input library read count inverse CDF', fontsize=20)\n",
        "plt.legend()\n",
        "plt.xlabel('maximum read count across input libraries')"
      ]
    },
    {
      "cell_type": "code",
      "execution_count": 17,
      "metadata": {
        "executionInfo": {
          "elapsed": 57,
          "status": "ok",
          "timestamp": 1707493787376,
          "user": {
            "displayName": "",
            "userId": ""
          },
          "user_tz": 300
        },
        "id": "ld7z_fWYiP6B"
      },
      "outputs": [],
      "source": []
    },
    {
      "cell_type": "code",
      "execution_count": 17,
      "metadata": {
        "executionInfo": {
          "elapsed": 4,
          "status": "ok",
          "timestamp": 1707493787616,
          "user": {
            "displayName": "",
            "userId": ""
          },
          "user_tz": 300
        },
        "id": "JkqopgtCgGvH"
      },
      "outputs": [],
      "source": []
    }
  ],
  "metadata": {
    "colab": {
      "last_runtime": {
        "build_target": "//learning/brain/research/sequin/colab:xm_colab",
        "kind": "private"
      },
      "provenance": []
    },
    "kernelspec": {
      "display_name": "Python 3",
      "name": "python3"
    },
    "language_info": {
      "name": "python"
    }
  },
  "nbformat": 4,
  "nbformat_minor": 0
}
