{
  "cells": [
    {
      "cell_type": "code",
      "execution_count": 1,
      "metadata": {
        "executionInfo": {
          "elapsed": 1,
          "status": "ok",
          "timestamp": 1707348608691,
          "user": {
            "displayName": "",
            "userId": ""
          },
          "user_tz": 300
        },
        "id": "EzjOtWvmDmsJ"
      },
      "outputs": [],
      "source": [
        "# Copyright 2023 DeepMind Technologies Limited\n",
        "#\n",
        "# Licensed under the Apache License, Version 2.0 (the \"License\");\n",
        "# you may not use this file except in compliance with the License.\n",
        "# You may obtain a copy of the License at\n",
        "#\n",
        "#    http://www.apache.org/licenses/LICENSE-2.0\n",
        "#\n",
        "# Unless required by applicable law or agreed to in writing, software\n",
        "# distributed under the License is distributed on an \"AS IS\" BASIS,\n",
        "# WITHOUT WARRANTIES OR CONDITIONS OF ANY KIND, either express or implied.\n",
        "# See the License for the specific language governing permissions and\n",
        "# limitations under the License.\n",
        "# =============================================================================="
      ]
    },
    {
      "cell_type": "code",
      "execution_count": 2,
      "metadata": {},
      "outputs": [],
      "source": [
        "# Skip this cell if running from local environment\n",
        "# !pip install -q --no-warn-conflicts git+https://github.com/google-deepmind/nuclease_design.git\n",
        "# After installing, restart the kernel\n",
        "# Then run cells as normal"
      ]
    },
    {
      "cell_type": "markdown",
      "metadata": {
        "id": "u_7ngwypvLsK"
      },
      "source": [
        "# Imports"
      ]
    },
    {
      "cell_type": "code",
      "execution_count": 3,
      "metadata": {
        "executionInfo": {
          "elapsed": 2,
          "status": "ok",
          "timestamp": 1707348608692,
          "user": {
            "displayName": "",
            "userId": ""
          },
          "user_tz": 300
        },
        "id": "ApBc2ks6zNIv"
      },
      "outputs": [],
      "source": [
        "from multiprocessing import pool as pool_lib\n",
        "import pathlib\n",
        "\n",
        "from nuclease_design import utils\n",
        "from nuclease_design import preprocessing\n",
        "from nuclease_design import constants\n"
      ]
    },
    {
      "cell_type": "markdown",
      "metadata": {
        "id": "yjVIwM43KUeD"
      },
      "source": [
        "# Constants"
      ]
    },
    {
      "cell_type": "code",
      "execution_count": 4,
      "metadata": {
        "executionInfo": {
          "elapsed": 2,
          "status": "ok",
          "timestamp": 1707348608692,
          "user": {
            "displayName": "",
            "userId": ""
          },
          "user_tz": 300
        },
        "id": "QSRoZsxPYIbg"
      },
      "outputs": [],
      "source": [
        "kwargs = {\n",
        "    'g4': constants.G4_INFO,\n",
        "    'g3': constants.G3_INFO,\n",
        "    'g2': constants.G2_INFO,\n",
        "    'g1': constants.G1_INFO,\n",
        "}"
      ]
    },
    {
      "cell_type": "code",
      "execution_count": 5,
      "metadata": {
        "executionInfo": {
          "elapsed": 2,
          "status": "ok",
          "timestamp": 1707348608692,
          "user": {
            "displayName": "",
            "userId": ""
          },
          "user_tz": 300
        },
        "id": "mjv88yjkSYuJ"
      },
      "outputs": [],
      "source": [
        "INPUT_DATA_DIR = constants.DATA_DIR\n",
        "\n",
        "# Write to local directory\n",
        "LOCAL_OUTPUT_DATA_DIR = pathlib.Path('data')\n",
        "LOCAL_OUTPUT_DATA_DIR.mkdir(exist_ok=True, parents=True)"
      ]
    },
    {
      "cell_type": "markdown",
      "metadata": {
        "id": "Xg_xNeJlKWRT"
      },
      "source": [
        "# Library fns"
      ]
    },
    {
      "cell_type": "code",
      "execution_count": 6,
      "metadata": {
        "executionInfo": {
          "elapsed": 3,
          "status": "ok",
          "timestamp": 1707348608693,
          "user": {
            "displayName": "",
            "userId": ""
          },
          "user_tz": 300
        },
        "id": "wv1skrb6ScaR"
      },
      "outputs": [],
      "source": [
        "def _get_pvalue_df(dfs, generation):\n",
        "  return dfs[f'{generation}_pvalue_df']\n",
        "\n",
        "def _get_fiducial_efdf(dfs, generation, fiducial):\n",
        "  return dfs[f'{generation}_fiducials_to_efdf'][fiducial]"
      ]
    },
    {
      "cell_type": "code",
      "execution_count": 7,
      "metadata": {
        "executionInfo": {
          "elapsed": 3,
          "status": "ok",
          "timestamp": 1707348608693,
          "user": {
            "displayName": "",
            "userId": ""
          },
          "user_tz": 300
        },
        "id": "w6W3HhgRq3OW"
      },
      "outputs": [],
      "source": [
        "def preprocess_wrapper(generation):\n",
        "  pvalue_df, fiducials_to_efdf = preprocessing.preprocess_generation(\n",
        "      data_dir=INPUT_DATA_DIR, **kwargs[generation]\n",
        "  )\n",
        "\n",
        "  # Write to disk\n",
        "  for fiducial in kwargs[generation]['fiducials']:\n",
        "    filename = constants.get_fiducial_filename(fiducial, generation)\n",
        "    (LOCAL_OUTPUT_DATA_DIR / filename).parent.mkdir(exist_ok=True, parents=True)\n",
        "    print(f'writing {generation} {filename}')\n",
        "    with utils.open_file(filename, 'w', LOCAL_OUTPUT_DATA_DIR) as f:\n",
        "      utils.encode_df(fiducials_to_efdf[fiducial]).to_csv(f, index=False)\n",
        "\n",
        "  filename = constants.get_processed_data_file(generation)\n",
        "  print(f'writing {generation} {filename}')\n",
        "\n",
        "  (LOCAL_OUTPUT_DATA_DIR / filename).parent.mkdir(exist_ok=True, parents=True)\n",
        "  with utils.open_file(filename, 'w', LOCAL_OUTPUT_DATA_DIR) as f:\n",
        "    utils.encode_df(pvalue_df).to_csv(f, index=False)\n",
        "\n",
        "  return {\n",
        "      'pvalue_df': pvalue_df,\n",
        "      'fiducials_to_efdf': fiducials_to_efdf,\n",
        "      'generation': generation,\n",
        "  }"
      ]
    },
    {
      "cell_type": "code",
      "execution_count": 8,
      "metadata": {
        "executionInfo": {
          "elapsed": 613611,
          "status": "ok",
          "timestamp": 1707349459566,
          "user": {
            "displayName": "",
            "userId": ""
          },
          "user_tz": 300
        },
        "id": "8hNHDvXxkus5",
        "outputId": "dbf28c2f-cd29-402f-c7b1-55256bd27be1"
      },
      "outputs": [],
      "source": [
        "%%time\n",
        "all_generations = ['g4', 'g3', 'g2', 'g1']\n",
        "\n",
        "with pool_lib.ThreadPool(len(all_generations)) as pool:\n",
        "    dfs = pool.map(preprocess_wrapper, all_generations)\n",
        "    pool.close()\n",
        "    pool.join()"
      ]
    },
    {
      "cell_type": "code",
      "execution_count": null,
      "metadata": {
        "colab": {
          "height": 486
        },
        "executionInfo": {
          "elapsed": 109,
          "status": "ok",
          "timestamp": 1707349476654,
          "user": {
            "displayName": "",
            "userId": ""
          },
          "user_tz": 300
        },
        "id": "V9ypj02EB0zE",
        "outputId": "4544250b-fe44-4d5d-c424-6e75d171b620"
      },
      "outputs": [
        {
          "data": {
            "text/html": [
              "\n",
              "  <div id=\"df-3d57a989-1af2-419d-aca0-6db6020cb502\" class=\"colab-df-container\">\n",
              "    <div>\n",
              "<style scoped>\n",
              "    .dataframe tbody tr th:only-of-type {\n",
              "        vertical-align: middle;\n",
              "    }\n",
              "\n",
              "    .dataframe tbody tr th {\n",
              "        vertical-align: top;\n",
              "    }\n",
              "\n",
              "    .dataframe thead th {\n",
              "        text-align: right;\n",
              "    }\n",
              "</style>\n",
              "<table border=\"1\" class=\"dataframe\">\n",
              "  <thead>\n",
              "    <tr style=\"text-align: right;\">\n",
              "      <th></th>\n",
              "      <th>nuc_mutations</th>\n",
              "      <th>mutations</th>\n",
              "      <th>read_count_0_input_g4</th>\n",
              "      <th>read_count_1_70_g4</th>\n",
              "      <th>read_count_2_90_g4</th>\n",
              "      <th>read_count_3_98_g4</th>\n",
              "      <th>read_count_4_99.5_g4</th>\n",
              "      <th>ef_1_70_g4</th>\n",
              "      <th>ef_2_90_g4</th>\n",
              "      <th>ef_3_98_g4</th>\n",
              "      <th>ef_4_99.5_g4</th>\n",
              "    </tr>\n",
              "  </thead>\n",
              "  <tbody>\n",
              "    <tr>\n",
              "      <th>2499</th>\n",
              "      <td>((G, 187, C), (A, 189, G), (G, 217, A), (C, 21...</td>\n",
              "      <td>((A, 63, P), (A, 73, R), (D, 74, H), (I, 84, Y))</td>\n",
              "      <td>210.0</td>\n",
              "      <td>149.0</td>\n",
              "      <td>397.0</td>\n",
              "      <td>1428.0</td>\n",
              "      <td>1504.0</td>\n",
              "      <td>2.118487</td>\n",
              "      <td>4.076701</td>\n",
              "      <td>14.973083</td>\n",
              "      <td>22.973279</td>\n",
              "    </tr>\n",
              "    <tr>\n",
              "      <th>3063</th>\n",
              "      <td>((A, 117, C), (G, 187, C), (A, 189, G), (G, 21...</td>\n",
              "      <td>((A, 63, P), (A, 73, R), (D, 74, H), (I, 84, Y))</td>\n",
              "      <td>160.0</td>\n",
              "      <td>182.0</td>\n",
              "      <td>374.0</td>\n",
              "      <td>3261.0</td>\n",
              "      <td>2072.0</td>\n",
              "      <td>3.396333</td>\n",
              "      <td>5.040682</td>\n",
              "      <td>44.877964</td>\n",
              "      <td>41.539782</td>\n",
              "    </tr>\n",
              "    <tr>\n",
              "      <th>3259</th>\n",
              "      <td>((G, 187, C), (A, 189, G), (C, 198, T), (G, 21...</td>\n",
              "      <td>((A, 63, P), (A, 73, R), (D, 74, H), (I, 84, Y))</td>\n",
              "      <td>152.0</td>\n",
              "      <td>93.0</td>\n",
              "      <td>257.0</td>\n",
              "      <td>2562.0</td>\n",
              "      <td>2763.0</td>\n",
              "      <td>1.826830</td>\n",
              "      <td>3.646089</td>\n",
              "      <td>37.114009</td>\n",
              "      <td>58.308483</td>\n",
              "    </tr>\n",
              "    <tr>\n",
              "      <th>3261</th>\n",
              "      <td>((G, 187, C), (A, 189, G), (C, 198, T), (G, 21...</td>\n",
              "      <td>((A, 63, P), (A, 73, R), (D, 74, H), (I, 84, Y))</td>\n",
              "      <td>130.0</td>\n",
              "      <td>47.0</td>\n",
              "      <td>217.0</td>\n",
              "      <td>694.0</td>\n",
              "      <td>1361.0</td>\n",
              "      <td>1.079477</td>\n",
              "      <td>3.599599</td>\n",
              "      <td>11.754887</td>\n",
              "      <td>33.582206</td>\n",
              "    </tr>\n",
              "    <tr>\n",
              "      <th>3328</th>\n",
              "      <td>((T, 111, C), (G, 187, C), (A, 189, G), (A, 21...</td>\n",
              "      <td>((A, 63, P), (A, 73, R), (D, 74, H), (I, 84, Y))</td>\n",
              "      <td>100.0</td>\n",
              "      <td>15.0</td>\n",
              "      <td>110.0</td>\n",
              "      <td>1422.0</td>\n",
              "      <td>561.0</td>\n",
              "      <td>0.447868</td>\n",
              "      <td>2.372086</td>\n",
              "      <td>31.311360</td>\n",
              "      <td>17.995226</td>\n",
              "    </tr>\n",
              "  </tbody>\n",
              "</table>\n",
              "</div>\n",
              "    <div class=\"colab-df-buttons\">\n",
              "\n",
              "  <div class=\"colab-df-container\">\n",
              "    <button class=\"colab-df-convert\" onclick=\"convertToInteractive('df-3d57a989-1af2-419d-aca0-6db6020cb502')\"\n",
              "            title=\"Convert this dataframe to an interactive table.\"\n",
              "            style=\"display:none;\">\n",
              "\n",
              "  <svg xmlns=\"http://www.w3.org/2000/svg\" height=\"24px\" viewBox=\"0 -960 960 960\">\n",
              "    <path d=\"M120-120v-720h720v720H120Zm60-500h600v-160H180v160Zm220 220h160v-160H400v160Zm0 220h160v-160H400v160ZM180-400h160v-160H180v160Zm440 0h160v-160H620v160ZM180-180h160v-160H180v160Zm440 0h160v-160H620v160Z\"/>\n",
              "  </svg>\n",
              "    </button>\n",
              "\n",
              "  <style>\n",
              "    .colab-df-container {\n",
              "      display:flex;\n",
              "      gap: 12px;\n",
              "    }\n",
              "\n",
              "    .colab-df-convert {\n",
              "      background-color: #E8F0FE;\n",
              "      border: none;\n",
              "      border-radius: 50%;\n",
              "      cursor: pointer;\n",
              "      display: none;\n",
              "      fill: #1967D2;\n",
              "      height: 32px;\n",
              "      padding: 0 0 0 0;\n",
              "      width: 32px;\n",
              "    }\n",
              "\n",
              "    .colab-df-convert:hover {\n",
              "      background-color: #E2EBFA;\n",
              "      box-shadow: 0px 1px 2px rgba(60, 64, 67, 0.3), 0px 1px 3px 1px rgba(60, 64, 67, 0.15);\n",
              "      fill: #174EA6;\n",
              "    }\n",
              "\n",
              "    .colab-df-buttons div {\n",
              "      margin-bottom: 4px;\n",
              "    }\n",
              "\n",
              "    [theme=dark] .colab-df-convert {\n",
              "      background-color: #3B4455;\n",
              "      fill: #D2E3FC;\n",
              "    }\n",
              "\n",
              "    [theme=dark] .colab-df-convert:hover {\n",
              "      background-color: #434B5C;\n",
              "      box-shadow: 0px 1px 3px 1px rgba(0, 0, 0, 0.15);\n",
              "      filter: drop-shadow(0px 1px 2px rgba(0, 0, 0, 0.3));\n",
              "      fill: #FFFFFF;\n",
              "    }\n",
              "  </style>\n",
              "\n",
              "    <script>\n",
              "      const buttonEl =\n",
              "        document.querySelector('#df-3d57a989-1af2-419d-aca0-6db6020cb502 button.colab-df-convert');\n",
              "      buttonEl.style.display =\n",
              "        google.colab.kernel.accessAllowed ? 'block' : 'none';\n",
              "\n",
              "      async function convertToInteractive(key) {\n",
              "        const element = document.querySelector('#df-3d57a989-1af2-419d-aca0-6db6020cb502');\n",
              "        const dataTable =\n",
              "          await google.colab.kernel.invokeFunction('convertToInteractive',\n",
              "                                                    [key], {});\n",
              "        if (!dataTable) return;\n",
              "\n",
              "        const docLinkHtml = 'Like what you see? Visit the ' +\n",
              "          '<a target=\"_blank\" href=https://colab.research.google.com/notebooks/data_table.ipynb>data table notebook</a>'\n",
              "          + ' to learn more about interactive tables.';\n",
              "        element.innerHTML = '';\n",
              "        dataTable['output_type'] = 'display_data';\n",
              "        await google.colab.output.renderOutput(dataTable, element);\n",
              "        const docLink = document.createElement('div');\n",
              "        docLink.innerHTML = docLinkHtml;\n",
              "        element.appendChild(docLink);\n",
              "      }\n",
              "    </script>\n",
              "  </div>\n",
              "\n",
              "\n",
              "<div id=\"df-1fe57c44-1b6c-4b04-9aa8-bd01cc12b527\">\n",
              "  <button class=\"colab-df-quickchart\" onclick=\"quickchart('df-1fe57c44-1b6c-4b04-9aa8-bd01cc12b527')\"\n",
              "            title=\"Suggest charts\"\n",
              "            style=\"display:none;\">\n",
              "\n",
              "<svg xmlns=\"http://www.w3.org/2000/svg\" height=\"24px\"viewBox=\"0 0 24 24\"\n",
              "     width=\"24px\">\n",
              "    <g>\n",
              "        <path d=\"M19 3H5c-1.1 0-2 .9-2 2v14c0 1.1.9 2 2 2h14c1.1 0 2-.9 2-2V5c0-1.1-.9-2-2-2zM9 17H7v-7h2v7zm4 0h-2V7h2v10zm4 0h-2v-4h2v4z\"/>\n",
              "    </g>\n",
              "</svg>\n",
              "  </button>\n",
              "\n",
              "<style>\n",
              "  .colab-df-quickchart {\n",
              "      --bg-color: #E8F0FE;\n",
              "      --fill-color: #1967D2;\n",
              "      --hover-bg-color: #E2EBFA;\n",
              "      --hover-fill-color: #174EA6;\n",
              "      --disabled-fill-color: #AAA;\n",
              "      --disabled-bg-color: #DDD;\n",
              "  }\n",
              "\n",
              "  [theme=dark] .colab-df-quickchart {\n",
              "      --bg-color: #3B4455;\n",
              "      --fill-color: #D2E3FC;\n",
              "      --hover-bg-color: #434B5C;\n",
              "      --hover-fill-color: #FFFFFF;\n",
              "      --disabled-bg-color: #3B4455;\n",
              "      --disabled-fill-color: #666;\n",
              "  }\n",
              "\n",
              "  .colab-df-quickchart {\n",
              "    background-color: var(--bg-color);\n",
              "    border: none;\n",
              "    border-radius: 50%;\n",
              "    cursor: pointer;\n",
              "    display: none;\n",
              "    fill: var(--fill-color);\n",
              "    height: 32px;\n",
              "    padding: 0;\n",
              "    width: 32px;\n",
              "  }\n",
              "\n",
              "  .colab-df-quickchart:hover {\n",
              "    background-color: var(--hover-bg-color);\n",
              "    box-shadow: 0 1px 2px rgba(60, 64, 67, 0.3), 0 1px 3px 1px rgba(60, 64, 67, 0.15);\n",
              "    fill: var(--button-hover-fill-color);\n",
              "  }\n",
              "\n",
              "  .colab-df-quickchart-complete:disabled,\n",
              "  .colab-df-quickchart-complete:disabled:hover {\n",
              "    background-color: var(--disabled-bg-color);\n",
              "    fill: var(--disabled-fill-color);\n",
              "    box-shadow: none;\n",
              "  }\n",
              "\n",
              "  .colab-df-spinner {\n",
              "    border: 2px solid var(--fill-color);\n",
              "    border-color: transparent;\n",
              "    border-bottom-color: var(--fill-color);\n",
              "    animation:\n",
              "      spin 1s steps(1) infinite;\n",
              "  }\n",
              "\n",
              "  @keyframes spin {\n",
              "    0% {\n",
              "      border-color: transparent;\n",
              "      border-bottom-color: var(--fill-color);\n",
              "      border-left-color: var(--fill-color);\n",
              "    }\n",
              "    20% {\n",
              "      border-color: transparent;\n",
              "      border-left-color: var(--fill-color);\n",
              "      border-top-color: var(--fill-color);\n",
              "    }\n",
              "    30% {\n",
              "      border-color: transparent;\n",
              "      border-left-color: var(--fill-color);\n",
              "      border-top-color: var(--fill-color);\n",
              "      border-right-color: var(--fill-color);\n",
              "    }\n",
              "    40% {\n",
              "      border-color: transparent;\n",
              "      border-right-color: var(--fill-color);\n",
              "      border-top-color: var(--fill-color);\n",
              "    }\n",
              "    60% {\n",
              "      border-color: transparent;\n",
              "      border-right-color: var(--fill-color);\n",
              "    }\n",
              "    80% {\n",
              "      border-color: transparent;\n",
              "      border-right-color: var(--fill-color);\n",
              "      border-bottom-color: var(--fill-color);\n",
              "    }\n",
              "    90% {\n",
              "      border-color: transparent;\n",
              "      border-bottom-color: var(--fill-color);\n",
              "    }\n",
              "  }\n",
              "</style>\n",
              "\n",
              "  <script>\n",
              "    async function quickchart(key) {\n",
              "      const quickchartButtonEl =\n",
              "        document.querySelector('#' + key + ' button');\n",
              "      quickchartButtonEl.disabled = true;  // To prevent multiple clicks.\n",
              "      quickchartButtonEl.classList.add('colab-df-spinner');\n",
              "      try {\n",
              "        const charts = await google.colab.kernel.invokeFunction(\n",
              "            'suggestCharts', [key], {});\n",
              "      } catch (error) {\n",
              "        console.error('Error during call to suggestCharts:', error);\n",
              "      }\n",
              "      quickchartButtonEl.classList.remove('colab-df-spinner');\n",
              "      quickchartButtonEl.classList.add('colab-df-quickchart-complete');\n",
              "    }\n",
              "    (() => {\n",
              "      let quickchartButtonEl =\n",
              "        document.querySelector('#df-1fe57c44-1b6c-4b04-9aa8-bd01cc12b527 button');\n",
              "      quickchartButtonEl.style.display =\n",
              "        google.colab.kernel.accessAllowed ? 'block' : 'none';\n",
              "    })();\n",
              "  </script>\n",
              "</div>\n",
              "    </div>\n",
              "  </div>\n"
            ],
            "text/plain": [
              "                                          nuc_mutations  ... ef_4_99.5_g4\n",
              "2499  ((G, 187, C), (A, 189, G), (G, 217, A), (C, 21...  ...    22.973279\n",
              "3063  ((A, 117, C), (G, 187, C), (A, 189, G), (G, 21...  ...    41.539782\n",
              "3259  ((G, 187, C), (A, 189, G), (C, 198, T), (G, 21...  ...    58.308483\n",
              "3261  ((G, 187, C), (A, 189, G), (C, 198, T), (G, 21...  ...    33.582206\n",
              "3328  ((T, 111, C), (G, 187, C), (A, 189, G), (A, 21...  ...    17.995226\n",
              "\n",
              "[5 rows x 11 columns]"
            ]
          },
          "execution_count": 14,
          "metadata": {},
          "output_type": "execute_result"
        }
      ],
      "source": [
        "dfs[0]['fiducials_to_efdf']['a63p_a73r_d74h_i84y'].head()"
      ]
    }
  ],
  "metadata": {
    "colab": {
      "last_runtime": {
        "build_target": "//learning/brain/research/sequin/colab:xm_colab",
        "kind": "private"
      },
      "provenance": [
        {
          "file_id": "1uPre-sQrxNxzhjHsKURaELDsCwBUqUgc",
          "timestamp": 1699646079908
        }
      ]
    },
    "kernelspec": {
      "display_name": "Python 3",
      "name": "python3"
    },
    "language_info": {
      "codemirror_mode": {
        "name": "ipython",
        "version": 3
      },
      "file_extension": ".py",
      "mimetype": "text/x-python",
      "name": "python",
      "nbconvert_exporter": "python",
      "pygments_lexer": "ipython3",
      "version": "3.10.13"
    }
  },
  "nbformat": 4,
  "nbformat_minor": 0
}
