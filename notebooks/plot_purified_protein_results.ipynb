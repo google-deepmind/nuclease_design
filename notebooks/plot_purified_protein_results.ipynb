{
 "cells": [
  {
   "cell_type": "code",
   "execution_count": 1,
   "metadata": {
    "executionInfo": {
     "elapsed": 3,
     "status": "ok",
     "timestamp": 1709588893892,
     "user": {
      "displayName": "",
      "userId": ""
     },
     "user_tz": 300
    },
    "id": "_sUVkFM5bdkd"
   },
   "outputs": [],
   "source": [
    "# Copyright 2023 DeepMind Technologies Limited\n",
    "#\n",
    "# Licensed under the Apache License, Version 2.0 (the \"License\");\n",
    "# you may not use this file except in compliance with the License.\n",
    "# You may obtain a copy of the License at\n",
    "#\n",
    "#    http://www.apache.org/licenses/LICENSE-2.0\n",
    "#\n",
    "# Unless required by applicable law or agreed to in writing, software\n",
    "# distributed under the License is distributed on an \"AS IS\" BASIS,\n",
    "# WITHOUT WARRANTIES OR CONDITIONS OF ANY KIND, either express or implied.\n",
    "# See the License for the specific language governing permissions and\n",
    "# limitations under the License.\n",
    "# =============================================================================="
   ]
  },
  {
   "cell_type": "code",
   "execution_count": null,
   "metadata": {},
   "outputs": [],
   "source": [
    "# Skip this cell if running from local environment\n",
    "!pip install -q --no-warn-conflicts git+https://github.com/google-deepmind/nuclease_design.git\n",
    "# After installing, restart the kernel\n",
    "# Then run cells as normal"
   ]
  },
  {
   "cell_type": "markdown",
   "metadata": {},
   "source": [
    "# Imports"
   ]
  },
  {
   "cell_type": "code",
   "execution_count": 2,
   "metadata": {
    "executionInfo": {
     "elapsed": 2493,
     "status": "ok",
     "timestamp": 1709588897509,
     "user": {
      "displayName": "",
      "userId": ""
     },
     "user_tz": 300
    },
    "id": "HJcvvZaq4WLK"
   },
   "outputs": [
    {
     "name": "stderr",
     "output_type": "stream",
     "text": [
      "/var/folders/4g/l2k88w8157j_55v45frbffd0jyc_91/T/ipykernel_43649/997033227.py:2: DeprecationWarning: \n",
      "Pyarrow will become a required dependency of pandas in the next major release of pandas (pandas 3.0),\n",
      "(to allow more performant data types, such as the Arrow string type, and better interoperability with other libraries)\n",
      "but was not found to be installed on your system.\n",
      "If this would cause problems for you,\n",
      "please provide us feedback at https://github.com/pandas-dev/pandas/issues/54466\n",
      "        \n",
      "  import pandas as pd\n"
     ]
    }
   ],
   "source": [
    "import numpy as np\n",
    "import pandas as pd\n",
    "import xml.etree.ElementTree as ET\n",
    "\n",
    "import matplotlib.pyplot as plt\n",
    "import seaborn as sns\n",
    "from scipy import stats\n",
    "\n",
    "from nuclease_design import utils\n",
    "from nuclease_design import plotting\n",
    "from nuclease_design import constants"
   ]
  },
  {
   "cell_type": "markdown",
   "metadata": {
    "id": "ZG_0sMcnJp0e"
   },
   "source": [
    "# Constants"
   ]
  },
  {
   "cell_type": "code",
   "execution_count": 3,
   "metadata": {
    "executionInfo": {
     "elapsed": 3,
     "status": "ok",
     "timestamp": 1709588897656,
     "user": {
      "displayName": "",
      "userId": ""
     },
     "user_tz": 300
    },
    "id": "VdDfCrs6Iee8"
   },
   "outputs": [],
   "source": [
    "RANDOM_SEED = 0\n",
    "DEFAULT_NUM_BOOTSTRAPS = 1000\n",
    "RANDOM_STATE = np.random.RandomState(RANDOM_SEED)"
   ]
  },
  {
   "cell_type": "code",
   "execution_count": 4,
   "metadata": {
    "executionInfo": {
     "elapsed": 1,
     "status": "ok",
     "timestamp": 1709588897815,
     "user": {
      "displayName": "",
      "userId": ""
     },
     "user_tz": 300
    },
    "id": "D8G7jBq2K3YM"
   },
   "outputs": [],
   "source": [
    "DATA_DIR = constants.DATA_DIR"
   ]
  },
  {
   "cell_type": "markdown",
   "metadata": {
    "id": "cLM9DFTVIgAK"
   },
   "source": [
    "# Helper fns"
   ]
  },
  {
   "cell_type": "code",
   "execution_count": 5,
   "metadata": {
    "executionInfo": {
     "elapsed": 2,
     "status": "ok",
     "timestamp": 1709588897959,
     "user": {
      "displayName": "",
      "userId": ""
     },
     "user_tz": 300
    },
    "id": "SxDHzRVAIh_Q"
   },
   "outputs": [],
   "source": [
    "def parse_activity_df_from_xml(activity_path):\n",
    "  with utils.open_file(activity_path, 'rb', DATA_DIR) as f:\n",
    "    tree = ET.parse(f)\n",
    "    root = tree.getroot()\n",
    "\n",
    "  well_dfs = []\n",
    "  for sections in root.iter('PlateSection'):\n",
    "      if (sections.attrib['Name'] != 'Plate1'):\n",
    "        raise ValueError(f'Unexpected Plate {sections.attrib[\"Name\"]}')\n",
    "      for well in sections.iter('Well'):\n",
    "          fluorescence = pd.Series(well.find('RawData').text.split(), dtype=float)\n",
    "          time = pd.Series(well.find('TimeData').text.split(), dtype=float) / 60  # seconds to minutes\n",
    "          well = well.get('Name')\n",
    "          well_dfs.append(pd.DataFrame({'well': well, 'fluorescence': fluorescence, 'time': time}))\n",
    "  return pd.concat(well_dfs, ignore_index=True)\n"
   ]
  },
  {
   "cell_type": "code",
   "execution_count": 6,
   "metadata": {
    "executionInfo": {
     "elapsed": 54,
     "status": "ok",
     "timestamp": 1709588898155,
     "user": {
      "displayName": "",
      "userId": ""
     },
     "user_tz": 300
    },
    "id": "RwnVX4RbIkfQ"
   },
   "outputs": [],
   "source": [
    "# The number of points used here is to guarantee that we are measuring\n",
    "# initial velocity in the linear regime of the reaction\n",
    "# See https://www.ncbi.nlm.nih.gov/pmc/articles/PMC4692135/ \"Properties and mechanisms of enzyme action\"\n",
    "# for details\n",
    "def add_initial_velocity(df, num_points=10):\n",
    "  df = df.sort_values(by=['time'], ascending=True)\n",
    "  x = df['time'][:num_points]\n",
    "  y = df['fluorescence'][:num_points]\n",
    "\n",
    "  result = stats.linregress(x, y, alternative='two-sided')\n",
    "\n",
    "  slope_stderr = result.stderr\n",
    "  slope = result.slope\n",
    "  return pd.Series({'initial_velocity': slope, 'initial_velocity_stderr': slope_stderr, 'intercept': result.intercept})\n",
    "\n",
    "# The wildtype is a particularly slow reaction, so we have many more points in\n",
    "# the linear regime.\n",
    "def add_initial_velocity_wrapper(df):\n",
    "  if df.genotype.unique().item() == 'wild type':\n",
    "    return add_initial_velocity(df, num_points=100)\n",
    "  else:\n",
    "    return add_initial_velocity(df)\n",
    "\n",
    "def parametric_resample_row(row, random_state, n_bootstraps):\n",
    "  mean = row['initial_velocity']\n",
    "  stdev = row['initial_velocity_stderr']\n",
    "  return random_state.normal(loc=mean, scale=stdev, size=n_bootstraps)\n",
    "\n",
    "def get_bootstrapped_initial_velocity_df(df, random_state, n_bootstraps=DEFAULT_NUM_BOOTSTRAPS):\n",
    "  return df.apply(parametric_resample_row, axis=1, random_state=random_state, n_bootstraps=n_bootstraps)\n"
   ]
  },
  {
   "cell_type": "markdown",
   "metadata": {
    "id": "dDFfk5CWIY2m"
   },
   "source": [
    "# Read in plate data"
   ]
  },
  {
   "cell_type": "code",
   "execution_count": 7,
   "metadata": {
    "executionInfo": {
     "elapsed": 1535,
     "status": "ok",
     "timestamp": 1709588899835,
     "user": {
      "displayName": "",
      "userId": ""
     },
     "user_tz": 300
    },
    "id": "EjZY-dtPDE7K"
   },
   "outputs": [],
   "source": [
    "with utils.open_file(constants.PLATE_GENOTYPES_PATH, 'r', DATA_DIR) as f:\n",
    "  genotypes_df = pd.read_csv(f)"
   ]
  },
  {
   "cell_type": "code",
   "execution_count": 8,
   "metadata": {
    "executionInfo": {
     "elapsed": 54,
     "status": "ok",
     "timestamp": 1709588900046,
     "user": {
      "displayName": "",
      "userId": ""
     },
     "user_tz": 300
    },
    "id": "sE2LttYQ3LQX"
   },
   "outputs": [],
   "source": [
    "platemap = {\n",
    "    'O403':  ['A1', 'A2', 'A3', 'A4'],\n",
    "    'O1757': ['C1', 'C2', 'C3', 'C4'],\n",
    "    'O2360': ['E1', 'E2', 'E3', 'E4'],\n",
    "    'O3188': ['G1', 'G2', 'G3', 'G4'],\n",
    "    'O3459': ['I1', 'I2', 'I3', 'I4'],\n",
    "    'O3512': ['K1', 'K2', 'K3', 'K4'],\n",
    "    'O3513': ['M1', 'M2', 'M3', 'M4'],\n",
    "    'O4060': ['O1', 'O2', 'O3', 'O4'],\n",
    "}\n",
    "\n",
    "well_to_strain = {}\n",
    "for strain, wells in platemap.items():\n",
    "  for well in wells:\n",
    "    well_to_strain[well] = strain\n",
    "\n",
    "well_to_concentration = {}\n",
    "for row in ['A', 'B', 'C', 'D', 'E', 'F', 'G', 'H', 'I', 'J', 'K', 'M', 'O']:\n",
    "  for concentration, column in zip([100, 50, 25, 12.5], ['1', '2', '3', '4']):\n",
    "    well_to_concentration[''.join([row, column])] = concentration"
   ]
  },
  {
   "cell_type": "code",
   "execution_count": 9,
   "metadata": {
    "executionInfo": {
     "elapsed": 645,
     "status": "ok",
     "timestamp": 1709588900849,
     "user": {
      "displayName": "",
      "userId": ""
     },
     "user_tz": 300
    },
    "id": "nbedAK674jcD"
   },
   "outputs": [],
   "source": [
    "df = parse_activity_df_from_xml(constants.TIME_SERIES_ACTIVITY_XML_PATH)\n",
    "df['strain'] = df['well'].apply(well_to_strain.get)\n",
    "df.dropna(subset=['strain'], inplace=True)\n",
    "df = df[df['strain'] != 'O403']  # Removing WT assessed in a different background strain\n",
    "df = df.merge(genotypes_df, how='left', on='strain')\n",
    "df['concentration'] = df['well'].apply(well_to_concentration.get)"
   ]
  },
  {
   "cell_type": "markdown",
   "metadata": {
    "id": "U0Ty_XQXIamp"
   },
   "source": [
    "# Compute enzyme reaction rate"
   ]
  },
  {
   "cell_type": "markdown",
   "metadata": {
    "id": "WF4xbbkRwHxo"
   },
   "source": [
    "## Example of fitting reaction trajectory in linear regime"
   ]
  },
  {
   "cell_type": "code",
   "execution_count": 10,
   "metadata": {},
   "outputs": [],
   "source": [
    "slope = add_initial_velocity(df[df.well == 'K1'])['initial_velocity']\n",
    "stderr = add_initial_velocity(df[df.well == 'K1'])['initial_velocity_stderr']\n",
    "intercept = add_initial_velocity(df[df.well == 'K1'])['intercept']"
   ]
  },
  {
   "cell_type": "code",
   "execution_count": 11,
   "metadata": {
    "colab": {
     "height": 0
    },
    "executionInfo": {
     "elapsed": 225,
     "status": "ok",
     "timestamp": 1709588901422,
     "user": {
      "displayName": "",
      "userId": ""
     },
     "user_tz": 300
    },
    "id": "p9TmlOKiCuTB",
    "outputId": "aacf9333-3b39-4480-cb8a-caf092903661"
   },
   "outputs": [
    {
     "data": {
      "image/png": "[encoded data removed]",
      "text/plain": [
       "<Figure size 640x480 with 1 Axes>"
      ]
     },
     "metadata": {},
     "output_type": "display_data"
    }
   ],
   "source": [
    "plotdf = df[(df['well'] == 'K1')]\n",
    "sns.scatterplot(data=plotdf, x='time', y='fluorescence', s=4)\n",
    "plt.ylim(bottom=0)\n",
    "plt.plot(plotdf.time, intercept + slope * plotdf.time, 'black', alpha=0.5, label='initial velocity fit')\n",
    "plt.title(f'{plotdf.genotype.iloc[0]} conc {plotdf.concentration.iloc[0]} well {plotdf[\"well\"].unique()}')\n",
    "plt.show()"
   ]
  },
  {
   "cell_type": "markdown",
   "metadata": {
    "id": "WZOPQpoJIpoS"
   },
   "source": [
    "## Add bootstrapped estimates of the rate"
   ]
  },
  {
   "cell_type": "code",
   "execution_count": 12,
   "metadata": {
    "executionInfo": {
     "elapsed": 55,
     "status": "ok",
     "timestamp": 1709588901672,
     "user": {
      "displayName": "",
      "userId": ""
     },
     "user_tz": 300
    },
    "id": "3DYNyyhSWiXm"
   },
   "outputs": [
    {
     "name": "stderr",
     "output_type": "stream",
     "text": [
      "/var/folders/4g/l2k88w8157j_55v45frbffd0jyc_91/T/ipykernel_43649/3321433837.py:1: DeprecationWarning: DataFrameGroupBy.apply operated on the grouping columns. This behavior is deprecated, and in a future version of pandas the grouping columns will be excluded from the operation. Either pass `include_groups=False` to exclude the groupings or explicitly select the grouping columns after groupby to silence this warning.\n",
      "  initial_velocity_df = df.groupby(['strain', 'genotype', 'concentration'], group_keys=True).apply(add_initial_velocity_wrapper).reset_index()\n"
     ]
    }
   ],
   "source": [
    "initial_velocity_df = df.groupby(['strain', 'genotype', 'concentration'], group_keys=True).apply(add_initial_velocity_wrapper).reset_index()\n",
    "initial_velocity_df['initial_velocity_resampled'] = get_bootstrapped_initial_velocity_df(initial_velocity_df, RANDOM_STATE)\n",
    "bootstrapped_initial_velocity_df = initial_velocity_df.explode('initial_velocity_resampled')"
   ]
  },
  {
   "cell_type": "code",
   "execution_count": 13,
   "metadata": {
    "colab": {
     "height": 206
    },
    "executionInfo": {
     "elapsed": 59,
     "status": "ok",
     "timestamp": 1709588901893,
     "user": {
      "displayName": "",
      "userId": ""
     },
     "user_tz": 300
    },
    "id": "1gNg9OO_eC6C",
    "outputId": "5696e58d-f19f-43a7-8b02-8e9582093e72"
   },
   "outputs": [
    {
     "data": {
      "text/html": [
       "<div>\n",
       "<style scoped>\n",
       "    .dataframe tbody tr th:only-of-type {\n",
       "        vertical-align: middle;\n",
       "    }\n",
       "\n",
       "    .dataframe tbody tr th {\n",
       "        vertical-align: top;\n",
       "    }\n",
       "\n",
       "    .dataframe thead th {\n",
       "        text-align: right;\n",
       "    }\n",
       "</style>\n",
       "<table border=\"1\" class=\"dataframe\">\n",
       "  <thead>\n",
       "    <tr style=\"text-align: right;\">\n",
       "      <th></th>\n",
       "      <th>strain</th>\n",
       "      <th>genotype</th>\n",
       "      <th>concentration</th>\n",
       "      <th>initial_velocity</th>\n",
       "      <th>initial_velocity_stderr</th>\n",
       "      <th>intercept</th>\n",
       "      <th>initial_velocity_resampled</th>\n",
       "    </tr>\n",
       "  </thead>\n",
       "  <tbody>\n",
       "    <tr>\n",
       "      <th>0</th>\n",
       "      <td>O1757</td>\n",
       "      <td>wild type</td>\n",
       "      <td>12.5</td>\n",
       "      <td>1.003808</td>\n",
       "      <td>0.025534</td>\n",
       "      <td>127.776027</td>\n",
       "      <td>1.048852</td>\n",
       "    </tr>\n",
       "    <tr>\n",
       "      <th>0</th>\n",
       "      <td>O1757</td>\n",
       "      <td>wild type</td>\n",
       "      <td>12.5</td>\n",
       "      <td>1.003808</td>\n",
       "      <td>0.025534</td>\n",
       "      <td>127.776027</td>\n",
       "      <td>1.014026</td>\n",
       "    </tr>\n",
       "    <tr>\n",
       "      <th>0</th>\n",
       "      <td>O1757</td>\n",
       "      <td>wild type</td>\n",
       "      <td>12.5</td>\n",
       "      <td>1.003808</td>\n",
       "      <td>0.025534</td>\n",
       "      <td>127.776027</td>\n",
       "      <td>1.028799</td>\n",
       "    </tr>\n",
       "    <tr>\n",
       "      <th>0</th>\n",
       "      <td>O1757</td>\n",
       "      <td>wild type</td>\n",
       "      <td>12.5</td>\n",
       "      <td>1.003808</td>\n",
       "      <td>0.025534</td>\n",
       "      <td>127.776027</td>\n",
       "      <td>1.061027</td>\n",
       "    </tr>\n",
       "    <tr>\n",
       "      <th>0</th>\n",
       "      <td>O1757</td>\n",
       "      <td>wild type</td>\n",
       "      <td>12.5</td>\n",
       "      <td>1.003808</td>\n",
       "      <td>0.025534</td>\n",
       "      <td>127.776027</td>\n",
       "      <td>1.051494</td>\n",
       "    </tr>\n",
       "  </tbody>\n",
       "</table>\n",
       "</div>"
      ],
      "text/plain": [
       "  strain   genotype  concentration  initial_velocity  initial_velocity_stderr  \\\n",
       "0  O1757  wild type           12.5          1.003808                 0.025534   \n",
       "0  O1757  wild type           12.5          1.003808                 0.025534   \n",
       "0  O1757  wild type           12.5          1.003808                 0.025534   \n",
       "0  O1757  wild type           12.5          1.003808                 0.025534   \n",
       "0  O1757  wild type           12.5          1.003808                 0.025534   \n",
       "\n",
       "    intercept initial_velocity_resampled  \n",
       "0  127.776027                   1.048852  \n",
       "0  127.776027                   1.014026  \n",
       "0  127.776027                   1.028799  \n",
       "0  127.776027                   1.061027  \n",
       "0  127.776027                   1.051494  "
      ]
     },
     "execution_count": 13,
     "metadata": {},
     "output_type": "execute_result"
    }
   ],
   "source": [
    "bootstrapped_initial_velocity_df.head()"
   ]
  },
  {
   "cell_type": "markdown",
   "metadata": {
    "id": "GV3jwuFxX9oh"
   },
   "source": [
    "# Purified Protein Plot"
   ]
  },
  {
   "cell_type": "code",
   "execution_count": 14,
   "metadata": {
    "executionInfo": {
     "elapsed": 55,
     "status": "ok",
     "timestamp": 1709588902161,
     "user": {
      "displayName": "",
      "userId": ""
     },
     "user_tz": 300
    },
    "id": "O7GjAhgV7fc5"
   },
   "outputs": [],
   "source": [
    "genotype_to_library = {\n",
    "    'wild type': 'WT',\n",
    "    'A73R': 'epPCR',\n",
    "    'A73R,D74S': 'ML2',\n",
    "    'A63P,A73R,D74H,I84Y': 'ML3',\n",
    "    'A63S,D64S,A73R': 'DE3',\n",
    "    'D64A,A73R': 'ML2B',  # Also ML2\n",
    "    'A63S,A132P': 'DE3B', # Internal DE. (sorted from OB174)\n",
    "}\n",
    "genotype_order = ('wild type', 'A73R', 'A73R,D74S', 'A63S,D64S,A73R', 'A63P,A73R,D74H,I84Y')\n",
    "library_order = tuple(genotype_to_library[genotype] for genotype in genotype_order)\n",
    "\n",
    "custom_palette = (plotting.WT_COLOR, plotting.EPPCR_COLOR, plotting.ML2_COLOR, plotting.DE3_COLOR, plotting.ML3_COLOR)"
   ]
  },
  {
   "cell_type": "code",
   "execution_count": 15,
   "metadata": {
    "executionInfo": {
     "elapsed": 54,
     "status": "ok",
     "timestamp": 1709588902351,
     "user": {
      "displayName": "",
      "userId": ""
     },
     "user_tz": 300
    },
    "id": "tKAnUsdj7YtR"
   },
   "outputs": [],
   "source": [
    "# add fields\n",
    "bootstrapped_initial_velocity_df['activity'] = bootstrapped_initial_velocity_df['initial_velocity_resampled']\n",
    "bootstrapped_initial_velocity_df['library'] = bootstrapped_initial_velocity_df.genotype.apply(genotype_to_library.get)\n",
    "\n",
    "# remove other genotypes\n",
    "bootstrapped_initial_velocity_df = bootstrapped_initial_velocity_df[bootstrapped_initial_velocity_df.genotype.isin(genotype_order)]"
   ]
  },
  {
   "cell_type": "code",
   "execution_count": 16,
   "metadata": {
    "executionInfo": {
     "elapsed": 58,
     "status": "ok",
     "timestamp": 1709588902546,
     "user": {
      "displayName": "",
      "userId": ""
     },
     "user_tz": 300
    },
    "id": "VFd2WJKc4jjk",
    "outputId": "6a562ff2-2139-45af-d96f-693b5f41eba0"
   },
   "outputs": [
    {
     "data": {
      "text/plain": [
       "array(['wild type', 'A73R', 'A73R,D74S', 'A63P,A73R,D74H,I84Y',\n",
       "       'A63S,D64S,A73R'], dtype=object)"
      ]
     },
     "execution_count": 16,
     "metadata": {},
     "output_type": "execute_result"
    }
   ],
   "source": [
    "bootstrapped_initial_velocity_df.genotype.unique()"
   ]
  },
  {
   "cell_type": "code",
   "execution_count": 17,
   "metadata": {
    "executionInfo": {
     "elapsed": 3,
     "status": "ok",
     "timestamp": 1709588902708,
     "user": {
      "displayName": "",
      "userId": ""
     },
     "user_tz": 300
    },
    "id": "JlxXEqzM6hwT"
   },
   "outputs": [],
   "source": [
    "def get_activity_relative_to_wt(df):\n",
    "  wt_activities = df[df.genotype == 'wild type']['activity'].sample(n=len(df.activity), replace=True)\n",
    "  df['fold_change_activity'] = df['activity'] / wt_activities.values\n",
    "  return df"
   ]
  },
  {
   "cell_type": "code",
   "execution_count": 18,
   "metadata": {
    "executionInfo": {
     "elapsed": 54,
     "status": "ok",
     "timestamp": 1709588902919,
     "user": {
      "displayName": "",
      "userId": ""
     },
     "user_tz": 300
    },
    "id": "aafU6B_FTl5P"
   },
   "outputs": [
    {
     "name": "stderr",
     "output_type": "stream",
     "text": [
      "/var/folders/4g/l2k88w8157j_55v45frbffd0jyc_91/T/ipykernel_43649/3233985347.py:1: DeprecationWarning: DataFrameGroupBy.apply operated on the grouping columns. This behavior is deprecated, and in a future version of pandas the grouping columns will be excluded from the operation. Either pass `include_groups=False` to exclude the groupings or explicitly select the grouping columns after groupby to silence this warning.\n",
      "  normalized_df = bootstrapped_initial_velocity_df.groupby(by='concentration', group_keys=False).apply(get_activity_relative_to_wt)\n"
     ]
    }
   ],
   "source": [
    "normalized_df = bootstrapped_initial_velocity_df.groupby(by='concentration', group_keys=False).apply(get_activity_relative_to_wt)"
   ]
  },
  {
   "cell_type": "code",
   "execution_count": 19,
   "metadata": {
    "colab": {
     "height": 0
    },
    "executionInfo": {
     "elapsed": 296,
     "status": "ok",
     "timestamp": 1709588903357,
     "user": {
      "displayName": "",
      "userId": ""
     },
     "user_tz": 300
    },
    "id": "qhouzg7i8DqL",
    "outputId": "478fb359-7f38-467f-8a86-4552e89dc731"
   },
   "outputs": [
    {
     "name": "stderr",
     "output_type": "stream",
     "text": [
      "/Users/nthomas/git/nuclease_design/nuclease_design/plotting.py:326: FutureWarning: \n",
      "\n",
      "Passing `palette` without assigning `hue` is deprecated and will be removed in v0.14.0. Assign the `x` variable to `hue` and set `legend=False` for the same effect.\n",
      "\n",
      "  ax = sns.barplot(\n"
     ]
    },
    {
     "data": {
      "text/plain": [
       "Text(0.5, 0, '')"
      ]
     },
     "execution_count": 19,
     "metadata": {},
     "output_type": "execute_result"
    },
    {
     "data": {
      "image/png": "[encoded data removed]",
      "text/plain": [
       "<Figure size 800x600 with 1 Axes>"
      ]
     },
     "metadata": {},
     "output_type": "display_data"
    }
   ],
   "source": [
    "plt.figure(figsize=(8, 6))\n",
    "ax = plotting.plot_purified_protein_activity(\n",
    "    normalized_df,\n",
    "    library_order=library_order,\n",
    "    custom_palette=custom_palette,\n",
    ")\n",
    "\n",
    "points_df = (\n",
    "    normalized_df.groupby(by=['genotype', 'concentration'])\n",
    "    .agg({'fold_change_activity': 'mean'})\n",
    "    .reset_index()\n",
    ")\n",
    "points_df['library'] = points_df.genotype.apply(genotype_to_library.get)\n",
    "sns.stripplot(\n",
    "    data=points_df,\n",
    "    x='library',\n",
    "    y='fold_change_activity',\n",
    "    order=library_order,\n",
    "    marker='o',\n",
    "    facecolors='black',\n",
    "    edgecolor='black',\n",
    "    linewidth=1,\n",
    "    alpha=0.6,\n",
    "    ax=ax,\n",
    ")\n",
    "plt.xlabel('')"
   ]
  }
 ],
 "metadata": {
  "colab": {},
  "kernelspec": {
   "display_name": "Python 3 (ipykernel)",
   "language": "python",
   "name": "python3"
  },
  "language_info": {
   "codemirror_mode": {
    "name": "ipython",
    "version": 3
   },
   "file_extension": ".py",
   "mimetype": "text/x-python",
   "name": "python",
   "nbconvert_exporter": "python",
   "pygments_lexer": "ipython3",
   "version": "3.10.0"
  }
 },
 "nbformat": 4,
 "nbformat_minor": 1
}
