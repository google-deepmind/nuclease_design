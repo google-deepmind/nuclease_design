{
 "cells": [
  {
   "cell_type": "code",
   "execution_count": 1,
   "metadata": {
    "executionInfo": {
     "elapsed": 3,
     "status": "ok",
     "timestamp": 1709588893892,
     "user": {
      "displayName": "",
      "userId": ""
     },
     "user_tz": 300
    },
    "id": "_sUVkFM5bdkd"
   },
   "outputs": [],
   "source": [
    "# Copyright 2023 DeepMind Technologies Limited\n",
    "#\n",
    "# Licensed under the Apache License, Version 2.0 (the \"License\");\n",
    "# you may not use this file except in compliance with the License.\n",
    "# You may obtain a copy of the License at\n",
    "#\n",
    "#    http://www.apache.org/licenses/LICENSE-2.0\n",
    "#\n",
    "# Unless required by applicable law or agreed to in writing, software\n",
    "# distributed under the License is distributed on an \"AS IS\" BASIS,\n",
    "# WITHOUT WARRANTIES OR CONDITIONS OF ANY KIND, either express or implied.\n",
    "# See the License for the specific language governing permissions and\n",
    "# limitations under the License.\n",
    "# =============================================================================="
   ]
  },
  {
   "cell_type": "code",
   "execution_count": 2,
   "metadata": {
    "executionInfo": {
     "elapsed": 837,
     "status": "ok",
     "timestamp": 1709588894875,
     "user": {
      "displayName": "",
      "userId": ""
     },
     "user_tz": 300
    },
    "id": "kebN08NVbj3j"
   },
   "outputs": [
    {
     "name": "stdout",
     "output_type": "stream",
     "text": [
      "Collecting https://github.com/google-deepmind/nuclease-design.git\n",
      "\u001b[31m  ERROR: HTTP error 404 while getting https://github.com/google-deepmind/nuclease-design.git\u001b[0m\u001b[31m\n",
      "\u001b[0m\u001b[31mERROR: Could not install requirement https://github.com/google-deepmind/nuclease-design.git because of HTTP error 404 Client Error: Not Found for url: https://github.com/google-deepmind/nuclease-design for URL https://github.com/google-deepmind/nuclease-design.git\u001b[0m\u001b[31m\n",
      "\u001b[0m"
     ]
    }
   ],
   "source": [
    "#!pip install --upgrade https://github.com/google-deepmind/nuclease-design.git\n"
   ]
  },
  {
   "cell_type": "code",
   "execution_count": 3,
   "metadata": {
    "executionInfo": {
     "elapsed": 2493,
     "status": "ok",
     "timestamp": 1709588897509,
     "user": {
      "displayName": "",
      "userId": ""
     },
     "user_tz": 300
    },
    "id": "HJcvvZaq4WLK"
   },
   "outputs": [
    {
     "ename": "ModuleNotFoundError",
     "evalue": "No module named 'pandas'",
     "output_type": "error",
     "traceback": [
      "\u001b[0;31m---------------------------------------------------------------------------\u001b[0m",
      "\u001b[0;31mModuleNotFoundError\u001b[0m                       Traceback (most recent call last)",
      "Cell \u001b[0;32mIn[3], line 2\u001b[0m\n\u001b[1;32m      1\u001b[0m \u001b[38;5;28;01mimport\u001b[39;00m \u001b[38;5;21;01mnumpy\u001b[39;00m \u001b[38;5;28;01mas\u001b[39;00m \u001b[38;5;21;01mnp\u001b[39;00m\n\u001b[0;32m----> 2\u001b[0m \u001b[38;5;28;01mimport\u001b[39;00m \u001b[38;5;21;01mpandas\u001b[39;00m \u001b[38;5;28;01mas\u001b[39;00m \u001b[38;5;21;01mpd\u001b[39;00m\n\u001b[1;32m      3\u001b[0m \u001b[38;5;28;01mimport\u001b[39;00m \u001b[38;5;21;01mxml\u001b[39;00m\u001b[38;5;21;01m.\u001b[39;00m\u001b[38;5;21;01metree\u001b[39;00m\u001b[38;5;21;01m.\u001b[39;00m\u001b[38;5;21;01mElementTree\u001b[39;00m \u001b[38;5;28;01mas\u001b[39;00m \u001b[38;5;21;01mET\u001b[39;00m\n\u001b[1;32m      5\u001b[0m \u001b[38;5;28;01mimport\u001b[39;00m \u001b[38;5;21;01mmatplotlib\u001b[39;00m\u001b[38;5;21;01m.\u001b[39;00m\u001b[38;5;21;01mpyplot\u001b[39;00m \u001b[38;5;28;01mas\u001b[39;00m \u001b[38;5;21;01mplt\u001b[39;00m\n",
      "\u001b[0;31mModuleNotFoundError\u001b[0m: No module named 'pandas'"
     ]
    }
   ],
   "source": [
    "import numpy as np\n",
    "import pandas as pd\n",
    "import xml.etree.ElementTree as ET\n",
    "\n",
    "import matplotlib.pyplot as plt\n",
    "import seaborn as sns\n",
    "from scipy import stats\n",
    "\n",
    "from nuclease_design import utils\n",
    "from nuclease_design import plotting\n",
    "from nuclease_design import constants"
   ]
  },
  {
   "cell_type": "markdown",
   "metadata": {
    "id": "ZG_0sMcnJp0e"
   },
   "source": [
    "# Constants"
   ]
  },
  {
   "cell_type": "code",
   "execution_count": null,
   "metadata": {
    "executionInfo": {
     "elapsed": 3,
     "status": "ok",
     "timestamp": 1709588897656,
     "user": {
      "displayName": "",
      "userId": ""
     },
     "user_tz": 300
    },
    "id": "VdDfCrs6Iee8"
   },
   "outputs": [],
   "source": [
    "RANDOM_SEED = 0\n",
    "DEFAULT_NUM_BOOTSTRAPS = 1000\n",
    "RANDOM_STATE = np.random.RandomState(RANDOM_SEED)"
   ]
  },
  {
   "cell_type": "code",
   "execution_count": null,
   "metadata": {
    "executionInfo": {
     "elapsed": 1,
     "status": "ok",
     "timestamp": 1709588897815,
     "user": {
      "displayName": "",
      "userId": ""
     },
     "user_tz": 300
    },
    "id": "D8G7jBq2K3YM"
   },
   "outputs": [],
   "source": [
    "DATA_DIR = constants.DATA_DIR"
   ]
  },
  {
   "cell_type": "markdown",
   "metadata": {
    "id": "cLM9DFTVIgAK"
   },
   "source": [
    "# Helper fns"
   ]
  },
  {
   "cell_type": "code",
   "execution_count": null,
   "metadata": {
    "executionInfo": {
     "elapsed": 2,
     "status": "ok",
     "timestamp": 1709588897959,
     "user": {
      "displayName": "",
      "userId": ""
     },
     "user_tz": 300
    },
    "id": "SxDHzRVAIh_Q"
   },
   "outputs": [],
   "source": [
    "def parse_activity_df_from_xml(activity_path):\n",
    "  with utils.open_file(activity_path, 'rb', DATA_DIR) as f:\n",
    "    tree = ET.parse(f)\n",
    "    root = tree.getroot()\n",
    "\n",
    "  well_dfs = []\n",
    "  for sections in root.iter('PlateSection'):\n",
    "      if (sections.attrib['Name'] != 'Plate1'):\n",
    "        raise ValueError(f'Unexpected Plate {sections.attrib[\"Name\"]}')\n",
    "      for well in sections.iter('Well'):\n",
    "          fluorescence = pd.Series(well.find('RawData').text.split(), dtype=float)\n",
    "          time = pd.Series(well.find('TimeData').text.split(), dtype=float) / 60  # seconds to minutes\n",
    "          well = well.get('Name')\n",
    "          well_dfs.append(pd.DataFrame({'well': well, 'fluorescence': fluorescence, 'time': time}))\n",
    "  return pd.concat(well_dfs, ignore_index=True)\n"
   ]
  },
  {
   "cell_type": "code",
   "execution_count": null,
   "metadata": {
    "executionInfo": {
     "elapsed": 54,
     "status": "ok",
     "timestamp": 1709588898155,
     "user": {
      "displayName": "",
      "userId": ""
     },
     "user_tz": 300
    },
    "id": "RwnVX4RbIkfQ"
   },
   "outputs": [],
   "source": [
    "# The number of points used here is to guarantee that we are measuring\n",
    "# initial velocity in the linear regime of the reaction\n",
    "# See https://www.ncbi.nlm.nih.gov/pmc/articles/PMC4692135/ \"Properties and mechanisms of enzyme action\"\n",
    "# for details\n",
    "def add_initial_velocity(df, num_points=10):\n",
    "  df = df.sort_values(by=['time'], ascending=True)\n",
    "  x = df['time'][:num_points]\n",
    "  y = df['fluorescence'][:num_points]\n",
    "\n",
    "  result = stats.linregress(x, y, alternative='two-sided')\n",
    "\n",
    "  slope_stderr = result.stderr\n",
    "  slope = result.slope\n",
    "  return pd.Series({'initial_velocity': slope, 'initial_velocity_stderr': slope_stderr, 'intercept': result.intercept})\n",
    "\n",
    "# The wildtype is a particularly slow reaction, so we have many more points in\n",
    "# the linear regime.\n",
    "def add_initial_velocity_wrapper(df):\n",
    "  if df.genotype.unique().item() == 'wild type':\n",
    "    return add_initial_velocity(df, num_points=100)\n",
    "  else:\n",
    "    return add_initial_velocity(df)\n",
    "\n",
    "def parametric_resample_row(row, random_state, n_bootstraps):\n",
    "  mean = row['initial_velocity']\n",
    "  stdev = row['initial_velocity_stderr']\n",
    "  return random_state.normal(loc=mean, scale=stdev, size=n_bootstraps)\n",
    "\n",
    "def get_bootstrapped_initial_velocity_df(df, random_state, n_bootstraps=DEFAULT_NUM_BOOTSTRAPS):\n",
    "  return df.apply(parametric_resample_row, axis=1, random_state=random_state, n_bootstraps=n_bootstraps)\n"
   ]
  },
  {
   "cell_type": "markdown",
   "metadata": {
    "id": "dDFfk5CWIY2m"
   },
   "source": [
    "# Read in plate data"
   ]
  },
  {
   "cell_type": "code",
   "execution_count": null,
   "metadata": {
    "executionInfo": {
     "elapsed": 1535,
     "status": "ok",
     "timestamp": 1709588899835,
     "user": {
      "displayName": "",
      "userId": ""
     },
     "user_tz": 300
    },
    "id": "EjZY-dtPDE7K"
   },
   "outputs": [],
   "source": [
    "with utils.open_file(constants.PLATE_GENOTYPES_PATH, 'r', DATA_DIR) as f:\n",
    "  genotypes_df = pd.read_csv(f)"
   ]
  },
  {
   "cell_type": "code",
   "execution_count": null,
   "metadata": {
    "executionInfo": {
     "elapsed": 54,
     "status": "ok",
     "timestamp": 1709588900046,
     "user": {
      "displayName": "",
      "userId": ""
     },
     "user_tz": 300
    },
    "id": "sE2LttYQ3LQX"
   },
   "outputs": [],
   "source": [
    "platemap = {\n",
    "    'O403':  ['A1', 'A2', 'A3', 'A4'],\n",
    "    'O1757': ['C1', 'C2', 'C3', 'C4'],\n",
    "    'O2360': ['E1', 'E2', 'E3', 'E4'],\n",
    "    'O3188': ['G1', 'G2', 'G3', 'G4'],\n",
    "    'O3459': ['I1', 'I2', 'I3', 'I4'],\n",
    "    'O3512': ['K1', 'K2', 'K3', 'K4'],\n",
    "    'O3513': ['M1', 'M2', 'M3', 'M4'],\n",
    "    'O4060': ['O1', 'O2', 'O3', 'O4'],\n",
    "}\n",
    "\n",
    "well_to_strain = {}\n",
    "for strain, wells in platemap.items():\n",
    "  for well in wells:\n",
    "    well_to_strain[well] = strain\n",
    "\n",
    "well_to_concentration = {}\n",
    "for row in ['A', 'B', 'C', 'D', 'E', 'F', 'G', 'H', 'I', 'J', 'K', 'M', 'O']:\n",
    "  for concentration, column in zip([100, 50, 25, 12.5], ['1', '2', '3', '4']):\n",
    "    well_to_concentration[''.join([row, column])] = concentration"
   ]
  },
  {
   "cell_type": "code",
   "execution_count": null,
   "metadata": {
    "executionInfo": {
     "elapsed": 645,
     "status": "ok",
     "timestamp": 1709588900849,
     "user": {
      "displayName": "",
      "userId": ""
     },
     "user_tz": 300
    },
    "id": "nbedAK674jcD"
   },
   "outputs": [],
   "source": [
    "df = parse_activity_df_from_xml(constants.TIME_SERIES_ACTIVITY_XML_PATH)\n",
    "df['strain'] = df['well'].apply(well_to_strain.get)\n",
    "df.dropna(subset=['strain'], inplace=True)\n",
    "df = df[df['strain'] != 'O403']  # Removing WT assessed in a different background strain\n",
    "df = df.merge(genotypes_df, how='left', on='strain')\n",
    "df['concentration'] = df['well'].apply(well_to_concentration.get)"
   ]
  },
  {
   "cell_type": "markdown",
   "metadata": {
    "id": "U0Ty_XQXIamp"
   },
   "source": [
    "# Compute enzyme reaction rate"
   ]
  },
  {
   "cell_type": "markdown",
   "metadata": {
    "id": "WF4xbbkRwHxo"
   },
   "source": [
    "## Example of fitting reaction trajectory in linear regime"
   ]
  },
  {
   "cell_type": "code",
   "execution_count": null,
   "metadata": {},
   "outputs": [],
   "source": [
    "slope = add_initial_velocity(df[df.well == 'K1'])['initial_velocity']\n",
    "stderr = add_initial_velocity(df[df.well == 'K1'])['initial_velocity_stderr']\n",
    "intercept = add_initial_velocity(df[df.well == 'K1'])['intercept']"
   ]
  },
  {
   "cell_type": "code",
   "execution_count": null,
   "metadata": {
    "colab": {
     "height": 0
    },
    "executionInfo": {
     "elapsed": 225,
     "status": "ok",
     "timestamp": 1709588901422,
     "user": {
      "displayName": "",
      "userId": ""
     },
     "user_tz": 300
    },
    "id": "p9TmlOKiCuTB",
    "outputId": "aacf9333-3b39-4480-cb8a-caf092903661"
   },
   "outputs": [],
   "source": [
    "plotdf = df[(df['well'] == 'K1')]\n",
    "sns.scatterplot(data=plotdf, x='time', y='fluorescence', s=4)\n",
    "plt.ylim(bottom=0)\n",
    "plt.plot(plotdf.time, intercept + slope * plotdf.time, 'black', alpha=0.5, label='initial velocity fit')\n",
    "plt.title(f'{plotdf.genotype.iloc[0]} conc {plotdf.concentration.iloc[0]} well {plotdf[\"well\"].unique()}')\n",
    "plt.show()"
   ]
  },
  {
   "cell_type": "markdown",
   "metadata": {
    "id": "WZOPQpoJIpoS"
   },
   "source": [
    "## Add bootstrapped estimates of the rate"
   ]
  },
  {
   "cell_type": "code",
   "execution_count": null,
   "metadata": {
    "executionInfo": {
     "elapsed": 55,
     "status": "ok",
     "timestamp": 1709588901672,
     "user": {
      "displayName": "",
      "userId": ""
     },
     "user_tz": 300
    },
    "id": "3DYNyyhSWiXm"
   },
   "outputs": [],
   "source": [
    "initial_velocity_df = df.groupby(['strain', 'genotype', 'concentration'], group_keys=True).apply(add_initial_velocity_wrapper).reset_index()\n",
    "initial_velocity_df['initial_velocity_resampled'] = get_bootstrapped_initial_velocity_df(initial_velocity_df, RANDOM_STATE)\n",
    "bootstrapped_initial_velocity_df = initial_velocity_df.explode('initial_velocity_resampled')"
   ]
  },
  {
   "cell_type": "code",
   "execution_count": null,
   "metadata": {
    "colab": {
     "height": 206
    },
    "executionInfo": {
     "elapsed": 59,
     "status": "ok",
     "timestamp": 1709588901893,
     "user": {
      "displayName": "",
      "userId": ""
     },
     "user_tz": 300
    },
    "id": "1gNg9OO_eC6C",
    "outputId": "5696e58d-f19f-43a7-8b02-8e9582093e72"
   },
   "outputs": [],
   "source": [
    "bootstrapped_initial_velocity_df.head()"
   ]
  },
  {
   "cell_type": "markdown",
   "metadata": {
    "id": "GV3jwuFxX9oh"
   },
   "source": [
    "# Purified Protein Plot"
   ]
  },
  {
   "cell_type": "code",
   "execution_count": null,
   "metadata": {
    "executionInfo": {
     "elapsed": 55,
     "status": "ok",
     "timestamp": 1709588902161,
     "user": {
      "displayName": "",
      "userId": ""
     },
     "user_tz": 300
    },
    "id": "O7GjAhgV7fc5"
   },
   "outputs": [],
   "source": [
    "genotype_to_library = {\n",
    "    'wild type': 'WT',\n",
    "    'A73R': 'epPCR',\n",
    "    'A73R,D74S': 'ML2',\n",
    "    'A63P,A73R,D74H,I84Y': 'ML3',\n",
    "    'A63S,D64S,A73R': 'DE3',\n",
    "    'D64A,A73R': 'ML2B',  # Also ML2\n",
    "    'A63S,A132P': 'DE3B', # Internal DE. (sorted from OB174)\n",
    "}\n",
    "genotype_order = ('wild type', 'A73R', 'A73R,D74S', 'A63S,D64S,A73R', 'A63P,A73R,D74H,I84Y')\n",
    "library_order = tuple(genotype_to_library[genotype] for genotype in genotype_order)\n",
    "\n",
    "custom_palette = (plotting.WT_COLOR, plotting.EPPCR_COLOR, plotting.ML2_COLOR, plotting.DE3_COLOR, plotting.ML3_COLOR)"
   ]
  },
  {
   "cell_type": "code",
   "execution_count": null,
   "metadata": {
    "executionInfo": {
     "elapsed": 54,
     "status": "ok",
     "timestamp": 1709588902351,
     "user": {
      "displayName": "",
      "userId": ""
     },
     "user_tz": 300
    },
    "id": "tKAnUsdj7YtR"
   },
   "outputs": [],
   "source": [
    "# add fields\n",
    "bootstrapped_initial_velocity_df['activity'] = bootstrapped_initial_velocity_df['initial_velocity_resampled']\n",
    "bootstrapped_initial_velocity_df['library'] = bootstrapped_initial_velocity_df.genotype.apply(genotype_to_library.get)\n",
    "\n",
    "# remove other genotypes\n",
    "bootstrapped_initial_velocity_df = bootstrapped_initial_velocity_df[bootstrapped_initial_velocity_df.genotype.isin(genotype_order)]"
   ]
  },
  {
   "cell_type": "code",
   "execution_count": null,
   "metadata": {
    "executionInfo": {
     "elapsed": 58,
     "status": "ok",
     "timestamp": 1709588902546,
     "user": {
      "displayName": "",
      "userId": ""
     },
     "user_tz": 300
    },
    "id": "VFd2WJKc4jjk",
    "outputId": "6a562ff2-2139-45af-d96f-693b5f41eba0"
   },
   "outputs": [],
   "source": [
    "bootstrapped_initial_velocity_df.genotype.unique()"
   ]
  },
  {
   "cell_type": "code",
   "execution_count": null,
   "metadata": {
    "executionInfo": {
     "elapsed": 3,
     "status": "ok",
     "timestamp": 1709588902708,
     "user": {
      "displayName": "",
      "userId": ""
     },
     "user_tz": 300
    },
    "id": "JlxXEqzM6hwT"
   },
   "outputs": [],
   "source": [
    "def get_activity_relative_to_wt(df):\n",
    "  wt_activities = df[df.genotype == 'wild type']['activity'].sample(n=len(df.activity), replace=True)\n",
    "  df['fold_change_activity'] = df['activity'] / wt_activities.values\n",
    "  return df"
   ]
  },
  {
   "cell_type": "code",
   "execution_count": null,
   "metadata": {
    "executionInfo": {
     "elapsed": 54,
     "status": "ok",
     "timestamp": 1709588902919,
     "user": {
      "displayName": "",
      "userId": ""
     },
     "user_tz": 300
    },
    "id": "aafU6B_FTl5P"
   },
   "outputs": [],
   "source": [
    "normalized_df = bootstrapped_initial_velocity_df.groupby(by='concentration', group_keys=False).apply(get_activity_relative_to_wt)"
   ]
  },
  {
   "cell_type": "code",
   "execution_count": null,
   "metadata": {
    "colab": {
     "height": 0
    },
    "executionInfo": {
     "elapsed": 296,
     "status": "ok",
     "timestamp": 1709588903357,
     "user": {
      "displayName": "",
      "userId": ""
     },
     "user_tz": 300
    },
    "id": "qhouzg7i8DqL",
    "outputId": "478fb359-7f38-467f-8a86-4552e89dc731"
   },
   "outputs": [],
   "source": [
    "plt.figure(figsize=(8, 6))\n",
    "ax = plotting.plot_purified_protein_activity(\n",
    "    normalized_df,\n",
    "    library_order=library_order,\n",
    "    custom_palette=custom_palette,\n",
    ")\n",
    "\n",
    "points_df = (\n",
    "    normalized_df.groupby(by=['genotype', 'concentration'])\n",
    "    .agg({'fold_change_activity': 'mean'})\n",
    "    .reset_index()\n",
    ")\n",
    "points_df['library'] = points_df.genotype.apply(genotype_to_library.get)\n",
    "sns.stripplot(\n",
    "    data=points_df,\n",
    "    x='library',\n",
    "    y='fold_change_activity',\n",
    "    order=library_order,\n",
    "    marker='o',\n",
    "    facecolors='black',\n",
    "    edgecolor='black',\n",
    "    linewidth=1,\n",
    "    alpha=0.6,\n",
    "    ax=ax,\n",
    ")\n",
    "plt.xlabel('')"
   ]
  },
  {
   "cell_type": "code",
   "execution_count": null,
   "metadata": {
    "colab": {
     "height": 0
    },
    "executionInfo": {
     "elapsed": 565,
     "status": "ok",
     "timestamp": 1709588904114,
     "user": {
      "displayName": "",
      "userId": ""
     },
     "user_tz": 300
    },
    "id": "caEAzZlLI44C",
    "outputId": "467f0c3e-53ed-4849-dda3-e9ce3f9e4c32"
   },
   "outputs": [],
   "source": [
    "plt.figure(figsize=(6, 4))\n",
    "ax = sns.lineplot(\n",
    "    data=normalized_df,\n",
    "    x='concentration',\n",
    "    y='activity',\n",
    "    hue='library',\n",
    "    errorbar='sd',\n",
    "    err_style='band',\n",
    "    hue_order=library_order,\n",
    "    marker='o',\n",
    "    palette=custom_palette,\n",
    ")\n",
    "sns.move_legend(ax, 'upper left', bbox_to_anchor=(1, 1))\n",
    "ax.get_legend().set_title('Best Strain')"
   ]
  },
  {
   "cell_type": "code",
   "execution_count": null,
   "metadata": {
    "colab": {
     "height": 0
    },
    "executionInfo": {
     "elapsed": 313,
     "status": "ok",
     "timestamp": 1709588904599,
     "user": {
      "displayName": "",
      "userId": ""
     },
     "user_tz": 300
    },
    "id": "mWd3Gg7NJKFG",
    "outputId": "eadb8434-3171-49e7-c3e9-479df59e661c"
   },
   "outputs": [],
   "source": [
    "plt.figure(figsize=(6, 4))\n",
    "ax = sns.lineplot(\n",
    "    data=normalized_df,\n",
    "    x='concentration',\n",
    "    y='fold_change_activity',\n",
    "    hue_order=library_order,\n",
    "    errorbar='sd',\n",
    "    err_style='band',\n",
    "    hue='library',\n",
    "    marker='o',\n",
    "    palette=custom_palette,\n",
    ")\n",
    "plt.legend(bbox_to_anchor=[1.0, 1.05])\n",
    "ax.get_legend().set_title('Best Strain')"
   ]
  },
  {
   "cell_type": "markdown",
   "metadata": {
    "id": "nf30tURiW8eL"
   },
   "source": [
    "# Permutation test\n",
    "\n",
    "Test whether the fold_change_activity is greater for ML3 than DE3"
   ]
  },
  {
   "cell_type": "code",
   "execution_count": null,
   "metadata": {
    "executionInfo": {
     "elapsed": 55,
     "status": "ok",
     "timestamp": 1709588904839,
     "user": {
      "displayName": "",
      "userId": ""
     },
     "user_tz": 300
    },
    "id": "LupS8kPuW9kB"
   },
   "outputs": [],
   "source": [
    "initial_velocity_df = df.groupby(['strain', 'genotype', 'concentration'], group_keys=True).apply(add_initial_velocity_wrapper).reset_index()\n",
    "initial_velocity_df['activity'] = initial_velocity_df['initial_velocity']\n",
    "initial_velocity_df['library'] = initial_velocity_df.genotype.apply(genotype_to_library.get)\n",
    "normalized_no_bootstrap_df = initial_velocity_df.groupby(by='concentration', group_keys=False).apply(get_activity_relative_to_wt)"
   ]
  },
  {
   "cell_type": "code",
   "execution_count": null,
   "metadata": {
    "colab": {
     "height": 0
    },
    "executionInfo": {
     "elapsed": 59,
     "status": "ok",
     "timestamp": 1709588905063,
     "user": {
      "displayName": "",
      "userId": ""
     },
     "user_tz": 300
    },
    "id": "sd0HFwVR3fbW",
    "outputId": "4abb1f01-bddd-4934-d938-862e51b64b99"
   },
   "outputs": [],
   "source": [
    "normalized_no_bootstrap_df[normalized_no_bootstrap_df['library'].isin(['DE3', 'ML3', 'WT'])][['library', 'concentration', 'fold_change_activity']]"
   ]
  },
  {
   "cell_type": "code",
   "execution_count": null,
   "metadata": {
    "executionInfo": {
     "elapsed": 56,
     "status": "ok",
     "timestamp": 1709588905297,
     "user": {
      "displayName": "",
      "userId": ""
     },
     "user_tz": 300
    },
    "id": "V4y_XwKAX8DV"
   },
   "outputs": [],
   "source": [
    "de3_fold_changes = normalized_no_bootstrap_df[normalized_no_bootstrap_df['library'] == 'DE3']['fold_change_activity'].values"
   ]
  },
  {
   "cell_type": "code",
   "execution_count": null,
   "metadata": {
    "executionInfo": {
     "elapsed": 3,
     "status": "ok",
     "timestamp": 1709588905456,
     "user": {
      "displayName": "",
      "userId": ""
     },
     "user_tz": 300
    },
    "id": "PoPDrRzJX_TA"
   },
   "outputs": [],
   "source": [
    "ml3_fold_changes = normalized_no_bootstrap_df[normalized_no_bootstrap_df['library'] == 'ML3']['fold_change_activity'].values"
   ]
  },
  {
   "cell_type": "code",
   "execution_count": null,
   "metadata": {
    "executionInfo": {
     "elapsed": 60,
     "status": "ok",
     "timestamp": 1709588905663,
     "user": {
      "displayName": "",
      "userId": ""
     },
     "user_tz": 300
    },
    "id": "mXesALPeXWzR",
    "outputId": "752febdf-f878-48de-dc7d-9b36d2b7463c"
   },
   "outputs": [],
   "source": [
    "def statistic(x, y, axis):\n",
    "    return np.mean(x, axis=axis) - np.mean(y, axis=axis)\n",
    "\n",
    "statistic(de3_fold_changes, ml3_fold_changes, axis=0)"
   ]
  },
  {
   "cell_type": "code",
   "execution_count": null,
   "metadata": {
    "executionInfo": {
     "elapsed": 54,
     "status": "ok",
     "timestamp": 1709588905869,
     "user": {
      "displayName": "",
      "userId": ""
     },
     "user_tz": 300
    },
    "id": "U0fwHpHMYQNS"
   },
   "outputs": [],
   "source": [
    "# Taken from https://docs.scipy.org/doc/scipy/reference/generated/scipy.stats.permutation_test.html\n",
    "# because our statistic is vectorized, we pass `vectorized=True`\n",
    "# `n_resamples=np.inf` indicates that an exact test is to be performed\n",
    "res = stats.permutation_test(\n",
    "    (de3_fold_changes, ml3_fold_changes),\n",
    "    statistic,\n",
    "    vectorized=True,\n",
    "    n_resamples=np.inf,\n",
    "    alternative='less',\n",
    ")"
   ]
  },
  {
   "cell_type": "code",
   "execution_count": null,
   "metadata": {
    "executionInfo": {
     "elapsed": 53,
     "status": "ok",
     "timestamp": 1709588906089,
     "user": {
      "displayName": "",
      "userId": ""
     },
     "user_tz": 300
    },
    "id": "bXpfe97cYa-Z",
    "outputId": "c472ffaf-faef-4836-a05e-937cca39005e"
   },
   "outputs": [],
   "source": [
    "print(res.statistic)"
   ]
  },
  {
   "cell_type": "code",
   "execution_count": null,
   "metadata": {
    "executionInfo": {
     "elapsed": 2,
     "status": "ok",
     "timestamp": 1709588906253,
     "user": {
      "displayName": "",
      "userId": ""
     },
     "user_tz": 300
    },
    "id": "ZW1HuMNDYcP2",
    "outputId": "cfa0b53d-98ad-46a3-a7b7-98a9d667d83a"
   },
   "outputs": [],
   "source": [
    "print(res.pvalue)"
   ]
  },
  {
   "cell_type": "code",
   "execution_count": null,
   "metadata": {
    "executionInfo": {
     "elapsed": 59,
     "status": "ok",
     "timestamp": 1709588906473,
     "user": {
      "displayName": "",
      "userId": ""
     },
     "user_tz": 300
    },
    "id": "82bBnA_yU1iH",
    "outputId": "ef1e7bcb-fd9d-4028-c474-b811c2f32c9b"
   },
   "outputs": [],
   "source": [
    "stats.ttest_ind(de3_fold_changes, ml3_fold_changes)"
   ]
  },
  {
   "cell_type": "markdown",
   "metadata": {
    "id": "cBBLurH2wqe8"
   },
   "source": [
    "## Account for uncertainty in slope estimation\n",
    "\n",
    "We can do the same permutation test on our parametric bootstrap resamples of\n",
    "\n",
    "  $$ \\dfrac{\\text{initial_velocity_A}} {\\text{initial_velocity_WT}} $$\n",
    "\n",
    "  where both the distribution of the numerator and denominator are modeled as Gaussian"
   ]
  },
  {
   "cell_type": "code",
   "execution_count": null,
   "metadata": {
    "colab": {
     "height": 0
    },
    "executionInfo": {
     "elapsed": 311,
     "status": "ok",
     "timestamp": 1709588906926,
     "user": {
      "displayName": "",
      "userId": ""
     },
     "user_tz": 300
    },
    "id": "Z-c5JwIFuib9",
    "outputId": "b338fe01-1f33-40ed-e006-c4a80152726b"
   },
   "outputs": [],
   "source": [
    "sns.histplot(data=normalized_df[normalized_df['library'].isin(['DE3', 'ML3'])], hue='library', x='fold_change_activity')"
   ]
  },
  {
   "cell_type": "code",
   "execution_count": null,
   "metadata": {
    "executionInfo": {
     "elapsed": 55,
     "status": "ok",
     "timestamp": 1709588907162,
     "user": {
      "displayName": "",
      "userId": ""
     },
     "user_tz": 300
    },
    "id": "_L0ctpqAs5Rr"
   },
   "outputs": [],
   "source": [
    "de3_fold_changes_resampled = normalized_df[normalized_df['library'] == 'DE3']['fold_change_activity'].values"
   ]
  },
  {
   "cell_type": "code",
   "execution_count": null,
   "metadata": {
    "executionInfo": {
     "elapsed": 55,
     "status": "ok",
     "timestamp": 1709588907347,
     "user": {
      "displayName": "",
      "userId": ""
     },
     "user_tz": 300
    },
    "id": "C0YAawV5tLIK"
   },
   "outputs": [],
   "source": [
    "ml3_fold_changes_resampled = normalized_df[normalized_df['library'] == 'ML3']['fold_change_activity'].values"
   ]
  },
  {
   "cell_type": "code",
   "execution_count": null,
   "metadata": {
    "colab": {
     "height": 806
    },
    "executionInfo": {
     "elapsed": 1112,
     "status": "ok",
     "timestamp": 1709588908601,
     "user": {
      "displayName": "",
      "userId": ""
     },
     "user_tz": 300
    },
    "id": "uha_-VQRt_6w",
    "outputId": "8b9b4f3a-ea03-4995-ff15-a186281ec8d2"
   },
   "outputs": [],
   "source": [
    "for n_resamples in [10, 100, 1000]:\n",
    "  res = stats.permutation_test(\n",
    "      (de3_fold_changes_resampled, ml3_fold_changes_resampled),\n",
    "      statistic,\n",
    "      vectorized=True,\n",
    "      n_resamples=n_resamples,\n",
    "      alternative='less',\n",
    "      permutation_type='independent'\n",
    "  )\n",
    "  n, _, _ = plt.hist(res.null_distribution)\n",
    "  plt.title(f'resamples: {n_resamples} statistic: {res.statistic:.2f} pvalue: {res.pvalue:0.2e}')\n",
    "  plt.vlines(x=res.statistic, ymin=0, ymax=np.max(n))\n",
    "  plt.show()"
   ]
  },
  {
   "cell_type": "markdown",
   "metadata": {
    "id": "uQgkdN-B4ZKS"
   },
   "source": [
    "This dependence on the number of permutation test resamples is due to the test statistic being so significant that our numerical approximation of the p-value breaks down. In any case, this is clearly a significant result, and there's no reason to push any further on it"
   ]
  },
  {
   "cell_type": "markdown",
   "metadata": {
    "id": "VnZEXUu0Cd4K"
   },
   "source": [
    "# Appendix"
   ]
  },
  {
   "cell_type": "code",
   "execution_count": null,
   "metadata": {
    "executionInfo": {
     "elapsed": 57,
     "status": "ok",
     "timestamp": 1709588908809,
     "user": {
      "displayName": "",
      "userId": ""
     },
     "user_tz": 300
    },
    "id": "76KJ-WoECext"
   },
   "outputs": [],
   "source": [
    "def make_initial_velocity_plot(df, genotype, concentration):\n",
    "    genotype_df = df[\n",
    "        (df['genotype'] == genotype) & (df['concentration'] == concentration)\n",
    "    ]\n",
    "    wtdf = df[\n",
    "        (df['genotype'] == 'wild type') & (df['concentration'] == concentration)\n",
    "    ]\n",
    "    genotype_slope = add_initial_velocity_wrapper(genotype_df)['initial_velocity']\n",
    "    genotype_intercept = add_initial_velocity_wrapper(genotype_df)['intercept']\n",
    "\n",
    "    wt_slope = add_initial_velocity_wrapper(wtdf)['initial_velocity']\n",
    "    wt_intercept = add_initial_velocity_wrapper(wtdf)['intercept']\n",
    "\n",
    "    sns.scatterplot(\n",
    "        data=pd.concat([genotype_df, wtdf]),\n",
    "        x='time',\n",
    "        y='fluorescence',\n",
    "        s=8,\n",
    "        alpha=0.5,\n",
    "        hue='genotype',\n",
    "        hue_order=['wild type', genotype],\n",
    "    )\n",
    "    plt.legend()\n",
    "\n",
    "    wt_args = (wt_slope, wt_intercept, wtdf)\n",
    "    genotype_args = (genotype_slope, genotype_intercept, genotype_df)\n",
    "    for i, args in enumerate([wt_args, genotype_args]):\n",
    "      slope, intercept, plotdf = args\n",
    "      plt.plot(\n",
    "          plotdf.time,\n",
    "          intercept + slope * plotdf.time,\n",
    "          alpha=0.2,)\n",
    "\n",
    "    plt.ylim(bottom=0)\n",
    "    plt.title(\n",
    "        f'{genotype} conc {concentration} ng/mL well'\n",
    "        f' {genotype_df[\"well\"].unique()}'\n",
    "    )\n",
    "    plt.xlabel('time (min)')\n",
    "    plt.xlim(left=0, right=40)\n",
    "    # 2 minutes is what we used for slope estimation, 20 minutes is what we used for WT\n",
    "    plt.xticks([0, 2, 10, 20, 30, 40])\n",
    "    plt.show()\n"
   ]
  },
  {
   "cell_type": "code",
   "execution_count": null,
   "metadata": {
    "colab": {
     "height": 1000
    },
    "executionInfo": {
     "elapsed": 4497,
     "status": "ok",
     "timestamp": 1709588913459,
     "user": {
      "displayName": "",
      "userId": ""
     },
     "user_tz": 300
    },
    "id": "jfZera2-5UQA",
    "outputId": "dbcceef8-a115-4d6d-b704-5654bc2b49e5"
   },
   "outputs": [],
   "source": [
    "for genotype in df['genotype'].unique():\n",
    "  for concentration in df['concentration'].unique():\n",
    "    if genotype == 'wild type':\n",
    "      continue\n",
    "    with sns.axes_style('ticks'):\n",
    "      make_initial_velocity_plot(df, genotype, concentration)"
   ]
  },
  {
   "cell_type": "code",
   "execution_count": null,
   "metadata": {
    "executionInfo": {
     "elapsed": 3,
     "status": "ok",
     "timestamp": 1709588913611,
     "user": {
      "displayName": "",
      "userId": ""
     },
     "user_tz": 300
    },
    "id": "mXxAGnEEtDG6"
   },
   "outputs": [],
   "source": [
    "# Todo - add wt, DE3, ML3 fluorescence plots"
   ]
  },
  {
   "cell_type": "markdown",
   "metadata": {
    "id": "hL4QfjsZtCYt"
   },
   "source": [
    "# Appendix"
   ]
  },
  {
   "cell_type": "markdown",
   "metadata": {
    "id": "gHo3lBr9TZEU"
   },
   "source": [
    "## Provenance of top performers"
   ]
  },
  {
   "cell_type": "code",
   "execution_count": null,
   "metadata": {
    "executionInfo": {
     "elapsed": 7074,
     "status": "ok",
     "timestamp": 1709588920837,
     "user": {
      "displayName": "",
      "userId": ""
     },
     "user_tz": 300
    },
    "id": "XTaNF7S6jAj9"
   },
   "outputs": [],
   "source": [
    "all_data_df = utils.load_all_data()"
   ]
  },
  {
   "cell_type": "code",
   "execution_count": null,
   "metadata": {
    "executionInfo": {
     "elapsed": 4,
     "status": "ok",
     "timestamp": 1709588921035,
     "user": {
      "displayName": "",
      "userId": ""
     },
     "user_tz": 300
    },
    "id": "YlA9RVl-RYYz"
   },
   "outputs": [],
   "source": [
    "def get_mutation_string_from_tuple(mutation_tuples):\n",
    "    if len(mutation_tuples) == 0:\n",
    "      return ''\n",
    "    else:\n",
    "      return ','.join([''.join([str(t) for t in mutation_tuple]) for mutation_tuple in mutation_tuples])\n",
    "\n",
    "genotype_to_mutation_tuple = {\n",
    "    'wild type': (),\n",
    "    'A73R': (('A', 73, 'R')),\n",
    "    'A73R,D74S': (('A', 73, 'R'), ('D', 74, 'S')),\n",
    "    'A63P,A73R,D74H,I84Y': (('A', 63, 'P'), ('A', 73, 'R'), ('D', 74, 'H'), ('I', 84, 'Y')),\n",
    "    'A63S,D64S,A73R': (('A', 63, 'S'), ('D', 64, 'S'), ('A', 73, 'R')),\n",
    "    'D64A,A73R': (('D', 64, 'A'), ('A', 73, 'R')),\n",
    "    'A63S,A132P': (('A', 63, 'S'), ('A', 132, 'P'))}\n"
   ]
  },
  {
   "cell_type": "code",
   "execution_count": null,
   "metadata": {
    "executionInfo": {
     "elapsed": 5,
     "status": "ok",
     "timestamp": 1709588921227,
     "user": {
      "displayName": "",
      "userId": ""
     },
     "user_tz": 300
    },
    "id": "T17zfZwQRdff"
   },
   "outputs": [],
   "source": [
    "initial_velocity_df['mutations'] = initial_velocity_df.genotype.apply(genotype_to_mutation_tuple.get)"
   ]
  },
  {
   "cell_type": "code",
   "execution_count": null,
   "metadata": {
    "colab": {
     "height": 0
    },
    "executionInfo": {
     "elapsed": 183,
     "status": "ok",
     "timestamp": 1709588921602,
     "user": {
      "displayName": "",
      "userId": ""
     },
     "user_tz": 300
    },
    "id": "ihOt0ZaFTU1c",
    "outputId": "f5e44036-5e8d-40e1-884c-671c4a0ba089"
   },
   "outputs": [],
   "source": [
    "initial_velocity_df.merge(all_data_df, on='mutations', how='inner').groupby('mutations').aggregate('first')"
   ]
  },
  {
   "cell_type": "code",
   "execution_count": null,
   "metadata": {
    "executionInfo": {
     "elapsed": 62,
     "status": "ok",
     "timestamp": 1709588921870,
     "user": {
      "displayName": "",
      "userId": ""
     },
     "user_tz": 300
    },
    "id": "28dgIFedTxO3"
   },
   "outputs": [],
   "source": []
  }
 ],
 "metadata": {
  "colab": {},
  "kernelspec": {
   "display_name": "Python 3 (ipykernel)",
   "language": "python",
   "name": "python3"
  },
  "language_info": {
   "codemirror_mode": {
    "name": "ipython",
    "version": 3
   },
   "file_extension": ".py",
   "mimetype": "text/x-python",
   "name": "python",
   "nbconvert_exporter": "python",
   "pygments_lexer": "ipython3",
   "version": "3.11.7"
  }
 },
 "nbformat": 4,
 "nbformat_minor": 1
}
