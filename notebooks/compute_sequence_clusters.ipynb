{
  "cells": [
    {
      "cell_type": "code",
      "execution_count": null,
      "metadata": {
        "id": "rGt1o2oADcPw"
      },
      "outputs": [],
      "source": [
        "# Copyright 2023 DeepMind Technologies Limited\n",
        "#\n",
        "# Licensed under the Apache License, Version 2.0 (the \"License\");\n",
        "# you may not use this file except in compliance with the License.\n",
        "# You may obtain a copy of the License at\n",
        "#\n",
        "#    http://www.apache.org/licenses/LICENSE-2.0\n",
        "#\n",
        "# Unless required by applicable law or agreed to in writing, software\n",
        "# distributed under the License is distributed on an \"AS IS\" BASIS,\n",
        "# WITHOUT WARRANTIES OR CONDITIONS OF ANY KIND, either express or implied.\n",
        "# See the License for the specific language governing permissions and\n",
        "# limitations under the License.\n",
        "# =============================================================================="
      ]
    },
    {
      "cell_type": "markdown",
      "metadata": {
        "id": "gfaBWZflX9wl"
      },
      "source": [
        "This notebook computes clusters based on sequence similarity and writes the dataframe out to disk.\n",
        "\n",
        "This notebook is quite slow, and can take ~2hrs to compute all the clusterings for G1.\n"
      ]
    },
    {
      "cell_type": "markdown",
      "metadata": {
        "id": "eGdgZGqCD4Ti"
      },
      "source": [
        "# Imports"
      ]
    },
    {
      "cell_type": "code",
      "execution_count": null,
      "metadata": {
        "id": "hqC4QtGfiXsD"
      },
      "outputs": [],
      "source": [
        "!pip install --upgrade https://github.com/google-deepmind/nuclease-design.git\n"
      ]
    },
    {
      "cell_type": "code",
      "execution_count": null,
      "metadata": {
        "id": "mM4EhxhfIn0G"
      },
      "outputs": [],
      "source": [
        "import numpy as np\n",
        "import pandas as pd\n",
        "import seaborn as sns\n",
        "\n",
        "from nuclease_design import utils\n",
        "from nuclease_design import constants\n",
        "from nuclease_design import plotting\n"
      ]
    },
    {
      "cell_type": "markdown",
      "metadata": {
        "id": "JGyqIE32JlVL"
      },
      "source": [
        "# Constants"
      ]
    },
    {
      "cell_type": "code",
      "execution_count": null,
      "metadata": {
        "id": "M_FX_ZoyJmk7"
      },
      "outputs": [],
      "source": [
        "DATA_DIR = constants.DATA_DIR"
      ]
    },
    {
      "cell_type": "code",
      "execution_count": null,
      "metadata": {
        "id": "RRhY8-J1Oitm"
      },
      "outputs": [],
      "source": [
        "OVERWRITE = True  # Setting this to True will rewrite all cluster files\n",
        "\n",
        "# Set this to \u003c\u003c1.0 when debugging.\n",
        "SUBSAMPLE_FRACTION = 1.0\n",
        "\n",
        "# Set to narrow range e.g. (23, 24) when debugging\n",
        "MIN_CLUSTER_RADIUS_G4 = 0\n",
        "MAX_CLUSTER_RADIUS_G4 = 26\n",
        "\n",
        "# Set to narrow range e.g. (15, 16) when debugging\n",
        "MIN_CLUSTER_RADIUS_G1 = 0\n",
        "MAX_CLUSTER_RADIUS_G1 = 21"
      ]
    },
    {
      "cell_type": "code",
      "execution_count": null,
      "metadata": {
        "id": "LmokIKJfN4h9"
      },
      "outputs": [],
      "source": [
        "sns.set(font_scale=2)\n",
        "sns.set_style('ticks')"
      ]
    },
    {
      "cell_type": "markdown",
      "metadata": {
        "id": "DU3v_ywaPR5O"
      },
      "source": [
        "# Library code"
      ]
    },
    {
      "cell_type": "code",
      "execution_count": null,
      "metadata": {
        "id": "GUwVhr4mvIqN"
      },
      "outputs": [],
      "source": [
        "def _get_bootstrapped_num_clusters(\n",
        "    df,\n",
        "    filter_fn,\n",
        "    max_intra_cluster_hamming_distance,\n",
        "    num_bootstraps=10,\n",
        "    random_seed=0,\n",
        "):\n",
        "  random_state = np.random.RandomState(random_seed)\n",
        "  samples = [\n",
        "      utils.num_sequence_clusters(\n",
        "          filter_fn(\n",
        "              df.sample(frac=1.0, random_state=random_state, replace=True),\n",
        "          )['sequence'],\n",
        "          max_intra_cluster_hamming_distance=max_intra_cluster_hamming_distance,\n",
        "      )\n",
        "      for _ in range(num_bootstraps)\n",
        "  ]\n",
        "  return pd.DataFrame(dict(num_clusters=samples))\n",
        "\n",
        "\n",
        "def _get_activity_label(reference_name):\n",
        "  if reference_name == 'all':\n",
        "    return 'all'\n",
        "  activity_label = utils.get_activity_label(reference_name)\n",
        "  return f'\u003e {activity_label}'\n",
        "\n",
        "def get_num_clusters_df(\n",
        "    df,\n",
        "    hit_calling_kwargs_list,\n",
        "    max_intra_cluster_hamming_distance,\n",
        "    hue_feature='sequence_type',\n",
        "\n",
        "):\n",
        "  hit_calling_kwargs_list = [dict(reference_name='all')] + hit_calling_kwargs_list\n",
        "  num_clusters_dfs = []\n",
        "  for hit_calling_kwargs in hit_calling_kwargs_list:\n",
        "    reference_name = hit_calling_kwargs['reference_name']\n",
        "    filter_fn = (\n",
        "        lambda df: utils.select_hit_rows(df, **hit_calling_kwargs)\n",
        "        if reference_name != 'all'\n",
        "        else df\n",
        "    )\n",
        "    activity_label = _get_activity_label(reference_name)\n",
        "    num_clusters_dfs.append(\n",
        "        df.groupby(hue_feature)\n",
        "        .apply(\n",
        "            _get_bootstrapped_num_clusters,\n",
        "            filter_fn=filter_fn,\n",
        "            max_intra_cluster_hamming_distance=max_intra_cluster_hamming_distance,\n",
        "        )\n",
        "        .reset_index()\n",
        "        .assign(activity_label=activity_label)\n",
        "    )\n",
        "  num_clusters_df = pd.concat(num_clusters_dfs, ignore_index=True)\n",
        "  num_clusters_df['max_intra_cluster_hamming_distance'] = max_intra_cluster_hamming_distance\n",
        "  return num_clusters_df"
      ]
    },
    {
      "cell_type": "markdown",
      "metadata": {
        "id": "IWv3RvUU9Z45"
      },
      "source": [
        "# Load data"
      ]
    },
    {
      "cell_type": "code",
      "execution_count": null,
      "metadata": {
        "id": "UL7q4w_QMo6W"
      },
      "outputs": [],
      "source": [
        "all_data_df = utils.load_all_data(DATA_DIR)\n",
        "df = utils.expand_sublibraries(all_data_df)\n",
        "df['campaign'] = df['sublibrary_name'].apply(lambda s: 'HR' if s.endswith('recombination') else 'ML')"
      ]
    },
    {
      "cell_type": "markdown",
      "metadata": {
        "id": "u0qwp8YFEtj4"
      },
      "source": [
        "# G4 MBO_DNN vs. Baseline"
      ]
    },
    {
      "cell_type": "code",
      "execution_count": null,
      "metadata": {
        "id": "7rsCPqbNVElZ"
      },
      "outputs": [],
      "source": [
        "g4_comparison_df = df[df['sublibrary_name'].isin(['g4_mbo_dnn', 'g4_hit_recombination'])]"
      ]
    },
    {
      "cell_type": "code",
      "execution_count": null,
      "metadata": {
        "executionInfo": {
          "elapsed": 267659,
          "status": "ok",
          "timestamp": 1702685840924,
          "user": {
            "displayName": "",
            "userId": ""
          },
          "user_tz": -60
        },
        "id": "U5iL13lA8zW6",
        "outputId": "7f1a8b97-a705-4b98-b234-9f3be8693f13"
      },
      "outputs": [
        {
          "name": "stdout",
          "output_type": "stream",
          "text": [
            "CPU times: user 4min 24s, sys: 7.64 s, total: 4min 31s\n",
            "Wall time: 4min 27s\n"
          ]
        }
      ],
      "source": [
        "%%time\n",
        "hit_calling_kwargs_list = [\n",
        "    dict(reference_name='neg_control', expected_false_discovery_rate=utils.EXPECTED_FDR),\n",
        "    dict(reference_name='wt', expected_false_discovery_rate=utils.EXPECTED_FDR),\n",
        "    dict(reference_name='a73r', expected_false_discovery_rate=utils.EXPECTED_FDR),\n",
        "]\n",
        "\n",
        "\n",
        "all_dfs = []\n",
        "for distance in range(MIN_CLUSTER_RADIUS_G4, MAX_CLUSTER_RADIUS_G4):\n",
        "  num_clusters_df = get_num_clusters_df(\n",
        "      g4_comparison_df,\n",
        "      hit_calling_kwargs_list,\n",
        "      hue_feature='campaign',\n",
        "      max_intra_cluster_hamming_distance=distance,\n",
        "  )\n",
        "  all_dfs.append(num_clusters_df)\n",
        "num_clusters_g4_df = pd.concat(all_dfs, ignore_index=True)\n",
        "\n",
        "# add pre-sort label\n",
        "num_clusters_g4_df['activity_label'] = num_clusters_g4_df['activity_label'].apply(lambda x: 'pre-sort' if x == 'all' else x)\n",
        "\n",
        "# rename\n",
        "num_clusters_g4_df['population'] = num_clusters_g4_df['activity_label'].astype(str)\n",
        "num_clusters_g4_df['population'] = num_clusters_g4_df['population'].str.replace('a73r', 'A73R')\n",
        "num_clusters_g4_df['population'] = num_clusters_g4_df['population'].str.replace('neg_control', 'negative control')\n",
        "num_clusters_g4_df['population'] = num_clusters_g4_df['population'].str.replace('wt', 'parent')"
      ]
    },
    {
      "cell_type": "code",
      "execution_count": null,
      "metadata": {
        "id": "1zx9KiczyFfd"
      },
      "outputs": [],
      "source": [
        "if OVERWRITE:\n",
        "  with utils.open_file(constants.NUM_CLUSTERS_G4_PATH, 'w', DATA_DIR) as f:\n",
        "    num_clusters_g4_df.to_csv(f, index=False)"
      ]
    },
    {
      "cell_type": "code",
      "execution_count": null,
      "metadata": {
        "colab": {
          "height": 206
        },
        "executionInfo": {
          "elapsed": 53,
          "status": "ok",
          "timestamp": 1702685842059,
          "user": {
            "displayName": "",
            "userId": ""
          },
          "user_tz": -60
        },
        "id": "McQaSOZcwpuW",
        "outputId": "42227af1-026e-4f89-cd66-8bb1698e04f9"
      },
      "outputs": [
        {
          "data": {
            "text/html": [
              "\n",
              "  \u003cdiv id=\"df-8c0d9691-a0bb-408a-ac3e-d53dd6c1df78\" class=\"colab-df-container\"\u003e\n",
              "    \u003cdiv\u003e\n",
              "\u003cstyle scoped\u003e\n",
              "    .dataframe tbody tr th:only-of-type {\n",
              "        vertical-align: middle;\n",
              "    }\n",
              "\n",
              "    .dataframe tbody tr th {\n",
              "        vertical-align: top;\n",
              "    }\n",
              "\n",
              "    .dataframe thead th {\n",
              "        text-align: right;\n",
              "    }\n",
              "\u003c/style\u003e\n",
              "\u003ctable border=\"1\" class=\"dataframe\"\u003e\n",
              "  \u003cthead\u003e\n",
              "    \u003ctr style=\"text-align: right;\"\u003e\n",
              "      \u003cth\u003e\u003c/th\u003e\n",
              "      \u003cth\u003ecampaign\u003c/th\u003e\n",
              "      \u003cth\u003elevel_1\u003c/th\u003e\n",
              "      \u003cth\u003enum_clusters\u003c/th\u003e\n",
              "      \u003cth\u003eactivity_label\u003c/th\u003e\n",
              "      \u003cth\u003emax_intra_cluster_hamming_distance\u003c/th\u003e\n",
              "      \u003cth\u003epopulation\u003c/th\u003e\n",
              "    \u003c/tr\u003e\n",
              "  \u003c/thead\u003e\n",
              "  \u003ctbody\u003e\n",
              "    \u003ctr\u003e\n",
              "      \u003cth\u003e0\u003c/th\u003e\n",
              "      \u003ctd\u003eHR\u003c/td\u003e\n",
              "      \u003ctd\u003e0\u003c/td\u003e\n",
              "      \u003ctd\u003e979\u003c/td\u003e\n",
              "      \u003ctd\u003epre-sort\u003c/td\u003e\n",
              "      \u003ctd\u003e0\u003c/td\u003e\n",
              "      \u003ctd\u003epre-sort\u003c/td\u003e\n",
              "    \u003c/tr\u003e\n",
              "    \u003ctr\u003e\n",
              "      \u003cth\u003e1\u003c/th\u003e\n",
              "      \u003ctd\u003eHR\u003c/td\u003e\n",
              "      \u003ctd\u003e1\u003c/td\u003e\n",
              "      \u003ctd\u003e958\u003c/td\u003e\n",
              "      \u003ctd\u003epre-sort\u003c/td\u003e\n",
              "      \u003ctd\u003e0\u003c/td\u003e\n",
              "      \u003ctd\u003epre-sort\u003c/td\u003e\n",
              "    \u003c/tr\u003e\n",
              "    \u003ctr\u003e\n",
              "      \u003cth\u003e2\u003c/th\u003e\n",
              "      \u003ctd\u003eHR\u003c/td\u003e\n",
              "      \u003ctd\u003e2\u003c/td\u003e\n",
              "      \u003ctd\u003e972\u003c/td\u003e\n",
              "      \u003ctd\u003epre-sort\u003c/td\u003e\n",
              "      \u003ctd\u003e0\u003c/td\u003e\n",
              "      \u003ctd\u003epre-sort\u003c/td\u003e\n",
              "    \u003c/tr\u003e\n",
              "    \u003ctr\u003e\n",
              "      \u003cth\u003e3\u003c/th\u003e\n",
              "      \u003ctd\u003eHR\u003c/td\u003e\n",
              "      \u003ctd\u003e3\u003c/td\u003e\n",
              "      \u003ctd\u003e980\u003c/td\u003e\n",
              "      \u003ctd\u003epre-sort\u003c/td\u003e\n",
              "      \u003ctd\u003e0\u003c/td\u003e\n",
              "      \u003ctd\u003epre-sort\u003c/td\u003e\n",
              "    \u003c/tr\u003e\n",
              "    \u003ctr\u003e\n",
              "      \u003cth\u003e4\u003c/th\u003e\n",
              "      \u003ctd\u003eHR\u003c/td\u003e\n",
              "      \u003ctd\u003e4\u003c/td\u003e\n",
              "      \u003ctd\u003e952\u003c/td\u003e\n",
              "      \u003ctd\u003epre-sort\u003c/td\u003e\n",
              "      \u003ctd\u003e0\u003c/td\u003e\n",
              "      \u003ctd\u003epre-sort\u003c/td\u003e\n",
              "    \u003c/tr\u003e\n",
              "  \u003c/tbody\u003e\n",
              "\u003c/table\u003e\n",
              "\u003c/div\u003e\n",
              "    \u003cdiv class=\"colab-df-buttons\"\u003e\n",
              "\n",
              "  \u003cdiv class=\"colab-df-container\"\u003e\n",
              "    \u003cbutton class=\"colab-df-convert\" onclick=\"convertToInteractive('df-8c0d9691-a0bb-408a-ac3e-d53dd6c1df78')\"\n",
              "            title=\"Convert this dataframe to an interactive table.\"\n",
              "            style=\"display:none;\"\u003e\n",
              "\n",
              "  \u003csvg xmlns=\"http://www.w3.org/2000/svg\" height=\"24px\" viewBox=\"0 -960 960 960\"\u003e\n",
              "    \u003cpath d=\"M120-120v-720h720v720H120Zm60-500h600v-160H180v160Zm220 220h160v-160H400v160Zm0 220h160v-160H400v160ZM180-400h160v-160H180v160Zm440 0h160v-160H620v160ZM180-180h160v-160H180v160Zm440 0h160v-160H620v160Z\"/\u003e\n",
              "  \u003c/svg\u003e\n",
              "    \u003c/button\u003e\n",
              "\n",
              "  \u003cstyle\u003e\n",
              "    .colab-df-container {\n",
              "      display:flex;\n",
              "      gap: 12px;\n",
              "    }\n",
              "\n",
              "    .colab-df-convert {\n",
              "      background-color: #E8F0FE;\n",
              "      border: none;\n",
              "      border-radius: 50%;\n",
              "      cursor: pointer;\n",
              "      display: none;\n",
              "      fill: #1967D2;\n",
              "      height: 32px;\n",
              "      padding: 0 0 0 0;\n",
              "      width: 32px;\n",
              "    }\n",
              "\n",
              "    .colab-df-convert:hover {\n",
              "      background-color: #E2EBFA;\n",
              "      box-shadow: 0px 1px 2px rgba(60, 64, 67, 0.3), 0px 1px 3px 1px rgba(60, 64, 67, 0.15);\n",
              "      fill: #174EA6;\n",
              "    }\n",
              "\n",
              "    .colab-df-buttons div {\n",
              "      margin-bottom: 4px;\n",
              "    }\n",
              "\n",
              "    [theme=dark] .colab-df-convert {\n",
              "      background-color: #3B4455;\n",
              "      fill: #D2E3FC;\n",
              "    }\n",
              "\n",
              "    [theme=dark] .colab-df-convert:hover {\n",
              "      background-color: #434B5C;\n",
              "      box-shadow: 0px 1px 3px 1px rgba(0, 0, 0, 0.15);\n",
              "      filter: drop-shadow(0px 1px 2px rgba(0, 0, 0, 0.3));\n",
              "      fill: #FFFFFF;\n",
              "    }\n",
              "  \u003c/style\u003e\n",
              "\n",
              "    \u003cscript\u003e\n",
              "      const buttonEl =\n",
              "        document.querySelector('#df-8c0d9691-a0bb-408a-ac3e-d53dd6c1df78 button.colab-df-convert');\n",
              "      buttonEl.style.display =\n",
              "        google.colab.kernel.accessAllowed ? 'block' : 'none';\n",
              "\n",
              "      async function convertToInteractive(key) {\n",
              "        const element = document.querySelector('#df-8c0d9691-a0bb-408a-ac3e-d53dd6c1df78');\n",
              "        const dataTable =\n",
              "          await google.colab.kernel.invokeFunction('convertToInteractive',\n",
              "                                                    [key], {});\n",
              "        if (!dataTable) return;\n",
              "\n",
              "        const docLinkHtml = 'Like what you see? Visit the ' +\n",
              "          '\u003ca target=\"_blank\" href=https://colab.research.google.com/notebooks/data_table.ipynb\u003edata table notebook\u003c/a\u003e'\n",
              "          + ' to learn more about interactive tables.';\n",
              "        element.innerHTML = '';\n",
              "        dataTable['output_type'] = 'display_data';\n",
              "        await google.colab.output.renderOutput(dataTable, element);\n",
              "        const docLink = document.createElement('div');\n",
              "        docLink.innerHTML = docLinkHtml;\n",
              "        element.appendChild(docLink);\n",
              "      }\n",
              "    \u003c/script\u003e\n",
              "  \u003c/div\u003e\n",
              "\n",
              "\n",
              "\u003cdiv id=\"df-373ebe56-c563-4e98-8e39-46e83932e7f5\"\u003e\n",
              "  \u003cbutton class=\"colab-df-quickchart\" onclick=\"quickchart('df-373ebe56-c563-4e98-8e39-46e83932e7f5')\"\n",
              "            title=\"Suggest charts\"\n",
              "            style=\"display:none;\"\u003e\n",
              "\n",
              "\u003csvg xmlns=\"http://www.w3.org/2000/svg\" height=\"24px\"viewBox=\"0 0 24 24\"\n",
              "     width=\"24px\"\u003e\n",
              "    \u003cg\u003e\n",
              "        \u003cpath d=\"M19 3H5c-1.1 0-2 .9-2 2v14c0 1.1.9 2 2 2h14c1.1 0 2-.9 2-2V5c0-1.1-.9-2-2-2zM9 17H7v-7h2v7zm4 0h-2V7h2v10zm4 0h-2v-4h2v4z\"/\u003e\n",
              "    \u003c/g\u003e\n",
              "\u003c/svg\u003e\n",
              "  \u003c/button\u003e\n",
              "\n",
              "\u003cstyle\u003e\n",
              "  .colab-df-quickchart {\n",
              "      --bg-color: #E8F0FE;\n",
              "      --fill-color: #1967D2;\n",
              "      --hover-bg-color: #E2EBFA;\n",
              "      --hover-fill-color: #174EA6;\n",
              "      --disabled-fill-color: #AAA;\n",
              "      --disabled-bg-color: #DDD;\n",
              "  }\n",
              "\n",
              "  [theme=dark] .colab-df-quickchart {\n",
              "      --bg-color: #3B4455;\n",
              "      --fill-color: #D2E3FC;\n",
              "      --hover-bg-color: #434B5C;\n",
              "      --hover-fill-color: #FFFFFF;\n",
              "      --disabled-bg-color: #3B4455;\n",
              "      --disabled-fill-color: #666;\n",
              "  }\n",
              "\n",
              "  .colab-df-quickchart {\n",
              "    background-color: var(--bg-color);\n",
              "    border: none;\n",
              "    border-radius: 50%;\n",
              "    cursor: pointer;\n",
              "    display: none;\n",
              "    fill: var(--fill-color);\n",
              "    height: 32px;\n",
              "    padding: 0;\n",
              "    width: 32px;\n",
              "  }\n",
              "\n",
              "  .colab-df-quickchart:hover {\n",
              "    background-color: var(--hover-bg-color);\n",
              "    box-shadow: 0 1px 2px rgba(60, 64, 67, 0.3), 0 1px 3px 1px rgba(60, 64, 67, 0.15);\n",
              "    fill: var(--button-hover-fill-color);\n",
              "  }\n",
              "\n",
              "  .colab-df-quickchart-complete:disabled,\n",
              "  .colab-df-quickchart-complete:disabled:hover {\n",
              "    background-color: var(--disabled-bg-color);\n",
              "    fill: var(--disabled-fill-color);\n",
              "    box-shadow: none;\n",
              "  }\n",
              "\n",
              "  .colab-df-spinner {\n",
              "    border: 2px solid var(--fill-color);\n",
              "    border-color: transparent;\n",
              "    border-bottom-color: var(--fill-color);\n",
              "    animation:\n",
              "      spin 1s steps(1) infinite;\n",
              "  }\n",
              "\n",
              "  @keyframes spin {\n",
              "    0% {\n",
              "      border-color: transparent;\n",
              "      border-bottom-color: var(--fill-color);\n",
              "      border-left-color: var(--fill-color);\n",
              "    }\n",
              "    20% {\n",
              "      border-color: transparent;\n",
              "      border-left-color: var(--fill-color);\n",
              "      border-top-color: var(--fill-color);\n",
              "    }\n",
              "    30% {\n",
              "      border-color: transparent;\n",
              "      border-left-color: var(--fill-color);\n",
              "      border-top-color: var(--fill-color);\n",
              "      border-right-color: var(--fill-color);\n",
              "    }\n",
              "    40% {\n",
              "      border-color: transparent;\n",
              "      border-right-color: var(--fill-color);\n",
              "      border-top-color: var(--fill-color);\n",
              "    }\n",
              "    60% {\n",
              "      border-color: transparent;\n",
              "      border-right-color: var(--fill-color);\n",
              "    }\n",
              "    80% {\n",
              "      border-color: transparent;\n",
              "      border-right-color: var(--fill-color);\n",
              "      border-bottom-color: var(--fill-color);\n",
              "    }\n",
              "    90% {\n",
              "      border-color: transparent;\n",
              "      border-bottom-color: var(--fill-color);\n",
              "    }\n",
              "  }\n",
              "\u003c/style\u003e\n",
              "\n",
              "  \u003cscript\u003e\n",
              "    async function quickchart(key) {\n",
              "      const quickchartButtonEl =\n",
              "        document.querySelector('#' + key + ' button');\n",
              "      quickchartButtonEl.disabled = true;  // To prevent multiple clicks.\n",
              "      quickchartButtonEl.classList.add('colab-df-spinner');\n",
              "      try {\n",
              "        const charts = await google.colab.kernel.invokeFunction(\n",
              "            'suggestCharts', [key], {});\n",
              "      } catch (error) {\n",
              "        console.error('Error during call to suggestCharts:', error);\n",
              "      }\n",
              "      quickchartButtonEl.classList.remove('colab-df-spinner');\n",
              "      quickchartButtonEl.classList.add('colab-df-quickchart-complete');\n",
              "    }\n",
              "    (() =\u003e {\n",
              "      let quickchartButtonEl =\n",
              "        document.querySelector('#df-373ebe56-c563-4e98-8e39-46e83932e7f5 button');\n",
              "      quickchartButtonEl.style.display =\n",
              "        google.colab.kernel.accessAllowed ? 'block' : 'none';\n",
              "    })();\n",
              "  \u003c/script\u003e\n",
              "\u003c/div\u003e\n",
              "    \u003c/div\u003e\n",
              "  \u003c/div\u003e\n"
            ],
            "text/plain": [
              "  campaign  level_1  ...  max_intra_cluster_hamming_distance population\n",
              "0       HR        0  ...                                   0   pre-sort\n",
              "1       HR        1  ...                                   0   pre-sort\n",
              "2       HR        2  ...                                   0   pre-sort\n",
              "3       HR        3  ...                                   0   pre-sort\n",
              "4       HR        4  ...                                   0   pre-sort\n",
              "\n",
              "[5 rows x 6 columns]"
            ]
          },
          "execution_count": 11,
          "metadata": {},
          "output_type": "execute_result"
        }
      ],
      "source": [
        "num_clusters_g4_df.head()"
      ]
    },
    {
      "cell_type": "code",
      "execution_count": null,
      "metadata": {
        "executionInfo": {
          "elapsed": 1912,
          "status": "ok",
          "timestamp": 1702685844216,
          "user": {
            "displayName": "",
            "userId": ""
          },
          "user_tz": -60
        },
        "id": "mOD8VfI260FQ",
        "outputId": "60924877-be1e-4d09-f5c9-491781bb2ea5"
      },
      "outputs": [
        {
          "data": {
            "image/png": "[encoded data removed]",
            "text/plain": [
              "\u003cFigure size 600x400 with 1 Axes\u003e"
            ]
          },
          "metadata": {
            "image/png": {
              "height": 290,
              "width": 631
            }
          },
          "output_type": "display_data"
        }
      ],
      "source": [
        "# sanity check with plot\n",
        "plotting.make_diversity_overlay_plot(\n",
        "    num_clusters_g4_df, '\u003e A73R', 'campaign', ['HR', 'ML'],\n",
        "    palette=[plotting.HR_COLOR, plotting.ML_COLOR],\n",
        ")"
      ]
    },
    {
      "cell_type": "markdown",
      "metadata": {
        "id": "fNq4Hpsx5QTf"
      },
      "source": [
        "# Zero-shot"
      ]
    },
    {
      "cell_type": "code",
      "execution_count": null,
      "metadata": {
        "id": "5X8STShSP0i5"
      },
      "outputs": [],
      "source": [
        "g1_df = df[df.generation == 'g1'].reset_index(drop=True)\n",
        "subsample_g1_df = g1_df.sample(frac=SUBSAMPLE_FRACTION)\n",
        "zero_shot_comparison_df = pd.concat([df[df['sublibrary_name'] == 'zero_shot'], subsample_g1_df])"
      ]
    },
    {
      "cell_type": "code",
      "execution_count": null,
      "metadata": {
        "executionInfo": {
          "elapsed": 2403182,
          "status": "ok",
          "timestamp": 1702688247920,
          "user": {
            "displayName": "",
            "userId": ""
          },
          "user_tz": -60
        },
        "id": "aq2s1J3-6wU4",
        "outputId": "bc6883e6-0f2d-4f9b-afcd-de5ea9705fea"
      },
      "outputs": [
        {
          "name": "stdout",
          "output_type": "stream",
          "text": [
            "CPU times: user 38min 4s, sys: 2min 21s, total: 40min 25s\n",
            "Wall time: 40min 3s\n"
          ]
        }
      ],
      "source": [
        "%%time\n",
        "hit_calling_kwargs_list = [\n",
        "    dict(reference_name='neg_control', expected_false_discovery_rate=utils.EXPECTED_FDR),\n",
        "    dict(reference_name='wt', expected_false_discovery_rate=utils.EXPECTED_FDR),\n",
        "]\n",
        "\n",
        "all_dfs = []\n",
        "for distance in range(MIN_CLUSTER_RADIUS_G1, MAX_CLUSTER_RADIUS_G1):\n",
        "  num_clusters_df = get_num_clusters_df(\n",
        "      zero_shot_comparison_df,\n",
        "      hit_calling_kwargs_list,\n",
        "      hue_feature='sublibrary_name',\n",
        "      max_intra_cluster_hamming_distance=distance,\n",
        "  )\n",
        "  all_dfs.append(num_clusters_df)\n",
        "num_clusters_zero_shot_df = pd.concat(all_dfs, ignore_index=True)\n",
        "# add pre-sort label\n",
        "num_clusters_zero_shot_df['activity_label'] = num_clusters_zero_shot_df['activity_label'].apply(lambda x: 'pre-sort' if x == 'all' else x)\n",
        "\n",
        "# rename activity_label to population\n",
        "num_clusters_zero_shot_df['population'] = num_clusters_zero_shot_df['activity_label'].astype(str)\n",
        "num_clusters_zero_shot_df['population'] = num_clusters_zero_shot_df['population'].str.replace('a73r', 'A73R')\n",
        "num_clusters_zero_shot_df['population'] = num_clusters_zero_shot_df['population'].str.replace('neg_control', 'negative control')\n",
        "num_clusters_zero_shot_df['population'] = num_clusters_zero_shot_df['population'].str.replace('wt', 'parent')"
      ]
    },
    {
      "cell_type": "code",
      "execution_count": null,
      "metadata": {
        "id": "BtNrPighyJSD"
      },
      "outputs": [],
      "source": [
        "if OVERWRITE:\n",
        "  with utils.open_file(constants.NUM_CLUSTERS_ZERO_SHOT_PATH, 'w', DATA_DIR) as f:\n",
        "    num_clusters_zero_shot_df.to_csv(f, index=False)"
      ]
    },
    {
      "cell_type": "code",
      "execution_count": null,
      "metadata": {
        "executionInfo": {
          "elapsed": 58,
          "status": "ok",
          "timestamp": 1702688249421,
          "user": {
            "displayName": "",
            "userId": ""
          },
          "user_tz": -60
        },
        "id": "X-N1jUBHOWVk",
        "outputId": "54306c61-beb0-4549-b7df-c98fa91ca140"
      },
      "outputs": [
        {
          "data": {
            "text/html": [
              "\n",
              "  \u003cdiv id=\"df-002af578-f77b-4ead-9f46-be88a324d2b0\" class=\"colab-df-container\"\u003e\n",
              "    \u003cdiv\u003e\n",
              "\u003cstyle scoped\u003e\n",
              "    .dataframe tbody tr th:only-of-type {\n",
              "        vertical-align: middle;\n",
              "    }\n",
              "\n",
              "    .dataframe tbody tr th {\n",
              "        vertical-align: top;\n",
              "    }\n",
              "\n",
              "    .dataframe thead th {\n",
              "        text-align: right;\n",
              "    }\n",
              "\u003c/style\u003e\n",
              "\u003ctable border=\"1\" class=\"dataframe\"\u003e\n",
              "  \u003cthead\u003e\n",
              "    \u003ctr style=\"text-align: right;\"\u003e\n",
              "      \u003cth\u003e\u003c/th\u003e\n",
              "      \u003cth\u003esublibrary_name\u003c/th\u003e\n",
              "      \u003cth\u003elevel_1\u003c/th\u003e\n",
              "      \u003cth\u003enum_clusters\u003c/th\u003e\n",
              "      \u003cth\u003eactivity_label\u003c/th\u003e\n",
              "      \u003cth\u003emax_intra_cluster_hamming_distance\u003c/th\u003e\n",
              "      \u003cth\u003epopulation\u003c/th\u003e\n",
              "    \u003c/tr\u003e\n",
              "  \u003c/thead\u003e\n",
              "  \u003ctbody\u003e\n",
              "    \u003ctr\u003e\n",
              "      \u003cth\u003e0\u003c/th\u003e\n",
              "      \u003ctd\u003eg1_eppcr\u003c/td\u003e\n",
              "      \u003ctd\u003e0\u003c/td\u003e\n",
              "      \u003ctd\u003e5990\u003c/td\u003e\n",
              "      \u003ctd\u003epre-sort\u003c/td\u003e\n",
              "      \u003ctd\u003e0\u003c/td\u003e\n",
              "      \u003ctd\u003epre-sort\u003c/td\u003e\n",
              "    \u003c/tr\u003e\n",
              "    \u003ctr\u003e\n",
              "      \u003cth\u003e1\u003c/th\u003e\n",
              "      \u003ctd\u003eg1_eppcr\u003c/td\u003e\n",
              "      \u003ctd\u003e1\u003c/td\u003e\n",
              "      \u003ctd\u003e5981\u003c/td\u003e\n",
              "      \u003ctd\u003epre-sort\u003c/td\u003e\n",
              "      \u003ctd\u003e0\u003c/td\u003e\n",
              "      \u003ctd\u003epre-sort\u003c/td\u003e\n",
              "    \u003c/tr\u003e\n",
              "    \u003ctr\u003e\n",
              "      \u003cth\u003e2\u003c/th\u003e\n",
              "      \u003ctd\u003eg1_eppcr\u003c/td\u003e\n",
              "      \u003ctd\u003e2\u003c/td\u003e\n",
              "      \u003ctd\u003e5889\u003c/td\u003e\n",
              "      \u003ctd\u003epre-sort\u003c/td\u003e\n",
              "      \u003ctd\u003e0\u003c/td\u003e\n",
              "      \u003ctd\u003epre-sort\u003c/td\u003e\n",
              "    \u003c/tr\u003e\n",
              "    \u003ctr\u003e\n",
              "      \u003cth\u003e3\u003c/th\u003e\n",
              "      \u003ctd\u003eg1_eppcr\u003c/td\u003e\n",
              "      \u003ctd\u003e3\u003c/td\u003e\n",
              "      \u003ctd\u003e5961\u003c/td\u003e\n",
              "      \u003ctd\u003epre-sort\u003c/td\u003e\n",
              "      \u003ctd\u003e0\u003c/td\u003e\n",
              "      \u003ctd\u003epre-sort\u003c/td\u003e\n",
              "    \u003c/tr\u003e\n",
              "    \u003ctr\u003e\n",
              "      \u003cth\u003e4\u003c/th\u003e\n",
              "      \u003ctd\u003eg1_eppcr\u003c/td\u003e\n",
              "      \u003ctd\u003e4\u003c/td\u003e\n",
              "      \u003ctd\u003e5977\u003c/td\u003e\n",
              "      \u003ctd\u003epre-sort\u003c/td\u003e\n",
              "      \u003ctd\u003e0\u003c/td\u003e\n",
              "      \u003ctd\u003epre-sort\u003c/td\u003e\n",
              "    \u003c/tr\u003e\n",
              "  \u003c/tbody\u003e\n",
              "\u003c/table\u003e\n",
              "\u003c/div\u003e\n",
              "    \u003cdiv class=\"colab-df-buttons\"\u003e\n",
              "\n",
              "  \u003cdiv class=\"colab-df-container\"\u003e\n",
              "    \u003cbutton class=\"colab-df-convert\" onclick=\"convertToInteractive('df-002af578-f77b-4ead-9f46-be88a324d2b0')\"\n",
              "            title=\"Convert this dataframe to an interactive table.\"\n",
              "            style=\"display:none;\"\u003e\n",
              "\n",
              "  \u003csvg xmlns=\"http://www.w3.org/2000/svg\" height=\"24px\" viewBox=\"0 -960 960 960\"\u003e\n",
              "    \u003cpath d=\"M120-120v-720h720v720H120Zm60-500h600v-160H180v160Zm220 220h160v-160H400v160Zm0 220h160v-160H400v160ZM180-400h160v-160H180v160Zm440 0h160v-160H620v160ZM180-180h160v-160H180v160Zm440 0h160v-160H620v160Z\"/\u003e\n",
              "  \u003c/svg\u003e\n",
              "    \u003c/button\u003e\n",
              "\n",
              "  \u003cstyle\u003e\n",
              "    .colab-df-container {\n",
              "      display:flex;\n",
              "      gap: 12px;\n",
              "    }\n",
              "\n",
              "    .colab-df-convert {\n",
              "      background-color: #E8F0FE;\n",
              "      border: none;\n",
              "      border-radius: 50%;\n",
              "      cursor: pointer;\n",
              "      display: none;\n",
              "      fill: #1967D2;\n",
              "      height: 32px;\n",
              "      padding: 0 0 0 0;\n",
              "      width: 32px;\n",
              "    }\n",
              "\n",
              "    .colab-df-convert:hover {\n",
              "      background-color: #E2EBFA;\n",
              "      box-shadow: 0px 1px 2px rgba(60, 64, 67, 0.3), 0px 1px 3px 1px rgba(60, 64, 67, 0.15);\n",
              "      fill: #174EA6;\n",
              "    }\n",
              "\n",
              "    .colab-df-buttons div {\n",
              "      margin-bottom: 4px;\n",
              "    }\n",
              "\n",
              "    [theme=dark] .colab-df-convert {\n",
              "      background-color: #3B4455;\n",
              "      fill: #D2E3FC;\n",
              "    }\n",
              "\n",
              "    [theme=dark] .colab-df-convert:hover {\n",
              "      background-color: #434B5C;\n",
              "      box-shadow: 0px 1px 3px 1px rgba(0, 0, 0, 0.15);\n",
              "      filter: drop-shadow(0px 1px 2px rgba(0, 0, 0, 0.3));\n",
              "      fill: #FFFFFF;\n",
              "    }\n",
              "  \u003c/style\u003e\n",
              "\n",
              "    \u003cscript\u003e\n",
              "      const buttonEl =\n",
              "        document.querySelector('#df-002af578-f77b-4ead-9f46-be88a324d2b0 button.colab-df-convert');\n",
              "      buttonEl.style.display =\n",
              "        google.colab.kernel.accessAllowed ? 'block' : 'none';\n",
              "\n",
              "      async function convertToInteractive(key) {\n",
              "        const element = document.querySelector('#df-002af578-f77b-4ead-9f46-be88a324d2b0');\n",
              "        const dataTable =\n",
              "          await google.colab.kernel.invokeFunction('convertToInteractive',\n",
              "                                                    [key], {});\n",
              "        if (!dataTable) return;\n",
              "\n",
              "        const docLinkHtml = 'Like what you see? Visit the ' +\n",
              "          '\u003ca target=\"_blank\" href=https://colab.research.google.com/notebooks/data_table.ipynb\u003edata table notebook\u003c/a\u003e'\n",
              "          + ' to learn more about interactive tables.';\n",
              "        element.innerHTML = '';\n",
              "        dataTable['output_type'] = 'display_data';\n",
              "        await google.colab.output.renderOutput(dataTable, element);\n",
              "        const docLink = document.createElement('div');\n",
              "        docLink.innerHTML = docLinkHtml;\n",
              "        element.appendChild(docLink);\n",
              "      }\n",
              "    \u003c/script\u003e\n",
              "  \u003c/div\u003e\n",
              "\n",
              "\n",
              "\u003cdiv id=\"df-c1ddab12-c3a3-4023-84ba-712622cd4fca\"\u003e\n",
              "  \u003cbutton class=\"colab-df-quickchart\" onclick=\"quickchart('df-c1ddab12-c3a3-4023-84ba-712622cd4fca')\"\n",
              "            title=\"Suggest charts\"\n",
              "            style=\"display:none;\"\u003e\n",
              "\n",
              "\u003csvg xmlns=\"http://www.w3.org/2000/svg\" height=\"24px\"viewBox=\"0 0 24 24\"\n",
              "     width=\"24px\"\u003e\n",
              "    \u003cg\u003e\n",
              "        \u003cpath d=\"M19 3H5c-1.1 0-2 .9-2 2v14c0 1.1.9 2 2 2h14c1.1 0 2-.9 2-2V5c0-1.1-.9-2-2-2zM9 17H7v-7h2v7zm4 0h-2V7h2v10zm4 0h-2v-4h2v4z\"/\u003e\n",
              "    \u003c/g\u003e\n",
              "\u003c/svg\u003e\n",
              "  \u003c/button\u003e\n",
              "\n",
              "\u003cstyle\u003e\n",
              "  .colab-df-quickchart {\n",
              "      --bg-color: #E8F0FE;\n",
              "      --fill-color: #1967D2;\n",
              "      --hover-bg-color: #E2EBFA;\n",
              "      --hover-fill-color: #174EA6;\n",
              "      --disabled-fill-color: #AAA;\n",
              "      --disabled-bg-color: #DDD;\n",
              "  }\n",
              "\n",
              "  [theme=dark] .colab-df-quickchart {\n",
              "      --bg-color: #3B4455;\n",
              "      --fill-color: #D2E3FC;\n",
              "      --hover-bg-color: #434B5C;\n",
              "      --hover-fill-color: #FFFFFF;\n",
              "      --disabled-bg-color: #3B4455;\n",
              "      --disabled-fill-color: #666;\n",
              "  }\n",
              "\n",
              "  .colab-df-quickchart {\n",
              "    background-color: var(--bg-color);\n",
              "    border: none;\n",
              "    border-radius: 50%;\n",
              "    cursor: pointer;\n",
              "    display: none;\n",
              "    fill: var(--fill-color);\n",
              "    height: 32px;\n",
              "    padding: 0;\n",
              "    width: 32px;\n",
              "  }\n",
              "\n",
              "  .colab-df-quickchart:hover {\n",
              "    background-color: var(--hover-bg-color);\n",
              "    box-shadow: 0 1px 2px rgba(60, 64, 67, 0.3), 0 1px 3px 1px rgba(60, 64, 67, 0.15);\n",
              "    fill: var(--button-hover-fill-color);\n",
              "  }\n",
              "\n",
              "  .colab-df-quickchart-complete:disabled,\n",
              "  .colab-df-quickchart-complete:disabled:hover {\n",
              "    background-color: var(--disabled-bg-color);\n",
              "    fill: var(--disabled-fill-color);\n",
              "    box-shadow: none;\n",
              "  }\n",
              "\n",
              "  .colab-df-spinner {\n",
              "    border: 2px solid var(--fill-color);\n",
              "    border-color: transparent;\n",
              "    border-bottom-color: var(--fill-color);\n",
              "    animation:\n",
              "      spin 1s steps(1) infinite;\n",
              "  }\n",
              "\n",
              "  @keyframes spin {\n",
              "    0% {\n",
              "      border-color: transparent;\n",
              "      border-bottom-color: var(--fill-color);\n",
              "      border-left-color: var(--fill-color);\n",
              "    }\n",
              "    20% {\n",
              "      border-color: transparent;\n",
              "      border-left-color: var(--fill-color);\n",
              "      border-top-color: var(--fill-color);\n",
              "    }\n",
              "    30% {\n",
              "      border-color: transparent;\n",
              "      border-left-color: var(--fill-color);\n",
              "      border-top-color: var(--fill-color);\n",
              "      border-right-color: var(--fill-color);\n",
              "    }\n",
              "    40% {\n",
              "      border-color: transparent;\n",
              "      border-right-color: var(--fill-color);\n",
              "      border-top-color: var(--fill-color);\n",
              "    }\n",
              "    60% {\n",
              "      border-color: transparent;\n",
              "      border-right-color: var(--fill-color);\n",
              "    }\n",
              "    80% {\n",
              "      border-color: transparent;\n",
              "      border-right-color: var(--fill-color);\n",
              "      border-bottom-color: var(--fill-color);\n",
              "    }\n",
              "    90% {\n",
              "      border-color: transparent;\n",
              "      border-bottom-color: var(--fill-color);\n",
              "    }\n",
              "  }\n",
              "\u003c/style\u003e\n",
              "\n",
              "  \u003cscript\u003e\n",
              "    async function quickchart(key) {\n",
              "      const quickchartButtonEl =\n",
              "        document.querySelector('#' + key + ' button');\n",
              "      quickchartButtonEl.disabled = true;  // To prevent multiple clicks.\n",
              "      quickchartButtonEl.classList.add('colab-df-spinner');\n",
              "      try {\n",
              "        const charts = await google.colab.kernel.invokeFunction(\n",
              "            'suggestCharts', [key], {});\n",
              "      } catch (error) {\n",
              "        console.error('Error during call to suggestCharts:', error);\n",
              "      }\n",
              "      quickchartButtonEl.classList.remove('colab-df-spinner');\n",
              "      quickchartButtonEl.classList.add('colab-df-quickchart-complete');\n",
              "    }\n",
              "    (() =\u003e {\n",
              "      let quickchartButtonEl =\n",
              "        document.querySelector('#df-c1ddab12-c3a3-4023-84ba-712622cd4fca button');\n",
              "      quickchartButtonEl.style.display =\n",
              "        google.colab.kernel.accessAllowed ? 'block' : 'none';\n",
              "    })();\n",
              "  \u003c/script\u003e\n",
              "\u003c/div\u003e\n",
              "    \u003c/div\u003e\n",
              "  \u003c/div\u003e\n"
            ],
            "text/plain": [
              "  sublibrary_name  level_1  ...  max_intra_cluster_hamming_distance population\n",
              "0        g1_eppcr        0  ...                                   0   pre-sort\n",
              "1        g1_eppcr        1  ...                                   0   pre-sort\n",
              "2        g1_eppcr        2  ...                                   0   pre-sort\n",
              "3        g1_eppcr        3  ...                                   0   pre-sort\n",
              "4        g1_eppcr        4  ...                                   0   pre-sort\n",
              "\n",
              "[5 rows x 6 columns]"
            ]
          },
          "execution_count": 16,
          "metadata": {},
          "output_type": "execute_result"
        }
      ],
      "source": [
        "num_clusters_zero_shot_df.head()"
      ]
    },
    {
      "cell_type": "code",
      "execution_count": null,
      "metadata": {
        "id": "K2BCjXzi-jSG"
      },
      "outputs": [],
      "source": [
        "# sanity check with plot\n",
        "\n",
        "plotting.make_diversity_overlay_plot(\n",
        "    num_clusters_zero_shot_df,\n",
        "    '\u003e negative control',\n",
        "    'sublibrary_name',\n",
        "    ['g1_eppcr', 'zero_shot'],\n",
        "    palette=[plotting.EPPCR_COLOR, plotting.ML_COLOR],\n",
        "    xticks_max=21,\n",
        ")"
      ]
    }
  ],
  "metadata": {
    "colab": {
      "provenance": []
    },
    "kernelspec": {
      "display_name": "Python 3",
      "name": "python3"
    },
    "language_info": {
      "name": "python"
    }
  },
  "nbformat": 4,
  "nbformat_minor": 0
}
