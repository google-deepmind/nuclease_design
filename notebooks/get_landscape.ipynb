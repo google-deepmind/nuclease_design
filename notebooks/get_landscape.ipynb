{
  "cells": [
    {
      "cell_type": "code",
      "execution_count": 1,
      "metadata": {
        "id": "waUTNjUmDtJh"
      },
      "outputs": [],
      "source": [
        "# Copyright 2023 DeepMind Technologies Limited\n",
        "#\n",
        "# Licensed under the Apache License, Version 2.0 (the \"License\");\n",
        "# you may not use this file except in compliance with the License.\n",
        "# You may obtain a copy of the License at\n",
        "#\n",
        "#    http://www.apache.org/licenses/LICENSE-2.0\n",
        "#\n",
        "# Unless required by applicable law or agreed to in writing, software\n",
        "# distributed under the License is distributed on an \"AS IS\" BASIS,\n",
        "# WITHOUT WARRANTIES OR CONDITIONS OF ANY KIND, either express or implied.\n",
        "# See the License for the specific language governing permissions and\n",
        "# limitations under the License.\n",
        "# =============================================================================="
      ]
    },
    {
      "cell_type": "code",
      "execution_count": 2,
      "metadata": {},
      "outputs": [],
      "source": [
        "# Comment out if running from local environment\n",
        "# !pip install --upgrade git+https://github.com/google-deepmind/nuclease_design.git"
      ]
    },
    {
      "cell_type": "markdown",
      "metadata": {
        "id": "0FzWzcIZvVGy"
      },
      "source": [
        "# Imports"
      ]
    },
    {
      "cell_type": "code",
      "execution_count": 3,
      "metadata": {
        "id": "K0-42c-leBdG"
      },
      "outputs": [],
      "source": [
        "import itertools\n",
        "import pandas as pd\n",
        "import pathlib\n",
        "\n",
        "from nuclease_design import utils\n",
        "from nuclease_design import constants\n"
      ]
    },
    {
      "cell_type": "markdown",
      "metadata": {
        "id": "UEoGQZkavbUB"
      },
      "source": [
        "# Load data"
      ]
    },
    {
      "cell_type": "code",
      "execution_count": 4,
      "metadata": {
        "id": "RBi0d6wgI7Gl"
      },
      "outputs": [],
      "source": [
        "DATA_DIR = constants.DATA_DIR"
      ]
    },
    {
      "cell_type": "code",
      "execution_count": 5,
      "metadata": {},
      "outputs": [],
      "source": [
        "LOCAL_OUTPUT_DIR = pathlib.Path('data')\n",
        "LOCAL_OUTPUT_DIR.mkdir(parents=True, exist_ok=True)"
      ]
    },
    {
      "cell_type": "code",
      "execution_count": 6,
      "metadata": {
        "executionInfo": {
          "elapsed": 8226,
          "status": "ok",
          "timestamp": 1704839983408,
          "user": {
            "displayName": "",
            "userId": ""
          },
          "user_tz": 480
        },
        "id": "zofy7U3Teewy",
        "outputId": "efb55800-4afd-4601-8df0-19f367261fe0"
      },
      "outputs": [
        {
          "name": "stdout",
          "output_type": "stream",
          "text": [
            "CPU times: user 623 ms, sys: 90.5 ms, total: 713 ms\n",
            "Wall time: 3.94 s\n"
          ]
        }
      ],
      "source": [
        "%%time\n",
        "all_data_df = utils.load_all_data(DATA_DIR)"
      ]
    },
    {
      "cell_type": "markdown",
      "metadata": {
        "id": "B05X0dKVvgR5"
      },
      "source": [
        "# Aggregate data across generations"
      ]
    },
    {
      "cell_type": "code",
      "execution_count": 7,
      "metadata": {
        "id": "SJZ2JcQ1Zafq"
      },
      "outputs": [],
      "source": [
        "# By sorting and aggregating the \"first\", we keep the activity label from the\n",
        "# most recent generation\n",
        "all_data_df['generations'] = all_data_df['generation']\n",
        "all_data_df = all_data_df.sort_values(by='generation', ascending=False)  # order by generation\n",
        "agg_dict = {\n",
        "    'sublibrary_names': lambda x: tuple(itertools.chain.from_iterable(x)),\n",
        "    'generations': lambda x: tuple(sorted(x)),\n",
        "    'activity_greater_than_neg_control': 'first',\n",
        "    'activity_greater_than_wt': 'first',\n",
        "    'activity_greater_than_a73r': 'first',\n",
        "    'num_mutations': 'first',\n",
        "    'sequence': 'first',\n",
        "}\n",
        "df = all_data_df.groupby('mutations').agg(agg_dict).reset_index()"
      ]
    },
    {
      "cell_type": "code",
      "execution_count": 8,
      "metadata": {
        "id": "_gsbSzlYT0p9"
      },
      "outputs": [],
      "source": [
        "# Use the highest activity level found in the most recent generation.\n",
        "def find_highest_activity_level(row, default_label='non-functional'):\n",
        "  references = ['neg_control', 'wt', 'a73r']\n",
        "  cols = [f'activity_greater_than_{ref}' for ref in references]\n",
        "  true_indices = [\n",
        "      i for i, col in enumerate(cols) if row[col] is not None and row[col]\n",
        "  ]\n",
        "  if not true_indices:\n",
        "    return default_label\n",
        "  if tuple(true_indices) == (1,):  # label as nonfunctional variants that fail the negative control test,\n",
        "    return default_label\n",
        "  else:\n",
        "    return cols[max(true_indices)]\n",
        "\n",
        "\n",
        "df['activity_level'] = (\n",
        "    df.apply(find_highest_activity_level, axis=1)\n",
        "    .str.replace('a73r', 'A73R')\n",
        "    .str.replace('a73r', 'A73R')\n",
        "    .str.replace('wt', 'WT')\n",
        "    .str.replace('neg_control', '0')\n",
        ")\n",
        "df['is_functional'] = df['activity_level'] != 'non-functional'"
      ]
    },
    {
      "cell_type": "code",
      "execution_count": 9,
      "metadata": {
        "id": "soNqGpiA-HgT"
      },
      "outputs": [],
      "source": [
        "cols_to_keep = [\n",
        "    'mutations',\n",
        "    'num_mutations',\n",
        "    'sublibrary_names',\n",
        "    'generations',\n",
        "    'activity_level',\n",
        "    'is_functional',\n",
        "    'sequence',\n",
        "]"
      ]
    },
    {
      "cell_type": "code",
      "execution_count": 10,
      "metadata": {
        "id": "l8BfV57He48d"
      },
      "outputs": [],
      "source": [
        "output_path = LOCAL_OUTPUT_DIR / pathlib.Path(constants.LANDSCAPE_PATH)\n",
        "output_path.parent.mkdir(parents=True, exist_ok=True)\n",
        "\n",
        "with utils.open_file(constants.LANDSCAPE_PATH, 'w', LOCAL_OUTPUT_DIR) as f:\n",
        "  utils.encode_df(df[cols_to_keep]).to_csv(f, index=False)"
      ]
    },
    {
      "cell_type": "markdown",
      "metadata": {
        "id": "rMysH3yaiJIc"
      },
      "source": [
        "# Conflicting labels across generations"
      ]
    },
    {
      "cell_type": "code",
      "execution_count": 11,
      "metadata": {
        "id": "BAmzs-Z7-94D"
      },
      "outputs": [],
      "source": [
        "order = ['non-functional', 'activity_greater_than_0', 'activity_greater_than_WT', 'activity_greater_than_A73R']"
      ]
    },
    {
      "cell_type": "markdown",
      "metadata": {
        "id": "wXIODE-2r5XS"
      },
      "source": [
        "Note that some variants have conflicting functional labels:\n",
        "\n",
        "For the hypothesis tests corresponding to [neg_control, wt, a73r], there were were 5 variants with [F, T, T] (labeled as activity > A73R), and 973 variants with [F, T, F] (labeled as non-functional)."
      ]
    },
    {
      "cell_type": "code",
      "execution_count": 12,
      "metadata": {
        "colab": {
          "height": 206
        },
        "executionInfo": {
          "elapsed": 54,
          "status": "ok",
          "timestamp": 1704866980590,
          "user": {
            "displayName": "",
            "userId": ""
          },
          "user_tz": 480
        },
        "id": "DSOQjALpilwt",
        "outputId": "ea792a23-7b26-4303-ce85-6aef520b2452"
      },
      "outputs": [
        {
          "data": {
            "text/html": [
              "<div>\n",
              "<style scoped>\n",
              "    .dataframe tbody tr th:only-of-type {\n",
              "        vertical-align: middle;\n",
              "    }\n",
              "\n",
              "    .dataframe tbody tr th {\n",
              "        vertical-align: top;\n",
              "    }\n",
              "\n",
              "    .dataframe thead th {\n",
              "        text-align: right;\n",
              "    }\n",
              "</style>\n",
              "<table border=\"1\" class=\"dataframe\">\n",
              "  <thead>\n",
              "    <tr style=\"text-align: right;\">\n",
              "      <th>activity_greater_than_neg_control</th>\n",
              "      <th>False</th>\n",
              "      <th>True</th>\n",
              "    </tr>\n",
              "    <tr>\n",
              "      <th>activity_level</th>\n",
              "      <th></th>\n",
              "      <th></th>\n",
              "    </tr>\n",
              "  </thead>\n",
              "  <tbody>\n",
              "    <tr>\n",
              "      <th>non-functional</th>\n",
              "      <td>33890</td>\n",
              "      <td>0</td>\n",
              "    </tr>\n",
              "    <tr>\n",
              "      <th>activity_greater_than_0</th>\n",
              "      <td>0</td>\n",
              "      <td>11099</td>\n",
              "    </tr>\n",
              "    <tr>\n",
              "      <th>activity_greater_than_WT</th>\n",
              "      <td>0</td>\n",
              "      <td>10572</td>\n",
              "    </tr>\n",
              "    <tr>\n",
              "      <th>activity_greater_than_A73R</th>\n",
              "      <td>5</td>\n",
              "      <td>194</td>\n",
              "    </tr>\n",
              "  </tbody>\n",
              "</table>\n",
              "</div>"
            ],
            "text/plain": [
              "activity_greater_than_neg_control  False  True \n",
              "activity_level                                 \n",
              "non-functional                     33890      0\n",
              "activity_greater_than_0                0  11099\n",
              "activity_greater_than_WT               0  10572\n",
              "activity_greater_than_A73R             5    194"
            ]
          },
          "execution_count": 12,
          "metadata": {},
          "output_type": "execute_result"
        }
      ],
      "source": [
        "pd.crosstab(df['activity_level'], df['activity_greater_than_neg_control']).reindex(order)"
      ]
    },
    {
      "cell_type": "code",
      "execution_count": 13,
      "metadata": {
        "colab": {
          "height": 206
        },
        "executionInfo": {
          "elapsed": 53,
          "status": "ok",
          "timestamp": 1704866990664,
          "user": {
            "displayName": "",
            "userId": ""
          },
          "user_tz": 480
        },
        "id": "EDqDQHzbjXNx",
        "outputId": "67aaab0f-2aff-4f37-a06f-e48267b5ad52"
      },
      "outputs": [
        {
          "data": {
            "text/html": [
              "<div>\n",
              "<style scoped>\n",
              "    .dataframe tbody tr th:only-of-type {\n",
              "        vertical-align: middle;\n",
              "    }\n",
              "\n",
              "    .dataframe tbody tr th {\n",
              "        vertical-align: top;\n",
              "    }\n",
              "\n",
              "    .dataframe thead th {\n",
              "        text-align: right;\n",
              "    }\n",
              "</style>\n",
              "<table border=\"1\" class=\"dataframe\">\n",
              "  <thead>\n",
              "    <tr style=\"text-align: right;\">\n",
              "      <th>activity_greater_than_wt</th>\n",
              "      <th>False</th>\n",
              "      <th>True</th>\n",
              "    </tr>\n",
              "    <tr>\n",
              "      <th>activity_level</th>\n",
              "      <th></th>\n",
              "      <th></th>\n",
              "    </tr>\n",
              "  </thead>\n",
              "  <tbody>\n",
              "    <tr>\n",
              "      <th>non-functional</th>\n",
              "      <td>32917</td>\n",
              "      <td>973</td>\n",
              "    </tr>\n",
              "    <tr>\n",
              "      <th>activity_greater_than_0</th>\n",
              "      <td>11099</td>\n",
              "      <td>0</td>\n",
              "    </tr>\n",
              "    <tr>\n",
              "      <th>activity_greater_than_WT</th>\n",
              "      <td>0</td>\n",
              "      <td>10572</td>\n",
              "    </tr>\n",
              "    <tr>\n",
              "      <th>activity_greater_than_A73R</th>\n",
              "      <td>0</td>\n",
              "      <td>199</td>\n",
              "    </tr>\n",
              "  </tbody>\n",
              "</table>\n",
              "</div>"
            ],
            "text/plain": [
              "activity_greater_than_wt    False  True \n",
              "activity_level                          \n",
              "non-functional              32917    973\n",
              "activity_greater_than_0     11099      0\n",
              "activity_greater_than_WT        0  10572\n",
              "activity_greater_than_A73R      0    199"
            ]
          },
          "execution_count": 13,
          "metadata": {},
          "output_type": "execute_result"
        }
      ],
      "source": [
        "pd.crosstab(df['activity_level'], df['activity_greater_than_wt']).reindex(order)"
      ]
    },
    {
      "cell_type": "code",
      "execution_count": 14,
      "metadata": {
        "colab": {
          "height": 206
        },
        "executionInfo": {
          "elapsed": 54,
          "status": "ok",
          "timestamp": 1704866990917,
          "user": {
            "displayName": "",
            "userId": ""
          },
          "user_tz": 480
        },
        "id": "UaE08-DjjaSr",
        "outputId": "d5d0e6f6-2a97-4624-8a44-9c90b77a6943"
      },
      "outputs": [
        {
          "data": {
            "text/html": [
              "<div>\n",
              "<style scoped>\n",
              "    .dataframe tbody tr th:only-of-type {\n",
              "        vertical-align: middle;\n",
              "    }\n",
              "\n",
              "    .dataframe tbody tr th {\n",
              "        vertical-align: top;\n",
              "    }\n",
              "\n",
              "    .dataframe thead th {\n",
              "        text-align: right;\n",
              "    }\n",
              "</style>\n",
              "<table border=\"1\" class=\"dataframe\">\n",
              "  <thead>\n",
              "    <tr style=\"text-align: right;\">\n",
              "      <th>activity_greater_than_a73r</th>\n",
              "      <th>False</th>\n",
              "      <th>True</th>\n",
              "    </tr>\n",
              "    <tr>\n",
              "      <th>activity_level</th>\n",
              "      <th></th>\n",
              "      <th></th>\n",
              "    </tr>\n",
              "  </thead>\n",
              "  <tbody>\n",
              "    <tr>\n",
              "      <th>non-functional</th>\n",
              "      <td>15189</td>\n",
              "      <td>0</td>\n",
              "    </tr>\n",
              "    <tr>\n",
              "      <th>activity_greater_than_0</th>\n",
              "      <td>8442</td>\n",
              "      <td>0</td>\n",
              "    </tr>\n",
              "    <tr>\n",
              "      <th>activity_greater_than_WT</th>\n",
              "      <td>9941</td>\n",
              "      <td>0</td>\n",
              "    </tr>\n",
              "    <tr>\n",
              "      <th>activity_greater_than_A73R</th>\n",
              "      <td>0</td>\n",
              "      <td>199</td>\n",
              "    </tr>\n",
              "  </tbody>\n",
              "</table>\n",
              "</div>"
            ],
            "text/plain": [
              "activity_greater_than_a73r  False  True \n",
              "activity_level                          \n",
              "non-functional              15189      0\n",
              "activity_greater_than_0      8442      0\n",
              "activity_greater_than_WT     9941      0\n",
              "activity_greater_than_A73R      0    199"
            ]
          },
          "execution_count": 14,
          "metadata": {},
          "output_type": "execute_result"
        }
      ],
      "source": [
        "pd.crosstab(df['activity_level'], df['activity_greater_than_a73r']).reindex(order)"
      ]
    },
    {
      "cell_type": "code",
      "execution_count": 15,
      "metadata": {
        "executionInfo": {
          "elapsed": 54,
          "status": "ok",
          "timestamp": 1704866816472,
          "user": {
            "displayName": "",
            "userId": ""
          },
          "user_tz": 480
        },
        "id": "oCJi1sdHkl9E",
        "outputId": "62c298b9-2e3c-4cfc-f364-f7df4c2f893b"
      },
      "outputs": [
        {
          "data": {
            "text/plain": [
              "activity_greater_than_neg_control  activity_greater_than_wt  activity_greater_than_a73r\n",
              "False                              False                     False                         14216\n",
              "True                               True                      False                          9941\n",
              "                                   False                     False                          8442\n",
              "False                              True                      False                           973\n",
              "True                               True                      True                            194\n",
              "False                              True                      True                              5\n",
              "Name: count, dtype: int64"
            ]
          },
          "execution_count": 15,
          "metadata": {},
          "output_type": "execute_result"
        }
      ],
      "source": [
        "df[['activity_greater_than_neg_control', 'activity_greater_than_wt', 'activity_greater_than_a73r']].value_counts()"
      ]
    },
    {
      "cell_type": "code",
      "execution_count": 16,
      "metadata": {
        "executionInfo": {
          "elapsed": 53,
          "status": "ok",
          "timestamp": 1704866825917,
          "user": {
            "displayName": "",
            "userId": ""
          },
          "user_tz": 480
        },
        "id": "jnkeprbGrPIC",
        "outputId": "5d096e1b-5fed-491b-960e-e70351dced31"
      },
      "outputs": [
        {
          "data": {
            "text/plain": [
              "generations\n",
              "g2    14219\n",
              "g1     8670\n",
              "Name: count, dtype: int64"
            ]
          },
          "execution_count": 16,
          "metadata": {},
          "output_type": "execute_result"
        }
      ],
      "source": [
        "# 20K variants were not assessed for activity relative to A73R\n",
        "# these correspond to variants seen only in g1/g2.\n",
        "df[df['activity_greater_than_a73r'].isna()].generations.explode().value_counts()"
      ]
    },
    {
      "cell_type": "code",
      "execution_count": 17,
      "metadata": {
        "executionInfo": {
          "elapsed": 53,
          "status": "ok",
          "timestamp": 1704866828570,
          "user": {
            "displayName": "",
            "userId": ""
          },
          "user_tz": 480
        },
        "id": "FmkdG3BAyOsL",
        "outputId": "b0c750a3-9570-46de-f46e-ed1d628aa63b"
      },
      "outputs": [
        {
          "data": {
            "text/plain": [
              "generations\n",
              "(g3,)    4\n",
              "(g4,)    1\n",
              "Name: count, dtype: int64"
            ]
          },
          "execution_count": 17,
          "metadata": {},
          "output_type": "execute_result"
        }
      ],
      "source": [
        "# 5 variants conflict in their a73r + wt vs neg_control label.\n",
        "df[df['activity_greater_than_a73r'] & df['activity_greater_than_wt'] & ~df['activity_greater_than_neg_control']].generations.value_counts()"
      ]
    },
    {
      "cell_type": "code",
      "execution_count": 18,
      "metadata": {
        "executionInfo": {
          "elapsed": 54,
          "status": "ok",
          "timestamp": 1704866834086,
          "user": {
            "displayName": "",
            "userId": ""
          },
          "user_tz": 480
        },
        "id": "YtH4gVFtLBB1",
        "outputId": "5e5973ec-f512-47a2-b58b-8993d43c2a6c"
      },
      "outputs": [
        {
          "data": {
            "text/plain": [
              "generations\n",
              "(g4,)           660\n",
              "(g3,)           303\n",
              "(g2, g4)          3\n",
              "(g1, g2, g4)      3\n",
              "(g1, g3)          3\n",
              "(g3, g4)          2\n",
              "(g2, g3)          2\n",
              "(g1, g3, g4)      1\n",
              "(g2, g3, g4)      1\n",
              "Name: count, dtype: int64"
            ]
          },
          "execution_count": 18,
          "metadata": {},
          "output_type": "execute_result"
        }
      ],
      "source": [
        "# 973 variants conflict in their wt vs neg_control label.\n",
        "df[df['activity_greater_than_wt'] & ~df['activity_greater_than_neg_control']].generations.value_counts()"
      ]
    }
  ],
  "metadata": {
    "colab": {
      "last_runtime": {
        "build_target": "//learning/brain/research/sequin/colab:xm_colab",
        "kind": "private"
      },
      "provenance": [
        {
          "file_id": "1m_Bqzl41X0hzFLrZ4O8ikUd7AaYLg5vc",
          "timestamp": 1700512947911
        }
      ]
    },
    "kernelspec": {
      "display_name": "Python 3",
      "name": "python3"
    },
    "language_info": {
      "codemirror_mode": {
        "name": "ipython",
        "version": 3
      },
      "file_extension": ".py",
      "mimetype": "text/x-python",
      "name": "python",
      "nbconvert_exporter": "python",
      "pygments_lexer": "ipython3",
      "version": "3.10.13"
    }
  },
  "nbformat": 4,
  "nbformat_minor": 0
}
