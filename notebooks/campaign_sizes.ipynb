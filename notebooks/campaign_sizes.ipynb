{
  "cells": [
    {
      "cell_type": "code",
      "execution_count": null,
      "metadata": {
        "id": "ulEYWEz3NxNS"
      },
      "outputs": [],
      "source": [
        "# Copyright 2023 DeepMind Technologies Limited\n",
        "#\n",
        "# Licensed under the Apache License, Version 2.0 (the \"License\");\n",
        "# you may not use this file except in compliance with the License.\n",
        "# You may obtain a copy of the License at\n",
        "#\n",
        "#    http://www.apache.org/licenses/LICENSE-2.0\n",
        "#\n",
        "# Unless required by applicable law or agreed to in writing, software\n",
        "# distributed under the License is distributed on an \"AS IS\" BASIS,\n",
        "# WITHOUT WARRANTIES OR CONDITIONS OF ANY KIND, either express or implied.\n",
        "# See the License for the specific language governing permissions and\n",
        "# limitations under the License.\n",
        "# =============================================================================="
      ]
    },
    {
      "cell_type": "code",
      "execution_count": null,
      "metadata": {
        "id": "xfchTPOaNxyX"
      },
      "outputs": [],
      "source": [
        "!pip install --upgrade https://github.com/google-deepmind/nuclease-design.git\n"
      ]
    },
    {
      "cell_type": "code",
      "execution_count": null,
      "metadata": {
        "id": "rNuhQLqsNzSl"
      },
      "outputs": [],
      "source": [
        "import functools\n",
        "\n",
        "import pandas as pd\n",
        "\n",
        "from nuclease_design import utils\n",
        "from nuclease_design import constants\n"
      ]
    },
    {
      "cell_type": "code",
      "execution_count": null,
      "metadata": {
        "id": "1zryTsW5N1ZE"
      },
      "outputs": [],
      "source": [
        "DATA_DIR = constants.DATA_DIR"
      ]
    },
    {
      "cell_type": "code",
      "execution_count": null,
      "metadata": {
        "id": "mZyY7ij_N5bN"
      },
      "outputs": [],
      "source": [
        "all_data_df = utils.load_all_data(DATA_DIR)\n",
        "df = utils.expand_sublibraries(all_data_df)\n",
        "df['campaign'] = df['sublibrary_name'].apply(utils.sublibrary_name_to_campaign_name)"
      ]
    },
    {
      "cell_type": "code",
      "execution_count": null,
      "metadata": {
        "id": "8PbdFIhyN9l-"
      },
      "outputs": [],
      "source": [
        "df.groupby(['campaign', 'generation'])['sequence'].nunique()"
      ]
    },
    {
      "cell_type": "code",
      "execution_count": null,
      "metadata": {
        "id": "YTmf5IYLN_-Q"
      },
      "outputs": [],
      "source": [
        "\n",
        "# This is cached in case we want to re-run the next cell, which is expensive.\n",
        "@functools.cache\n",
        "def _hamming_distance(a, b):\n",
        "  return sum(a != b for a, b in zip(a, b))\n"
      ]
    },
    {
      "cell_type": "code",
      "execution_count": null,
      "metadata": {
        "id": "OtDzMb1aOBwK"
      },
      "outputs": [],
      "source": [
        "def _get_min_distance_to_set(query_sequence, reference_sequences: pd.Series):\n",
        "  return reference_sequences.apply(_hamming_distance, b=query_sequence).min()\n",
        "\n",
        "\n",
        "df['generation_index'] = df['generation'].apply(lambda x: int(x[1]))\n",
        "\n",
        "\n",
        "def get_num_unmatched_but_close_to_hr(df, generation_index):\n",
        "  hr_seqs = df[\n",
        "      (df['campaign'] == 'HR') \u0026 (df['generation_index'] == generation_index)\n",
        "  ]['sequence']\n",
        "  prior_unmatched_seqs = df[\n",
        "      (df['campaign'] == 'unmatched')\n",
        "      \u0026 (df['generation_index'] == generation_index)\n",
        "  ]['sequence']\n",
        "  distances = prior_unmatched_seqs.apply(\n",
        "      _get_min_distance_to_set, reference_sequences=hr_seqs\n",
        "  )\n",
        "  return (distances == 1).sum()\n",
        "\n",
        "\n",
        "def get_hr_stats(df):\n",
        "  rows = []\n",
        "  for generation in [2, 3, 4]:\n",
        "    num_unmatched_in_prev_generation = 0\n",
        "    if generation \u003e 2:\n",
        "      num_unmatched_in_prev_generation = get_num_unmatched_but_close_to_hr(\n",
        "          df, generation - 1\n",
        "      )\n",
        "      num_from_campaign_in_prev_generation = (\n",
        "          (df['campaign'] == 'HR') \u0026 (df['generation_index'] == generation - 1)\n",
        "      ).sum()\n",
        "    else:\n",
        "      num_from_campaign_in_prev_generation = (df['campaign'] == 'epPCR').sum()\n",
        "\n",
        "    num_data_points_in_current_generation = (\n",
        "        (df['campaign'] == 'HR') \u0026 (df['generation_index'] == generation)\n",
        "    ).sum()\n",
        "\n",
        "    rows.append(\n",
        "        dict(\n",
        "            generation=generation,\n",
        "            total_num_variants_used_as_input=num_unmatched_in_prev_generation\n",
        "            + num_from_campaign_in_prev_generation,\n",
        "            num_data_points_in_current_generation=num_data_points_in_current_generation,\n",
        "        )\n",
        "    )\n",
        "  to_return = pd.DataFrame(rows)\n",
        "  to_return['total_num_variants_considered_so_far'] = to_return[\n",
        "      'total_num_variants_used_as_input'\n",
        "  ].cumsum()\n",
        "  return to_return\n",
        "\n",
        "\n",
        "get_hr_stats(df)"
      ]
    },
    {
      "cell_type": "code",
      "execution_count": null,
      "metadata": {
        "id": "HwL-TovgOESz"
      },
      "outputs": [],
      "source": [
        "def get_ml_stats(df):\n",
        "  rows = []\n",
        "  for generation in [2, 3, 4]:\n",
        "    num_inputs = (df['generation_index'] \u003c generation).sum()\n",
        "    num_data_points_in_current_generation = (\n",
        "        (df['campaign'] == 'ML') \u0026 (df['generation_index'] == generation)\n",
        "    ).sum()\n",
        "    rows.append(\n",
        "        dict(\n",
        "            generation=generation,\n",
        "            total_num_variants_used_as_input=num_inputs,\n",
        "            num_data_points_in_current_generation=num_data_points_in_current_generation,\n",
        "        )\n",
        "    )\n",
        "  return pd.DataFrame(rows)\n",
        "\n",
        "\n",
        "get_ml_stats(df)"
      ]
    },
    {
      "cell_type": "code",
      "execution_count": null,
      "metadata": {
        "id": "qtKo72uvOHLN"
      },
      "outputs": [],
      "source": [
        "df[df['campaign'] == 'other']['sublibrary_name'].value_counts()"
      ]
    }
  ],
  "metadata": {
    "colab": {
      "last_runtime": {
        "build_target": "//learning/brain/research/sequin/colab:xm_colab",
        "kind": "private"
      },
      "private_outputs": true,
      "provenance": []
    },
    "kernelspec": {
      "display_name": "Python 3",
      "name": "python3"
    },
    "language_info": {
      "name": "python"
    }
  },
  "nbformat": 4,
  "nbformat_minor": 0
}
