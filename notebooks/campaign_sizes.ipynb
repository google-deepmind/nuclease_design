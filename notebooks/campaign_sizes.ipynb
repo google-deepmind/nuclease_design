{
  "cells": [
    {
      "cell_type": "code",
      "execution_count": null,
      "metadata": {
        "id": "ulEYWEz3NxNS"
      },
      "outputs": [],
      "source": [
        "# Copyright 2023 DeepMind Technologies Limited\n",
        "#\n",
        "# Licensed under the Apache License, Version 2.0 (the \"License\");\n",
        "# you may not use this file except in compliance with the License.\n",
        "# You may obtain a copy of the License at\n",
        "#\n",
        "#    http://www.apache.org/licenses/LICENSE-2.0\n",
        "#\n",
        "# Unless required by applicable law or agreed to in writing, software\n",
        "# distributed under the License is distributed on an \"AS IS\" BASIS,\n",
        "# WITHOUT WARRANTIES OR CONDITIONS OF ANY KIND, either express or implied.\n",
        "# See the License for the specific language governing permissions and\n",
        "# limitations under the License.\n",
        "# =============================================================================="
      ]
    },
    {
      "cell_type": "code",
      "execution_count": null,
      "metadata": {
        "id": "xfchTPOaNxyX"
      },
      "outputs": [],
      "source": [
        "# Comment out if running from local environment\n",
        "!pip install --upgrade git+https://github.com/google-deepmind/nuclease_design.git"
      ]
    },
    {
      "cell_type": "markdown",
      "metadata": {},
      "source": [
        "# Imports"
      ]
    },
    {
      "cell_type": "code",
      "execution_count": 1,
      "metadata": {
        "id": "rNuhQLqsNzSl"
      },
      "outputs": [],
      "source": [
        "import functools\n",
        "\n",
        "import pandas as pd\n",
        "\n",
        "from nuclease_design import utils\n",
        "from nuclease_design import constants\n"
      ]
    },
    {
      "cell_type": "markdown",
      "metadata": {},
      "source": [
        "# Constants"
      ]
    },
    {
      "cell_type": "code",
      "execution_count": 2,
      "metadata": {
        "id": "1zryTsW5N1ZE"
      },
      "outputs": [],
      "source": [
        "DATA_DIR = constants.DATA_DIR"
      ]
    },
    {
      "cell_type": "code",
      "execution_count": 3,
      "metadata": {
        "id": "mZyY7ij_N5bN"
      },
      "outputs": [],
      "source": [
        "all_data_df = utils.load_all_data(DATA_DIR)\n",
        "df = utils.expand_sublibraries(all_data_df)\n",
        "df['campaign'] = df['sublibrary_name'].apply(utils.sublibrary_name_to_campaign_name)"
      ]
    },
    {
      "cell_type": "code",
      "execution_count": 4,
      "metadata": {
        "id": "8PbdFIhyN9l-"
      },
      "outputs": [
        {
          "data": {
            "text/plain": [
              "campaign   generation\n",
              "HR         g2             951\n",
              "           g3            1712\n",
              "           g4            1540\n",
              "ML         g2            9363\n",
              "           g3            9108\n",
              "           g4            8577\n",
              "epPCR      g1            9441\n",
              "other      g2              44\n",
              "           g3              44\n",
              "           g4            1735\n",
              "unmatched  g2            4365\n",
              "           g3            7796\n",
              "           g4            2360\n",
              "zero_shot  g4            1235\n",
              "Name: sequence, dtype: int64"
            ]
          },
          "execution_count": 4,
          "metadata": {},
          "output_type": "execute_result"
        }
      ],
      "source": [
        "df.groupby(['campaign', 'generation'])['sequence'].nunique()"
      ]
    },
    {
      "cell_type": "code",
      "execution_count": 5,
      "metadata": {
        "id": "YTmf5IYLN_-Q"
      },
      "outputs": [],
      "source": [
        "\n",
        "# This is cached in case we want to re-run the next cell, which is expensive.\n",
        "@functools.cache\n",
        "def _hamming_distance(a, b):\n",
        "  return sum(a != b for a, b in zip(a, b))\n"
      ]
    },
    {
      "cell_type": "code",
      "execution_count": 6,
      "metadata": {
        "id": "OtDzMb1aOBwK"
      },
      "outputs": [
        {
          "data": {
            "text/html": [
              "<div>\n",
              "<style scoped>\n",
              "    .dataframe tbody tr th:only-of-type {\n",
              "        vertical-align: middle;\n",
              "    }\n",
              "\n",
              "    .dataframe tbody tr th {\n",
              "        vertical-align: top;\n",
              "    }\n",
              "\n",
              "    .dataframe thead th {\n",
              "        text-align: right;\n",
              "    }\n",
              "</style>\n",
              "<table border=\"1\" class=\"dataframe\">\n",
              "  <thead>\n",
              "    <tr style=\"text-align: right;\">\n",
              "      <th></th>\n",
              "      <th>generation</th>\n",
              "      <th>total_num_variants_used_as_input</th>\n",
              "      <th>num_data_points_in_current_generation</th>\n",
              "      <th>total_num_variants_considered_so_far</th>\n",
              "    </tr>\n",
              "  </thead>\n",
              "  <tbody>\n",
              "    <tr>\n",
              "      <th>0</th>\n",
              "      <td>2</td>\n",
              "      <td>9441</td>\n",
              "      <td>951</td>\n",
              "      <td>9441</td>\n",
              "    </tr>\n",
              "    <tr>\n",
              "      <th>1</th>\n",
              "      <td>3</td>\n",
              "      <td>1159</td>\n",
              "      <td>1712</td>\n",
              "      <td>10600</td>\n",
              "    </tr>\n",
              "    <tr>\n",
              "      <th>2</th>\n",
              "      <td>4</td>\n",
              "      <td>2652</td>\n",
              "      <td>1540</td>\n",
              "      <td>13252</td>\n",
              "    </tr>\n",
              "  </tbody>\n",
              "</table>\n",
              "</div>"
            ],
            "text/plain": [
              "   generation  total_num_variants_used_as_input  \\\n",
              "0           2                              9441   \n",
              "1           3                              1159   \n",
              "2           4                              2652   \n",
              "\n",
              "   num_data_points_in_current_generation  total_num_variants_considered_so_far  \n",
              "0                                    951                                  9441  \n",
              "1                                   1712                                 10600  \n",
              "2                                   1540                                 13252  "
            ]
          },
          "execution_count": 6,
          "metadata": {},
          "output_type": "execute_result"
        }
      ],
      "source": [
        "def _get_min_distance_to_set(query_sequence, reference_sequences: pd.Series):\n",
        "  return reference_sequences.apply(_hamming_distance, b=query_sequence).min()\n",
        "\n",
        "\n",
        "df['generation_index'] = df['generation'].apply(lambda x: int(x[1]))\n",
        "\n",
        "\n",
        "def get_num_unmatched_but_close_to_hr(df, generation_index):\n",
        "  hr_seqs = df[\n",
        "      (df['campaign'] == 'HR') & (df['generation_index'] == generation_index)\n",
        "  ]['sequence']\n",
        "  prior_unmatched_seqs = df[\n",
        "      (df['campaign'] == 'unmatched')\n",
        "      & (df['generation_index'] == generation_index)\n",
        "  ]['sequence']\n",
        "  distances = prior_unmatched_seqs.apply(\n",
        "      _get_min_distance_to_set, reference_sequences=hr_seqs\n",
        "  )\n",
        "  return (distances == 1).sum()\n",
        "\n",
        "\n",
        "def get_hr_stats(df):\n",
        "  rows = []\n",
        "  for generation in [2, 3, 4]:\n",
        "    num_unmatched_in_prev_generation = 0\n",
        "    if generation > 2:\n",
        "      num_unmatched_in_prev_generation = get_num_unmatched_but_close_to_hr(\n",
        "          df, generation - 1\n",
        "      )\n",
        "      num_from_campaign_in_prev_generation = (\n",
        "          (df['campaign'] == 'HR') & (df['generation_index'] == generation - 1)\n",
        "      ).sum()\n",
        "    else:\n",
        "      num_from_campaign_in_prev_generation = (df['campaign'] == 'epPCR').sum()\n",
        "\n",
        "    num_data_points_in_current_generation = (\n",
        "        (df['campaign'] == 'HR') & (df['generation_index'] == generation)\n",
        "    ).sum()\n",
        "\n",
        "    rows.append(\n",
        "        dict(\n",
        "            generation=generation,\n",
        "            total_num_variants_used_as_input=num_unmatched_in_prev_generation\n",
        "            + num_from_campaign_in_prev_generation,\n",
        "            num_data_points_in_current_generation=num_data_points_in_current_generation,\n",
        "        )\n",
        "    )\n",
        "  to_return = pd.DataFrame(rows)\n",
        "  to_return['total_num_variants_considered_so_far'] = to_return[\n",
        "      'total_num_variants_used_as_input'\n",
        "  ].cumsum()\n",
        "  return to_return\n",
        "\n",
        "\n",
        "get_hr_stats(df)"
      ]
    },
    {
      "cell_type": "code",
      "execution_count": 7,
      "metadata": {
        "id": "HwL-TovgOESz"
      },
      "outputs": [
        {
          "data": {
            "text/html": [
              "<div>\n",
              "<style scoped>\n",
              "    .dataframe tbody tr th:only-of-type {\n",
              "        vertical-align: middle;\n",
              "    }\n",
              "\n",
              "    .dataframe tbody tr th {\n",
              "        vertical-align: top;\n",
              "    }\n",
              "\n",
              "    .dataframe thead th {\n",
              "        text-align: right;\n",
              "    }\n",
              "</style>\n",
              "<table border=\"1\" class=\"dataframe\">\n",
              "  <thead>\n",
              "    <tr style=\"text-align: right;\">\n",
              "      <th></th>\n",
              "      <th>generation</th>\n",
              "      <th>total_num_variants_used_as_input</th>\n",
              "      <th>num_data_points_in_current_generation</th>\n",
              "    </tr>\n",
              "  </thead>\n",
              "  <tbody>\n",
              "    <tr>\n",
              "      <th>0</th>\n",
              "      <td>2</td>\n",
              "      <td>9441</td>\n",
              "      <td>9370</td>\n",
              "    </tr>\n",
              "    <tr>\n",
              "      <th>1</th>\n",
              "      <td>3</td>\n",
              "      <td>24173</td>\n",
              "      <td>9557</td>\n",
              "    </tr>\n",
              "    <tr>\n",
              "      <th>2</th>\n",
              "      <td>4</td>\n",
              "      <td>43284</td>\n",
              "      <td>8588</td>\n",
              "    </tr>\n",
              "  </tbody>\n",
              "</table>\n",
              "</div>"
            ],
            "text/plain": [
              "   generation  total_num_variants_used_as_input  \\\n",
              "0           2                              9441   \n",
              "1           3                             24173   \n",
              "2           4                             43284   \n",
              "\n",
              "   num_data_points_in_current_generation  \n",
              "0                                   9370  \n",
              "1                                   9557  \n",
              "2                                   8588  "
            ]
          },
          "execution_count": 7,
          "metadata": {},
          "output_type": "execute_result"
        }
      ],
      "source": [
        "def get_ml_stats(df):\n",
        "  rows = []\n",
        "  for generation in [2, 3, 4]:\n",
        "    num_inputs = (df['generation_index'] < generation).sum()\n",
        "    num_data_points_in_current_generation = (\n",
        "        (df['campaign'] == 'ML') & (df['generation_index'] == generation)\n",
        "    ).sum()\n",
        "    rows.append(\n",
        "        dict(\n",
        "            generation=generation,\n",
        "            total_num_variants_used_as_input=num_inputs,\n",
        "            num_data_points_in_current_generation=num_data_points_in_current_generation,\n",
        "        )\n",
        "    )\n",
        "  return pd.DataFrame(rows)\n",
        "\n",
        "\n",
        "get_ml_stats(df)"
      ]
    },
    {
      "cell_type": "code",
      "execution_count": 8,
      "metadata": {
        "id": "qtKo72uvOHLN"
      },
      "outputs": [
        {
          "data": {
            "text/plain": [
              "sublibrary_name\n",
              "prosar+screen_g2_redux        1464\n",
              "g4_g3_hit_constituents         241\n",
              "g2_stratified_sample            40\n",
              "g3_g1_stratified_sample         38\n",
              "g4_mbo_seeds                    27\n",
              "g4_g3_plate_assay_variants      14\n",
              "g4_homolog_graft                11\n",
              "g3_g2_plate_assay_variants       6\n",
              "g2_g1_plate_assay_variants       5\n",
              "g2_wt_synonyms                   1\n",
              "g3_wt_synonyms                   1\n",
              "g3_a73r_synonyms                 1\n",
              "g4_wt_synonyms                   1\n",
              "g4_a73r_synonyms                 1\n",
              "g4_double_synonyms               1\n",
              "g4_quad_synonyms                 1\n",
              "Name: count, dtype: int64"
            ]
          },
          "execution_count": 8,
          "metadata": {},
          "output_type": "execute_result"
        }
      ],
      "source": [
        "df[df['campaign'] == 'other']['sublibrary_name'].value_counts()"
      ]
    }
  ],
  "metadata": {
    "colab": {
      "last_runtime": {
        "build_target": "//learning/brain/research/sequin/colab:xm_colab",
        "kind": "private"
      },
      "private_outputs": true,
      "provenance": []
    },
    "kernelspec": {
      "display_name": "Python 3",
      "name": "python3"
    },
    "language_info": {
      "codemirror_mode": {
        "name": "ipython",
        "version": 3
      },
      "file_extension": ".py",
      "mimetype": "text/x-python",
      "name": "python",
      "nbconvert_exporter": "python",
      "pygments_lexer": "ipython3",
      "version": "3.10.13"
    }
  },
  "nbformat": 4,
  "nbformat_minor": 0
}
