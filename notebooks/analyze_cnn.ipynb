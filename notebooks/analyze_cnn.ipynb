{
 "cells": [
  {
   "cell_type": "code",
   "execution_count": 1,
   "metadata": {
    "executionInfo": {
     "elapsed": 7,
     "status": "ok",
     "timestamp": 1704752469480,
     "user": {
      "displayName": "",
      "userId": ""
     },
     "user_tz": 300
    },
    "id": "n8XbJPCAV5zg"
   },
   "outputs": [],
   "source": [
    "# Copyright 2023 DeepMind Technologies Limited\n",
    "#\n",
    "# Licensed under the Apache License, Version 2.0 (the \"License\");\n",
    "# you may not use this file except in compliance with the License.\n",
    "# You may obtain a copy of the License at\n",
    "#\n",
    "#    http://www.apache.org/licenses/LICENSE-2.0\n",
    "#\n",
    "# Unless required by applicable law or agreed to in writing, software\n",
    "# distributed under the License is distributed on an \"AS IS\" BASIS,\n",
    "# WITHOUT WARRANTIES OR CONDITIONS OF ANY KIND, either express or implied.\n",
    "# See the License for the specific language governing permissions and\n",
    "# limitations under the License.\n",
    "# =============================================================================="
   ]
  },
  {
   "cell_type": "code",
   "execution_count": null,
   "metadata": {},
   "outputs": [],
   "source": [
    "# Skip this cell if running from local environment\n",
    "!pip install -q --no-warn-conflicts git+https://github.com/google-deepmind/nuclease_design.git\n",
    "# After installing, restart the kernel\n",
    "# Then run cells as normal"
   ]
  },
  {
   "cell_type": "markdown",
   "metadata": {},
   "source": [
    "# Imports"
   ]
  },
  {
   "cell_type": "code",
   "execution_count": 3,
   "metadata": {
    "executionInfo": {
     "elapsed": 7086,
     "status": "ok",
     "timestamp": 1704752478325,
     "user": {
      "displayName": "",
      "userId": ""
     },
     "user_tz": 300
    },
    "id": "YBnTGWsxuBl4"
   },
   "outputs": [
    {
     "name": "stderr",
     "output_type": "stream",
     "text": [
      "2024-02-27 21:06:28.909225: I external/local_tsl/tsl/cuda/cudart_stub.cc:31] Could not find cuda drivers on your machine, GPU will not be used.\n",
      "2024-02-27 21:06:28.965371: E external/local_xla/xla/stream_executor/cuda/cuda_dnn.cc:9261] Unable to register cuDNN factory: Attempting to register factory for plugin cuDNN when one has already been registered\n",
      "2024-02-27 21:06:28.965426: E external/local_xla/xla/stream_executor/cuda/cuda_fft.cc:607] Unable to register cuFFT factory: Attempting to register factory for plugin cuFFT when one has already been registered\n",
      "2024-02-27 21:06:28.967091: E external/local_xla/xla/stream_executor/cuda/cuda_blas.cc:1515] Unable to register cuBLAS factory: Attempting to register factory for plugin cuBLAS when one has already been registered\n",
      "2024-02-27 21:06:28.976311: I external/local_tsl/tsl/cuda/cudart_stub.cc:31] Could not find cuda drivers on your machine, GPU will not be used.\n",
      "2024-02-27 21:06:28.976673: I tensorflow/core/platform/cpu_feature_guard.cc:182] This TensorFlow binary is optimized to use available CPU instructions in performance-critical operations.\n",
      "To enable the following instructions: AVX2 FMA, in other operations, rebuild TensorFlow with the appropriate compiler flags.\n",
      "2024-02-27 21:06:30.138990: W tensorflow/compiler/tf2tensorrt/utils/py_utils.cc:38] TF-TRT Warning: Could not find TensorRT\n"
     ]
    }
   ],
   "source": [
    "import tempfile\n",
    "\n",
    "import numpy as np\n",
    "import pandas as pd\n",
    "\n",
    "from nuclease_design import cnn_model\n",
    "from nuclease_design import constants\n",
    "from nuclease_design import utils\n"
   ]
  },
  {
   "cell_type": "markdown",
   "metadata": {
    "id": "Sxox7kyqbaRm"
   },
   "source": [
    "# Copy the models to a local directory"
   ]
  },
  {
   "cell_type": "code",
   "execution_count": 4,
   "metadata": {
    "executionInfo": {
     "elapsed": 53,
     "status": "ok",
     "timestamp": 1704752478638,
     "user": {
      "displayName": "",
      "userId": ""
     },
     "user_tz": 300
    },
    "id": "t5v87A_lwWjD"
   },
   "outputs": [],
   "source": [
    "# The code for loading models requires that the model files have been copied\n",
    "# to local disk.\n",
    "LOCAL_DATA_DIR = tempfile.mkdtemp()"
   ]
  },
  {
   "cell_type": "code",
   "execution_count": 5,
   "metadata": {},
   "outputs": [],
   "source": [
    "!ls {LOCAL_DATA_DIR}"
   ]
  },
  {
   "cell_type": "code",
   "execution_count": 6,
   "metadata": {
    "executionInfo": {
     "elapsed": 20950,
     "status": "ok",
     "timestamp": 1704752499832,
     "user": {
      "displayName": "",
      "userId": ""
     },
     "user_tz": 300
    },
    "id": "tUIaoVdPrcNC"
   },
   "outputs": [],
   "source": [
    "cnn_model.copy_all_models_to_local_dir(LOCAL_DATA_DIR)"
   ]
  },
  {
   "cell_type": "markdown",
   "metadata": {
    "id": "I915aBZIbqWX"
   },
   "source": [
    "# Understand the model outputs\n",
    "\n",
    "The model outputs a vector of predicted probabilities that the activity for the input sequence belongs to these four classes.\n",
    "\n",
    "See the comments for `cnn_model.OUTPUT_CLASSES` for an explanation of the distinction between `cnn_model.OUTPUT_CLASSES` and `constants.LANDSCAPE_ACTIVITY_LEVELS`."
   ]
  },
  {
   "cell_type": "code",
   "execution_count": 7,
   "metadata": {
    "executionInfo": {
     "elapsed": 5,
     "status": "ok",
     "timestamp": 1704752500082,
     "user": {
      "displayName": "",
      "userId": ""
     },
     "user_tz": 300
    },
    "id": "ftGqhJXlbm2b",
    "outputId": "41187578-c613-4714-a875-08ec6cb54c8e"
   },
   "outputs": [
    {
     "data": {
      "text/plain": [
       "('<WT', 'WT', '>WT', '>=A73R')"
      ]
     },
     "execution_count": 7,
     "metadata": {},
     "output_type": "execute_result"
    }
   ],
   "source": [
    "cnn_model.OUTPUT_CLASSES"
   ]
  },
  {
   "cell_type": "markdown",
   "metadata": {
    "id": "KmIUXkKXbccN"
   },
   "source": [
    "# Apply a single model to the wildtype sequence"
   ]
  },
  {
   "cell_type": "code",
   "execution_count": 8,
   "metadata": {
    "executionInfo": {
     "elapsed": 2261,
     "status": "ok",
     "timestamp": 1704752502602,
     "user": {
      "displayName": "",
      "userId": ""
     },
     "user_tz": 300
    },
    "id": "Yyy8I3vds3iK",
    "outputId": "0c582605-ba11-49a3-967e-759cf30e55d3"
   },
   "outputs": [
    {
     "name": "stdout",
     "output_type": "stream",
     "text": [
      "1/1 [==============================] - 0s 162ms/step\n"
     ]
    },
    {
     "data": {
      "text/plain": [
       "array([[1.2467912e-03, 9.9805295e-01, 9.1224230e-08, 7.0020667e-04]],\n",
       "      dtype=float32)"
      ]
     },
     "execution_count": 8,
     "metadata": {},
     "output_type": "execute_result"
    }
   ],
   "source": [
    "model = cnn_model.load_cnn_model(model_index=0, data_dir=LOCAL_DATA_DIR)\n",
    "predict_fn = cnn_model.get_predict_fn(model)\n",
    "predict_fn([constants.FULL_REFERENCE_SEQ])"
   ]
  },
  {
   "cell_type": "markdown",
   "metadata": {
    "id": "bWJNvfhpbgp1"
   },
   "source": [
    "# Apply the ensemble of 5 models to the wildtype sequence"
   ]
  },
  {
   "cell_type": "code",
   "execution_count": 9,
   "metadata": {
    "executionInfo": {
     "elapsed": 1471,
     "status": "ok",
     "timestamp": 1704752504299,
     "user": {
      "displayName": "",
      "userId": ""
     },
     "user_tz": 300
    },
    "id": "0GZslMAsQ9DZ",
    "outputId": "3133f455-e530-477b-e73a-30337663429a"
   },
   "outputs": [
    {
     "name": "stdout",
     "output_type": "stream",
     "text": [
      "1/1 [==============================] - 0s 96ms/step\n",
      "1/1 [==============================] - 0s 101ms/step\n",
      "1/1 [==============================] - 0s 108ms/step\n",
      "WARNING:tensorflow:5 out of the last 5 calls to <function Model.make_predict_function.<locals>.predict_function at 0x7f507df8cb80> triggered tf.function retracing. Tracing is expensive and the excessive number of tracings could be due to (1) creating @tf.function repeatedly in a loop, (2) passing tensors with different shapes, (3) passing Python objects instead of tensors. For (1), please define your @tf.function outside of the loop. For (2), @tf.function has reduce_retracing=True option that can avoid unnecessary retracing. For (3), please refer to https://www.tensorflow.org/guide/function#controlling_retracing and https://www.tensorflow.org/api_docs/python/tf/function for  more details.\n",
      "1/1 [==============================] - 0s 125ms/step\n",
      "WARNING:tensorflow:6 out of the last 6 calls to <function Model.make_predict_function.<locals>.predict_function at 0x7f507df12200> triggered tf.function retracing. Tracing is expensive and the excessive number of tracings could be due to (1) creating @tf.function repeatedly in a loop, (2) passing tensors with different shapes, (3) passing Python objects instead of tensors. For (1), please define your @tf.function outside of the loop. For (2), @tf.function has reduce_retracing=True option that can avoid unnecessary retracing. For (3), please refer to https://www.tensorflow.org/guide/function#controlling_retracing and https://www.tensorflow.org/api_docs/python/tf/function for  more details.\n",
      "1/1 [==============================] - 0s 111ms/step\n"
     ]
    },
    {
     "data": {
      "text/plain": [
       "array([[2.5281562e-03, 9.9700385e-01, 1.7654112e-06, 4.6627861e-04]],\n",
       "      dtype=float32)"
      ]
     },
     "execution_count": 9,
     "metadata": {},
     "output_type": "execute_result"
    }
   ],
   "source": [
    "ensemble_models = cnn_model.load_cnn_ensemble(data_dir=LOCAL_DATA_DIR)\n",
    "ensemble_predict_fn = cnn_model.get_ensemble_predict_fn(ensemble_models)\n",
    "ensemble_predict_fn([constants.FULL_REFERENCE_SEQ])"
   ]
  },
  {
   "cell_type": "markdown",
   "metadata": {
    "id": "jhIOtmPcZwn7"
   },
   "source": [
    "# Apply the model to its training data from G1,G2,G3\n",
    "\n"
   ]
  },
  {
   "cell_type": "code",
   "execution_count": 10,
   "metadata": {
    "executionInfo": {
     "elapsed": 34174,
     "status": "ok",
     "timestamp": 1704752538708,
     "user": {
      "displayName": "",
      "userId": ""
     },
     "user_tz": 300
    },
    "id": "kINUyP7tWJW0"
   },
   "outputs": [],
   "source": [
    "df = utils.load_landscape()"
   ]
  },
  {
   "cell_type": "code",
   "execution_count": 11,
   "metadata": {
    "executionInfo": {
     "elapsed": 1,
     "status": "ok",
     "timestamp": 1704752539008,
     "user": {
      "displayName": "",
      "userId": ""
     },
     "user_tz": 300
    },
    "id": "5XcV5QnyWKma"
   },
   "outputs": [],
   "source": [
    "g123_df = df[df['generations'] != ('g4',)].reset_index()"
   ]
  },
  {
   "cell_type": "code",
   "execution_count": 12,
   "metadata": {
    "executionInfo": {
     "elapsed": 23838,
     "status": "ok",
     "timestamp": 1704752563139,
     "user": {
      "displayName": "",
      "userId": ""
     },
     "user_tz": 300
    },
    "id": "kgotZ-xDWo23",
    "outputId": "c3dc67e6-deb8-4605-cde6-6f299bceee64"
   },
   "outputs": [
    {
     "name": "stdout",
     "output_type": "stream",
     "text": [
      "1274/1274 [==============================] - 3s 3ms/step\n",
      "1274/1274 [==============================] - 4s 3ms/step\n",
      "1274/1274 [==============================] - 4s 3ms/step\n",
      "1274/1274 [==============================] - 4s 3ms/step\n",
      "1274/1274 [==============================] - 4s 3ms/step\n"
     ]
    }
   ],
   "source": [
    "predicted_probabilities = ensemble_predict_fn(g123_df['sequence'])\n",
    "int_predictions = np.argmax(predicted_probabilities, axis=1)\n",
    "g123_df['predicted_activity_level'] = pd.Series(int_predictions).apply(\n",
    "    lambda i: cnn_model.OUTPUT_CLASSES[i]\n",
    ")"
   ]
  },
  {
   "cell_type": "markdown",
   "metadata": {
    "id": "9pjc7fZzZ_EQ"
   },
   "source": [
    "## Compare the activity label from the experiment to the activity label predicted by the model\n",
    "\n",
    "We performed model selection using a train-test split of this data, but then we re-trained the model on all of the data. Therefore, we expect the model to have\n",
    "reasonably high accuracy.\n",
    "\n",
    "Note that many of the off-diagonal elements likely result from the slight difference between the labeling scheme used to train the model and the labeling\n",
    "scheme in the final landscape file. For example,  'activity_greater_than_A73R' is a higher bar than '>=A73R' (i.e., 'not significantly worse than A73R')."
   ]
  },
  {
   "cell_type": "code",
   "execution_count": 13,
   "metadata": {
    "colab": {
     "height": 206
    },
    "executionInfo": {
     "elapsed": 60,
     "status": "ok",
     "timestamp": 1704752563484,
     "user": {
      "displayName": "",
      "userId": ""
     },
     "user_tz": 300
    },
    "id": "Bnt62tKBXnvN",
    "outputId": "7961845f-3f79-4837-ba98-9a9021c71b55"
   },
   "outputs": [
    {
     "data": {
      "text/html": [
       "<div>\n",
       "<style scoped>\n",
       "    .dataframe tbody tr th:only-of-type {\n",
       "        vertical-align: middle;\n",
       "    }\n",
       "\n",
       "    .dataframe tbody tr th {\n",
       "        vertical-align: top;\n",
       "    }\n",
       "\n",
       "    .dataframe thead th {\n",
       "        text-align: right;\n",
       "    }\n",
       "</style>\n",
       "<table border=\"1\" class=\"dataframe\">\n",
       "  <thead>\n",
       "    <tr style=\"text-align: right;\">\n",
       "      <th>predicted_activity_level</th>\n",
       "      <th>&lt;WT</th>\n",
       "      <th>WT</th>\n",
       "      <th>&gt;WT</th>\n",
       "      <th>&gt;=A73R</th>\n",
       "    </tr>\n",
       "    <tr>\n",
       "      <th>activity_level</th>\n",
       "      <th></th>\n",
       "      <th></th>\n",
       "      <th></th>\n",
       "      <th></th>\n",
       "    </tr>\n",
       "  </thead>\n",
       "  <tbody>\n",
       "    <tr>\n",
       "      <th>non-functional</th>\n",
       "      <td>24770</td>\n",
       "      <td>523</td>\n",
       "      <td>167</td>\n",
       "      <td>20</td>\n",
       "    </tr>\n",
       "    <tr>\n",
       "      <th>activity_greater_than_0</th>\n",
       "      <td>912</td>\n",
       "      <td>6705</td>\n",
       "      <td>1256</td>\n",
       "      <td>166</td>\n",
       "    </tr>\n",
       "    <tr>\n",
       "      <th>activity_greater_than_WT</th>\n",
       "      <td>9</td>\n",
       "      <td>266</td>\n",
       "      <td>4294</td>\n",
       "      <td>1507</td>\n",
       "    </tr>\n",
       "    <tr>\n",
       "      <th>activity_greater_than_A73R</th>\n",
       "      <td>2</td>\n",
       "      <td>1</td>\n",
       "      <td>63</td>\n",
       "      <td>91</td>\n",
       "    </tr>\n",
       "  </tbody>\n",
       "</table>\n",
       "</div>"
      ],
      "text/plain": [
       "predicted_activity_level      <WT    WT   >WT  >=A73R\n",
       "activity_level                                       \n",
       "non-functional              24770   523   167      20\n",
       "activity_greater_than_0       912  6705  1256     166\n",
       "activity_greater_than_WT        9   266  4294    1507\n",
       "activity_greater_than_A73R      2     1    63      91"
      ]
     },
     "execution_count": 13,
     "metadata": {},
     "output_type": "execute_result"
    }
   ],
   "source": [
    "pd.crosstab(g123_df['activity_level'], g123_df['predicted_activity_level']).loc[\n",
    "    list(constants.LANDSCAPE_ACTIVITY_LEVELS)\n",
    "][list(cnn_model.OUTPUT_CLASSES)]"
   ]
  },
  {
   "cell_type": "markdown",
   "metadata": {},
   "source": [
    "## Count the number of parameters in a model"
   ]
  },
  {
   "cell_type": "code",
   "execution_count": 14,
   "metadata": {},
   "outputs": [
    {
     "data": {
      "text/plain": [
       "255524"
      ]
     },
     "execution_count": 14,
     "metadata": {},
     "output_type": "execute_result"
    }
   ],
   "source": [
    "cnn_model.load_cnn_model(model_index=0, data_dir=LOCAL_DATA_DIR).count_params()"
   ]
  }
 ],
 "metadata": {
  "colab": {
   "last_runtime": {
    "build_target": "//learning/brain/research/sequin/colab:xm_colab",
    "kind": "private"
   },
   "provenance": [
    {
     "file_id": "1Lb1GcQfXpkZmV8lOMhj9jB7U8_OZlTyN",
     "timestamp": 1703183889719
    }
   ]
  },
  "kernelspec": {
   "display_name": "nuclease_design_venv",
   "language": "python",
   "name": "nuclease_design_venv"
  },
  "language_info": {
   "codemirror_mode": {
    "name": "ipython",
    "version": 3
   },
   "file_extension": ".py",
   "mimetype": "text/x-python",
   "name": "python",
   "nbconvert_exporter": "python",
   "pygments_lexer": "ipython3",
   "version": "3.11.7"
  }
 },
 "nbformat": 4,
 "nbformat_minor": 1
}
