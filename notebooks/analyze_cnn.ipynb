{
  "cells": [
    {
      "cell_type": "code",
      "execution_count": 1,
      "metadata": {
        "executionInfo": {
          "elapsed": 7,
          "status": "ok",
          "timestamp": 1704752469480,
          "user": {
            "displayName": "",
            "userId": ""
          },
          "user_tz": 300
        },
        "id": "n8XbJPCAV5zg"
      },
      "outputs": [],
      "source": [
        "# Copyright 2023 DeepMind Technologies Limited\n",
        "#\n",
        "# Licensed under the Apache License, Version 2.0 (the \"License\");\n",
        "# you may not use this file except in compliance with the License.\n",
        "# You may obtain a copy of the License at\n",
        "#\n",
        "#    http://www.apache.org/licenses/LICENSE-2.0\n",
        "#\n",
        "# Unless required by applicable law or agreed to in writing, software\n",
        "# distributed under the License is distributed on an \"AS IS\" BASIS,\n",
        "# WITHOUT WARRANTIES OR CONDITIONS OF ANY KIND, either express or implied.\n",
        "# See the License for the specific language governing permissions and\n",
        "# limitations under the License.\n",
        "# =============================================================================="
      ]
    },
    {
      "cell_type": "code",
      "execution_count": 2,
      "metadata": {
        "executionInfo": {
          "elapsed": 1298,
          "status": "ok",
          "timestamp": 1704752471007,
          "user": {
            "displayName": "",
            "userId": ""
          },
          "user_tz": 300
        },
        "id": "VitBWrA_vOXA"
      },
      "outputs": [],
      "source": [
        "!pip install --upgrade https://github.com/google-deepmind/nuclease-design.git\n"
      ]
    },
    {
      "cell_type": "code",
      "execution_count": 3,
      "metadata": {
        "executionInfo": {
          "elapsed": 7086,
          "status": "ok",
          "timestamp": 1704752478325,
          "user": {
            "displayName": "",
            "userId": ""
          },
          "user_tz": 300
        },
        "id": "YBnTGWsxuBl4"
      },
      "outputs": [],
      "source": [
        "import tempfile\n",
        "\n",
        "import numpy as np\n",
        "import pandas as pd\n",
        "\n",
        "from nuclease_design import cnn_model\n",
        "from nuclease_design import constants\n",
        "from nuclease_design import utils\n"
      ]
    },
    {
      "cell_type": "markdown",
      "metadata": {
        "id": "Sxox7kyqbaRm"
      },
      "source": [
        "# Copy the models to a local directory"
      ]
    },
    {
      "cell_type": "code",
      "execution_count": 4,
      "metadata": {
        "executionInfo": {
          "elapsed": 53,
          "status": "ok",
          "timestamp": 1704752478638,
          "user": {
            "displayName": "",
            "userId": ""
          },
          "user_tz": 300
        },
        "id": "t5v87A_lwWjD"
      },
      "outputs": [],
      "source": [
        "# The code for loading models requires that the model files have been copied\n",
        "# to local disk.\n",
        "LOCAL_DATA_DIR = tempfile.mkdtemp()"
      ]
    },
    {
      "cell_type": "code",
      "execution_count": 5,
      "metadata": {
        "executionInfo": {
          "elapsed": 20950,
          "status": "ok",
          "timestamp": 1704752499832,
          "user": {
            "displayName": "",
            "userId": ""
          },
          "user_tz": 300
        },
        "id": "tUIaoVdPrcNC"
      },
      "outputs": [],
      "source": [
        "cnn_model.copy_all_models_to_local_dir(LOCAL_DATA_DIR)"
      ]
    },
    {
      "cell_type": "markdown",
      "metadata": {
        "id": "I915aBZIbqWX"
      },
      "source": [
        "# Understand the model outputs\n",
        "\n",
        "The model outputs a vector of predicted probabilities that the activity for the input sequence belongs to these four classes.\n",
        "\n",
        "See the comments for `cnn_model.OUTPUT_CLASSES` for an explanation of the distinction between `cnn_model.OUTPUT_CLASSES` and `constants.LANDSCAPE_ACTIVITY_LEVELS`."
      ]
    },
    {
      "cell_type": "code",
      "execution_count": 6,
      "metadata": {
        "executionInfo": {
          "elapsed": 5,
          "status": "ok",
          "timestamp": 1704752500082,
          "user": {
            "displayName": "",
            "userId": ""
          },
          "user_tz": 300
        },
        "id": "ftGqhJXlbm2b",
        "outputId": "41187578-c613-4714-a875-08ec6cb54c8e"
      },
      "outputs": [
        {
          "data": {
            "text/plain": [
              "('\u003cWT', 'WT', '\u003eWT', '\u003e=A73R')"
            ]
          },
          "execution_count": 6,
          "metadata": {},
          "output_type": "execute_result"
        }
      ],
      "source": [
        "cnn_model.OUTPUT_CLASSES"
      ]
    },
    {
      "cell_type": "markdown",
      "metadata": {
        "id": "KmIUXkKXbccN"
      },
      "source": [
        "# Apply a single model to the wildtype sequence"
      ]
    },
    {
      "cell_type": "code",
      "execution_count": 7,
      "metadata": {
        "executionInfo": {
          "elapsed": 2261,
          "status": "ok",
          "timestamp": 1704752502602,
          "user": {
            "displayName": "",
            "userId": ""
          },
          "user_tz": 300
        },
        "id": "Yyy8I3vds3iK",
        "outputId": "0c582605-ba11-49a3-967e-759cf30e55d3"
      },
      "outputs": [
        {
          "name": "stdout",
          "output_type": "stream",
          "text": [
            "1/1 [==============================] - 1s 586ms/step\n"
          ]
        },
        {
          "data": {
            "text/plain": [
              "array([[1.2467912e-03, 9.9805295e-01, 9.1224230e-08, 7.0020667e-04]],\n",
              "      dtype=float32)"
            ]
          },
          "execution_count": 7,
          "metadata": {},
          "output_type": "execute_result"
        }
      ],
      "source": [
        "model = cnn_model.load_cnn_model(model_index=0, data_dir=LOCAL_DATA_DIR)\n",
        "predict_fn = cnn_model.get_predict_fn(model)\n",
        "predict_fn([constants.FULL_REFERENCE_SEQ])"
      ]
    },
    {
      "cell_type": "markdown",
      "metadata": {
        "id": "bWJNvfhpbgp1"
      },
      "source": [
        "# Apply the ensemble of 5 models to the wildtype sequence"
      ]
    },
    {
      "cell_type": "code",
      "execution_count": 8,
      "metadata": {
        "executionInfo": {
          "elapsed": 1471,
          "status": "ok",
          "timestamp": 1704752504299,
          "user": {
            "displayName": "",
            "userId": ""
          },
          "user_tz": 300
        },
        "id": "0GZslMAsQ9DZ",
        "outputId": "3133f455-e530-477b-e73a-30337663429a"
      },
      "outputs": [
        {
          "name": "stdout",
          "output_type": "stream",
          "text": [
            "1/1 [==============================] - 0s 97ms/step\n",
            "1/1 [==============================] - 0s 95ms/step\n",
            "1/1 [==============================] - 0s 96ms/step\n",
            "1/1 [==============================] - 0s 93ms/step\n",
            "1/1 [==============================] - 0s 94ms/step\n"
          ]
        },
        {
          "data": {
            "text/plain": [
              "array([[2.5281562e-03, 9.9700385e-01, 1.7654112e-06, 4.6627864e-04]],\n",
              "      dtype=float32)"
            ]
          },
          "execution_count": 8,
          "metadata": {},
          "output_type": "execute_result"
        }
      ],
      "source": [
        "ensemble_models = cnn_model.load_cnn_ensemble(data_dir=LOCAL_DATA_DIR)\n",
        "ensemble_predict_fn = cnn_model.get_ensemble_predict_fn(ensemble_models)\n",
        "ensemble_predict_fn([constants.FULL_REFERENCE_SEQ])"
      ]
    },
    {
      "cell_type": "markdown",
      "metadata": {
        "id": "jhIOtmPcZwn7"
      },
      "source": [
        "# Apply the model to its training data from G1,G2,G3\n",
        "\n"
      ]
    },
    {
      "cell_type": "code",
      "execution_count": 9,
      "metadata": {
        "executionInfo": {
          "elapsed": 34174,
          "status": "ok",
          "timestamp": 1704752538708,
          "user": {
            "displayName": "",
            "userId": ""
          },
          "user_tz": 300
        },
        "id": "kINUyP7tWJW0"
      },
      "outputs": [],
      "source": [
        "df = utils.load_landscape()"
      ]
    },
    {
      "cell_type": "code",
      "execution_count": 10,
      "metadata": {
        "executionInfo": {
          "elapsed": 1,
          "status": "ok",
          "timestamp": 1704752539008,
          "user": {
            "displayName": "",
            "userId": ""
          },
          "user_tz": 300
        },
        "id": "5XcV5QnyWKma"
      },
      "outputs": [],
      "source": [
        "g123_df = df[df['generations'] != ('g4',)].reset_index()"
      ]
    },
    {
      "cell_type": "code",
      "execution_count": 11,
      "metadata": {
        "executionInfo": {
          "elapsed": 23838,
          "status": "ok",
          "timestamp": 1704752563139,
          "user": {
            "displayName": "",
            "userId": ""
          },
          "user_tz": 300
        },
        "id": "kgotZ-xDWo23",
        "outputId": "c3dc67e6-deb8-4605-cde6-6f299bceee64"
      },
      "outputs": [
        {
          "name": "stdout",
          "output_type": "stream",
          "text": [
            "1274/1274 [==============================] - 3s 3ms/step\n",
            "1274/1274 [==============================] - 3s 3ms/step\n",
            "1274/1274 [==============================] - 3s 2ms/step\n",
            "1274/1274 [==============================] - 3s 3ms/step\n",
            "1274/1274 [==============================] - 3s 2ms/step\n"
          ]
        }
      ],
      "source": [
        "predicted_probabilities = ensemble_predict_fn(g123_df['sequence'])\n",
        "int_predictions = np.argmax(predicted_probabilities, axis=1)\n",
        "g123_df['predicted_activity_level'] = pd.Series(int_predictions).apply(\n",
        "    lambda i: cnn_model.OUTPUT_CLASSES[i]\n",
        ")"
      ]
    },
    {
      "cell_type": "markdown",
      "metadata": {
        "id": "9pjc7fZzZ_EQ"
      },
      "source": [
        "## Compare the activity label from the experiment to the activity label predicted by the model\n",
        "\n",
        "We performed model selection using a train-test split of this data, but then we re-trained the model on all of the data. Therefore, we expect the model to have\n",
        "reasonably high accuracy.\n",
        "\n",
        "Note that many of the off-diagonal elements likely result from the slight difference between the labeling scheme used to train the model and the labeling\n",
        "scheme in the final landscape file. For example,  'activity_greater_than_A73R' is a higher bar than '\u003e=A73R' (i.e., 'not significantly worse than A73R')."
      ]
    },
    {
      "cell_type": "code",
      "execution_count": 12,
      "metadata": {
        "colab": {
          "height": 206
        },
        "executionInfo": {
          "elapsed": 60,
          "status": "ok",
          "timestamp": 1704752563484,
          "user": {
            "displayName": "",
            "userId": ""
          },
          "user_tz": 300
        },
        "id": "Bnt62tKBXnvN",
        "outputId": "7961845f-3f79-4837-ba98-9a9021c71b55"
      },
      "outputs": [
        {
          "data": {
            "text/html": [
              "\n",
              "  \u003cdiv id=\"df-b2f1befc-029e-4180-900f-4d2a528efe86\" class=\"colab-df-container\"\u003e\n",
              "    \u003cdiv\u003e\n",
              "\u003cstyle scoped\u003e\n",
              "    .dataframe tbody tr th:only-of-type {\n",
              "        vertical-align: middle;\n",
              "    }\n",
              "\n",
              "    .dataframe tbody tr th {\n",
              "        vertical-align: top;\n",
              "    }\n",
              "\n",
              "    .dataframe thead th {\n",
              "        text-align: right;\n",
              "    }\n",
              "\u003c/style\u003e\n",
              "\u003ctable border=\"1\" class=\"dataframe\"\u003e\n",
              "  \u003cthead\u003e\n",
              "    \u003ctr style=\"text-align: right;\"\u003e\n",
              "      \u003cth\u003epredicted_activity_level\u003c/th\u003e\n",
              "      \u003cth\u003e\u0026lt;WT\u003c/th\u003e\n",
              "      \u003cth\u003eWT\u003c/th\u003e\n",
              "      \u003cth\u003e\u0026gt;WT\u003c/th\u003e\n",
              "      \u003cth\u003e\u0026gt;=A73R\u003c/th\u003e\n",
              "    \u003c/tr\u003e\n",
              "    \u003ctr\u003e\n",
              "      \u003cth\u003eactivity_level\u003c/th\u003e\n",
              "      \u003cth\u003e\u003c/th\u003e\n",
              "      \u003cth\u003e\u003c/th\u003e\n",
              "      \u003cth\u003e\u003c/th\u003e\n",
              "      \u003cth\u003e\u003c/th\u003e\n",
              "    \u003c/tr\u003e\n",
              "  \u003c/thead\u003e\n",
              "  \u003ctbody\u003e\n",
              "    \u003ctr\u003e\n",
              "      \u003cth\u003enon-functional\u003c/th\u003e\n",
              "      \u003ctd\u003e24596\u003c/td\u003e\n",
              "      \u003ctd\u003e511\u003c/td\u003e\n",
              "      \u003ctd\u003e53\u003c/td\u003e\n",
              "      \u003ctd\u003e6\u003c/td\u003e\n",
              "    \u003c/tr\u003e\n",
              "    \u003ctr\u003e\n",
              "      \u003cth\u003eactivity_greater_than_0\u003c/th\u003e\n",
              "      \u003ctd\u003e912\u003c/td\u003e\n",
              "      \u003ctd\u003e6705\u003c/td\u003e\n",
              "      \u003ctd\u003e1256\u003c/td\u003e\n",
              "      \u003ctd\u003e166\u003c/td\u003e\n",
              "    \u003c/tr\u003e\n",
              "    \u003ctr\u003e\n",
              "      \u003cth\u003eactivity_greater_than_WT\u003c/th\u003e\n",
              "      \u003ctd\u003e183\u003c/td\u003e\n",
              "      \u003ctd\u003e278\u003c/td\u003e\n",
              "      \u003ctd\u003e4408\u003c/td\u003e\n",
              "      \u003ctd\u003e1521\u003c/td\u003e\n",
              "    \u003c/tr\u003e\n",
              "    \u003ctr\u003e\n",
              "      \u003cth\u003eactivity_greater_than_A73R\u003c/th\u003e\n",
              "      \u003ctd\u003e2\u003c/td\u003e\n",
              "      \u003ctd\u003e1\u003c/td\u003e\n",
              "      \u003ctd\u003e63\u003c/td\u003e\n",
              "      \u003ctd\u003e91\u003c/td\u003e\n",
              "    \u003c/tr\u003e\n",
              "  \u003c/tbody\u003e\n",
              "\u003c/table\u003e\n",
              "\u003c/div\u003e\n",
              "    \u003cdiv class=\"colab-df-buttons\"\u003e\n",
              "\n",
              "  \u003cdiv class=\"colab-df-container\"\u003e\n",
              "    \u003cbutton class=\"colab-df-convert\" onclick=\"convertToInteractive('df-b2f1befc-029e-4180-900f-4d2a528efe86')\"\n",
              "            title=\"Convert this dataframe to an interactive table.\"\n",
              "            style=\"display:none;\"\u003e\n",
              "\n",
              "  \u003csvg xmlns=\"http://www.w3.org/2000/svg\" height=\"24px\" viewBox=\"0 -960 960 960\"\u003e\n",
              "    \u003cpath d=\"M120-120v-720h720v720H120Zm60-500h600v-160H180v160Zm220 220h160v-160H400v160Zm0 220h160v-160H400v160ZM180-400h160v-160H180v160Zm440 0h160v-160H620v160ZM180-180h160v-160H180v160Zm440 0h160v-160H620v160Z\"/\u003e\n",
              "  \u003c/svg\u003e\n",
              "    \u003c/button\u003e\n",
              "\n",
              "  \u003cstyle\u003e\n",
              "    .colab-df-container {\n",
              "      display:flex;\n",
              "      gap: 12px;\n",
              "    }\n",
              "\n",
              "    .colab-df-convert {\n",
              "      background-color: #E8F0FE;\n",
              "      border: none;\n",
              "      border-radius: 50%;\n",
              "      cursor: pointer;\n",
              "      display: none;\n",
              "      fill: #1967D2;\n",
              "      height: 32px;\n",
              "      padding: 0 0 0 0;\n",
              "      width: 32px;\n",
              "    }\n",
              "\n",
              "    .colab-df-convert:hover {\n",
              "      background-color: #E2EBFA;\n",
              "      box-shadow: 0px 1px 2px rgba(60, 64, 67, 0.3), 0px 1px 3px 1px rgba(60, 64, 67, 0.15);\n",
              "      fill: #174EA6;\n",
              "    }\n",
              "\n",
              "    .colab-df-buttons div {\n",
              "      margin-bottom: 4px;\n",
              "    }\n",
              "\n",
              "    [theme=dark] .colab-df-convert {\n",
              "      background-color: #3B4455;\n",
              "      fill: #D2E3FC;\n",
              "    }\n",
              "\n",
              "    [theme=dark] .colab-df-convert:hover {\n",
              "      background-color: #434B5C;\n",
              "      box-shadow: 0px 1px 3px 1px rgba(0, 0, 0, 0.15);\n",
              "      filter: drop-shadow(0px 1px 2px rgba(0, 0, 0, 0.3));\n",
              "      fill: #FFFFFF;\n",
              "    }\n",
              "  \u003c/style\u003e\n",
              "\n",
              "    \u003cscript\u003e\n",
              "      const buttonEl =\n",
              "        document.querySelector('#df-b2f1befc-029e-4180-900f-4d2a528efe86 button.colab-df-convert');\n",
              "      buttonEl.style.display =\n",
              "        google.colab.kernel.accessAllowed ? 'block' : 'none';\n",
              "\n",
              "      async function convertToInteractive(key) {\n",
              "        const element = document.querySelector('#df-b2f1befc-029e-4180-900f-4d2a528efe86');\n",
              "        const dataTable =\n",
              "          await google.colab.kernel.invokeFunction('convertToInteractive',\n",
              "                                                    [key], {});\n",
              "        if (!dataTable) return;\n",
              "\n",
              "        const docLinkHtml = 'Like what you see? Visit the ' +\n",
              "          '\u003ca target=\"_blank\" href=https://colab.research.google.com/notebooks/data_table.ipynb\u003edata table notebook\u003c/a\u003e'\n",
              "          + ' to learn more about interactive tables.';\n",
              "        element.innerHTML = '';\n",
              "        dataTable['output_type'] = 'display_data';\n",
              "        await google.colab.output.renderOutput(dataTable, element);\n",
              "        const docLink = document.createElement('div');\n",
              "        docLink.innerHTML = docLinkHtml;\n",
              "        element.appendChild(docLink);\n",
              "      }\n",
              "    \u003c/script\u003e\n",
              "  \u003c/div\u003e\n",
              "\n",
              "\n",
              "\u003cdiv id=\"df-01f36f40-6efe-475f-b94f-566361978e03\"\u003e\n",
              "  \u003cbutton class=\"colab-df-quickchart\" onclick=\"quickchart('df-01f36f40-6efe-475f-b94f-566361978e03')\"\n",
              "            title=\"Suggest charts\"\n",
              "            style=\"display:none;\"\u003e\n",
              "\n",
              "\u003csvg xmlns=\"http://www.w3.org/2000/svg\" height=\"24px\"viewBox=\"0 0 24 24\"\n",
              "     width=\"24px\"\u003e\n",
              "    \u003cg\u003e\n",
              "        \u003cpath d=\"M19 3H5c-1.1 0-2 .9-2 2v14c0 1.1.9 2 2 2h14c1.1 0 2-.9 2-2V5c0-1.1-.9-2-2-2zM9 17H7v-7h2v7zm4 0h-2V7h2v10zm4 0h-2v-4h2v4z\"/\u003e\n",
              "    \u003c/g\u003e\n",
              "\u003c/svg\u003e\n",
              "  \u003c/button\u003e\n",
              "\n",
              "\u003cstyle\u003e\n",
              "  .colab-df-quickchart {\n",
              "      --bg-color: #E8F0FE;\n",
              "      --fill-color: #1967D2;\n",
              "      --hover-bg-color: #E2EBFA;\n",
              "      --hover-fill-color: #174EA6;\n",
              "      --disabled-fill-color: #AAA;\n",
              "      --disabled-bg-color: #DDD;\n",
              "  }\n",
              "\n",
              "  [theme=dark] .colab-df-quickchart {\n",
              "      --bg-color: #3B4455;\n",
              "      --fill-color: #D2E3FC;\n",
              "      --hover-bg-color: #434B5C;\n",
              "      --hover-fill-color: #FFFFFF;\n",
              "      --disabled-bg-color: #3B4455;\n",
              "      --disabled-fill-color: #666;\n",
              "  }\n",
              "\n",
              "  .colab-df-quickchart {\n",
              "    background-color: var(--bg-color);\n",
              "    border: none;\n",
              "    border-radius: 50%;\n",
              "    cursor: pointer;\n",
              "    display: none;\n",
              "    fill: var(--fill-color);\n",
              "    height: 32px;\n",
              "    padding: 0;\n",
              "    width: 32px;\n",
              "  }\n",
              "\n",
              "  .colab-df-quickchart:hover {\n",
              "    background-color: var(--hover-bg-color);\n",
              "    box-shadow: 0 1px 2px rgba(60, 64, 67, 0.3), 0 1px 3px 1px rgba(60, 64, 67, 0.15);\n",
              "    fill: var(--button-hover-fill-color);\n",
              "  }\n",
              "\n",
              "  .colab-df-quickchart-complete:disabled,\n",
              "  .colab-df-quickchart-complete:disabled:hover {\n",
              "    background-color: var(--disabled-bg-color);\n",
              "    fill: var(--disabled-fill-color);\n",
              "    box-shadow: none;\n",
              "  }\n",
              "\n",
              "  .colab-df-spinner {\n",
              "    border: 2px solid var(--fill-color);\n",
              "    border-color: transparent;\n",
              "    border-bottom-color: var(--fill-color);\n",
              "    animation:\n",
              "      spin 1s steps(1) infinite;\n",
              "  }\n",
              "\n",
              "  @keyframes spin {\n",
              "    0% {\n",
              "      border-color: transparent;\n",
              "      border-bottom-color: var(--fill-color);\n",
              "      border-left-color: var(--fill-color);\n",
              "    }\n",
              "    20% {\n",
              "      border-color: transparent;\n",
              "      border-left-color: var(--fill-color);\n",
              "      border-top-color: var(--fill-color);\n",
              "    }\n",
              "    30% {\n",
              "      border-color: transparent;\n",
              "      border-left-color: var(--fill-color);\n",
              "      border-top-color: var(--fill-color);\n",
              "      border-right-color: var(--fill-color);\n",
              "    }\n",
              "    40% {\n",
              "      border-color: transparent;\n",
              "      border-right-color: var(--fill-color);\n",
              "      border-top-color: var(--fill-color);\n",
              "    }\n",
              "    60% {\n",
              "      border-color: transparent;\n",
              "      border-right-color: var(--fill-color);\n",
              "    }\n",
              "    80% {\n",
              "      border-color: transparent;\n",
              "      border-right-color: var(--fill-color);\n",
              "      border-bottom-color: var(--fill-color);\n",
              "    }\n",
              "    90% {\n",
              "      border-color: transparent;\n",
              "      border-bottom-color: var(--fill-color);\n",
              "    }\n",
              "  }\n",
              "\u003c/style\u003e\n",
              "\n",
              "  \u003cscript\u003e\n",
              "    async function quickchart(key) {\n",
              "      const quickchartButtonEl =\n",
              "        document.querySelector('#' + key + ' button');\n",
              "      quickchartButtonEl.disabled = true;  // To prevent multiple clicks.\n",
              "      quickchartButtonEl.classList.add('colab-df-spinner');\n",
              "      try {\n",
              "        const charts = await google.colab.kernel.invokeFunction(\n",
              "            'suggestCharts', [key], {});\n",
              "      } catch (error) {\n",
              "        console.error('Error during call to suggestCharts:', error);\n",
              "      }\n",
              "      quickchartButtonEl.classList.remove('colab-df-spinner');\n",
              "      quickchartButtonEl.classList.add('colab-df-quickchart-complete');\n",
              "    }\n",
              "    (() =\u003e {\n",
              "      let quickchartButtonEl =\n",
              "        document.querySelector('#df-01f36f40-6efe-475f-b94f-566361978e03 button');\n",
              "      quickchartButtonEl.style.display =\n",
              "        google.colab.kernel.accessAllowed ? 'block' : 'none';\n",
              "    })();\n",
              "  \u003c/script\u003e\n",
              "\u003c/div\u003e\n",
              "    \u003c/div\u003e\n",
              "  \u003c/div\u003e\n"
            ],
            "text/plain": [
              "predicted_activity_level      \u003cWT    WT   \u003eWT  \u003e=A73R\n",
              "activity_level                                       \n",
              "non-functional              24596   511    53       6\n",
              "activity_greater_than_0       912  6705  1256     166\n",
              "activity_greater_than_WT      183   278  4408    1521\n",
              "activity_greater_than_A73R      2     1    63      91"
            ]
          },
          "execution_count": 12,
          "metadata": {},
          "output_type": "execute_result"
        }
      ],
      "source": [
        "pd.crosstab(g123_df['activity_level'], g123_df['predicted_activity_level']).loc[\n",
        "    list(constants.LANDSCAPE_ACTIVITY_LEVELS)\n",
        "][list(cnn_model.OUTPUT_CLASSES)]"
      ]
    }
  ],
  "metadata": {
    "colab": {
      "last_runtime": {
        "build_target": "//learning/brain/research/sequin/colab:xm_colab",
        "kind": "private"
      },
      "provenance": [
        {
          "file_id": "1Lb1GcQfXpkZmV8lOMhj9jB7U8_OZlTyN",
          "timestamp": 1703183889719
        }
      ]
    },
    "kernelspec": {
      "display_name": "Python 3",
      "name": "python3"
    },
    "language_info": {
      "name": "python"
    }
  },
  "nbformat": 4,
  "nbformat_minor": 0
}
